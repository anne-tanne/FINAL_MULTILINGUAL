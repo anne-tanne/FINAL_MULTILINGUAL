{
 "cells": [
  {
   "cell_type": "code",
   "execution_count": 38,
   "id": "cbd7b212",
   "metadata": {},
   "outputs": [],
   "source": [
    "import pandas as pd\n",
    "import plotly.express as px"
   ]
  },
  {
   "cell_type": "code",
   "execution_count": 53,
   "id": "f841a36f",
   "metadata": {},
   "outputs": [],
   "source": [
    "df_city_count_data = pd.read_csv('data/df_city_count_data.csv')\n",
    "df_country_count_data = pd.read_csv('data/df_translated_country_count_data.csv')\n",
    "df_german = pd.read_csv('data/df_german_with_mentions.csv')\n",
    "df_countries_german = pd.read_csv('inputdata/df_countries_german_with_capital_and_coordinates.csv')\n",
    "df_cities_german = pd.read_csv('inputdata/df_cities_german_with_coordinates.csv')"
   ]
  },
  {
   "cell_type": "code",
   "execution_count": 54,
   "id": "62d76509",
   "metadata": {},
   "outputs": [
    {
     "data": {
      "text/html": [
       "<div>\n",
       "<style scoped>\n",
       "    .dataframe tbody tr th:only-of-type {\n",
       "        vertical-align: middle;\n",
       "    }\n",
       "\n",
       "    .dataframe tbody tr th {\n",
       "        vertical-align: top;\n",
       "    }\n",
       "\n",
       "    .dataframe thead th {\n",
       "        text-align: right;\n",
       "    }\n",
       "</style>\n",
       "<table border=\"1\" class=\"dataframe\">\n",
       "  <thead>\n",
       "    <tr style=\"text-align: right;\">\n",
       "      <th></th>\n",
       "      <th>GermanName</th>\n",
       "      <th>Count</th>\n",
       "      <th>Coordinates</th>\n",
       "      <th>Longitude</th>\n",
       "      <th>Latitude</th>\n",
       "      <th>ISO2</th>\n",
       "      <th>ISO3</th>\n",
       "      <th>EnglishName</th>\n",
       "      <th>CapitalNameGerman</th>\n",
       "    </tr>\n",
       "  </thead>\n",
       "  <tbody>\n",
       "    <tr>\n",
       "      <th>0</th>\n",
       "      <td>Schweiz</td>\n",
       "      <td>315</td>\n",
       "      <td>(46.946416, 7.396394)</td>\n",
       "      <td>7.396394</td>\n",
       "      <td>46.946416</td>\n",
       "      <td>CH</td>\n",
       "      <td>CHE</td>\n",
       "      <td>Switzerland</td>\n",
       "      <td>Bern</td>\n",
       "    </tr>\n",
       "    <tr>\n",
       "      <th>1</th>\n",
       "      <td>Deutschland</td>\n",
       "      <td>69</td>\n",
       "      <td>(52.524932, 13.407032)</td>\n",
       "      <td>13.407032</td>\n",
       "      <td>52.524932</td>\n",
       "      <td>DE</td>\n",
       "      <td>DEU</td>\n",
       "      <td>Germany</td>\n",
       "      <td>Berlin</td>\n",
       "    </tr>\n",
       "    <tr>\n",
       "      <th>2</th>\n",
       "      <td>Israel</td>\n",
       "      <td>49</td>\n",
       "      <td>(31.759595, 35.215315)</td>\n",
       "      <td>35.215315</td>\n",
       "      <td>31.759595</td>\n",
       "      <td>IL</td>\n",
       "      <td>ISR</td>\n",
       "      <td>Israel</td>\n",
       "      <td>Jerusalem</td>\n",
       "    </tr>\n",
       "    <tr>\n",
       "      <th>3</th>\n",
       "      <td>Italien</td>\n",
       "      <td>34</td>\n",
       "      <td>(41.878243, 12.528091)</td>\n",
       "      <td>12.528091</td>\n",
       "      <td>41.878243</td>\n",
       "      <td>IT</td>\n",
       "      <td>ITA</td>\n",
       "      <td>Italy</td>\n",
       "      <td>Rom</td>\n",
       "    </tr>\n",
       "    <tr>\n",
       "      <th>4</th>\n",
       "      <td>Frankreich</td>\n",
       "      <td>32</td>\n",
       "      <td>(48.858705, 2.342865)</td>\n",
       "      <td>2.342865</td>\n",
       "      <td>48.858705</td>\n",
       "      <td>FR</td>\n",
       "      <td>FRA</td>\n",
       "      <td>France</td>\n",
       "      <td>Paris</td>\n",
       "    </tr>\n",
       "    <tr>\n",
       "      <th>...</th>\n",
       "      <td>...</td>\n",
       "      <td>...</td>\n",
       "      <td>...</td>\n",
       "      <td>...</td>\n",
       "      <td>...</td>\n",
       "      <td>...</td>\n",
       "      <td>...</td>\n",
       "      <td>...</td>\n",
       "      <td>...</td>\n",
       "    </tr>\n",
       "    <tr>\n",
       "      <th>98</th>\n",
       "      <td>Sudan</td>\n",
       "      <td>1</td>\n",
       "      <td>(15.55177, 32.53241)</td>\n",
       "      <td>32.532410</td>\n",
       "      <td>15.551770</td>\n",
       "      <td>SD</td>\n",
       "      <td>SDN</td>\n",
       "      <td>Sudan</td>\n",
       "      <td>Khartum</td>\n",
       "    </tr>\n",
       "    <tr>\n",
       "      <th>99</th>\n",
       "      <td>Mosambik</td>\n",
       "      <td>1</td>\n",
       "      <td>(-25.96553, 32.58322)</td>\n",
       "      <td>32.583220</td>\n",
       "      <td>-25.965530</td>\n",
       "      <td>MZ</td>\n",
       "      <td>MOZ</td>\n",
       "      <td>Mozambique</td>\n",
       "      <td>Maputo</td>\n",
       "    </tr>\n",
       "    <tr>\n",
       "      <th>100</th>\n",
       "      <td>Lettland</td>\n",
       "      <td>1</td>\n",
       "      <td>(56.971149, 24.142749)</td>\n",
       "      <td>24.142749</td>\n",
       "      <td>56.971149</td>\n",
       "      <td>LV</td>\n",
       "      <td>LVA</td>\n",
       "      <td>Latvia</td>\n",
       "      <td>Riga</td>\n",
       "    </tr>\n",
       "    <tr>\n",
       "      <th>101</th>\n",
       "      <td>Mazedonien</td>\n",
       "      <td>1</td>\n",
       "      <td>(42.00122, 21.42878)</td>\n",
       "      <td>21.428780</td>\n",
       "      <td>42.001220</td>\n",
       "      <td>MK</td>\n",
       "      <td>MKD</td>\n",
       "      <td>North Macedonia</td>\n",
       "      <td>Skopje</td>\n",
       "    </tr>\n",
       "    <tr>\n",
       "      <th>102</th>\n",
       "      <td>Kongo, Demokratische Republik</td>\n",
       "      <td>1</td>\n",
       "      <td>(-4.32142, 15.30807)</td>\n",
       "      <td>15.308070</td>\n",
       "      <td>-4.321420</td>\n",
       "      <td>CD</td>\n",
       "      <td>COD</td>\n",
       "      <td>Congo, Democratic Republic of the</td>\n",
       "      <td>Kinshasa</td>\n",
       "    </tr>\n",
       "  </tbody>\n",
       "</table>\n",
       "<p>103 rows × 9 columns</p>\n",
       "</div>"
      ],
      "text/plain": [
       "                        GermanName  Count             Coordinates  Longitude  \\\n",
       "0                          Schweiz    315   (46.946416, 7.396394)   7.396394   \n",
       "1                      Deutschland     69  (52.524932, 13.407032)  13.407032   \n",
       "2                           Israel     49  (31.759595, 35.215315)  35.215315   \n",
       "3                          Italien     34  (41.878243, 12.528091)  12.528091   \n",
       "4                       Frankreich     32   (48.858705, 2.342865)   2.342865   \n",
       "..                             ...    ...                     ...        ...   \n",
       "98                           Sudan      1    (15.55177, 32.53241)  32.532410   \n",
       "99                        Mosambik      1   (-25.96553, 32.58322)  32.583220   \n",
       "100                       Lettland      1  (56.971149, 24.142749)  24.142749   \n",
       "101                     Mazedonien      1    (42.00122, 21.42878)  21.428780   \n",
       "102  Kongo, Demokratische Republik      1    (-4.32142, 15.30807)  15.308070   \n",
       "\n",
       "      Latitude ISO2 ISO3                        EnglishName CapitalNameGerman  \n",
       "0    46.946416   CH  CHE                        Switzerland              Bern  \n",
       "1    52.524932   DE  DEU                            Germany            Berlin  \n",
       "2    31.759595   IL  ISR                             Israel         Jerusalem  \n",
       "3    41.878243   IT  ITA                              Italy               Rom  \n",
       "4    48.858705   FR  FRA                             France             Paris  \n",
       "..         ...  ...  ...                                ...               ...  \n",
       "98   15.551770   SD  SDN                              Sudan           Khartum  \n",
       "99  -25.965530   MZ  MOZ                         Mozambique            Maputo  \n",
       "100  56.971149   LV  LVA                             Latvia              Riga  \n",
       "101  42.001220   MK  MKD                    North Macedonia            Skopje  \n",
       "102  -4.321420   CD  COD  Congo, Democratic Republic of the          Kinshasa  \n",
       "\n",
       "[103 rows x 9 columns]"
      ]
     },
     "execution_count": 54,
     "metadata": {},
     "output_type": "execute_result"
    }
   ],
   "source": [
    "df_country_count_data"
   ]
  },
  {
   "cell_type": "code",
   "execution_count": 55,
   "id": "ffa236eb",
   "metadata": {},
   "outputs": [
    {
     "data": {
      "application/vnd.plotly.v1+json": {
       "config": {
        "plotlyServerURL": "https://plot.ly"
       },
       "data": [
        {
         "coloraxis": "coloraxis",
         "customdata": [
          [
           "Schweiz",
           "Bern",
           315
          ],
          [
           "Deutschland",
           "Berlin",
           69
          ],
          [
           "Israel",
           "Jerusalem",
           49
          ],
          [
           "Italien",
           "Rom",
           34
          ],
          [
           "Frankreich",
           "Paris",
           32
          ],
          [
           "Ukraine",
           "Kiew",
           20
          ],
          [
           "Brasilien",
           "Brasília",
           19
          ],
          [
           "Spanien",
           "Madrid",
           17
          ],
          [
           "Österreich",
           "Wien",
           17
          ],
          [
           "Türkei",
           "Ankara",
           14
          ],
          [
           "Japan",
           "Tokio",
           12
          ],
          [
           "Australien",
           "Canberra",
           12
          ],
          [
           "Vereinigtes Königreich",
           "London",
           12
          ],
          [
           "Kosovo",
           "Priština",
           12
          ],
          [
           "Kosovo",
           "Pristina",
           12
          ],
          [
           "Katar",
           "Doha",
           10
          ],
          [
           "Argentinien",
           "Buenos Aires",
           9
          ],
          [
           "Portugal",
           "Lissabon",
           9
          ],
          [
           "Schweden",
           "Stockholm",
           9
          ],
          [
           "Russland",
           "Moskau",
           9
          ],
          [
           "Dänemark",
           "Kopenhagen",
           9
          ],
          [
           "Iran",
           "Teheran",
           9
          ],
          [
           "Rumänien",
           "Bukarest",
           8
          ],
          [
           "Mexiko",
           "Mexiko-Stadt",
           7
          ],
          [
           "Ägypten",
           "Kairo",
           7
          ],
          [
           "Belgien",
           "Brüssel",
           7
          ],
          [
           "Thailand",
           "Bangkok",
           7
          ],
          [
           "Irland",
           "Dublin",
           6
          ],
          [
           "China (Volksrepublik)",
           "Peking",
           6
          ],
          [
           "Ungarn",
           "Budapest",
           6
          ],
          [
           "Albanien",
           "Tirana",
           5
          ],
          [
           "Griechenland",
           "Athen",
           5
          ],
          [
           "Bahamas",
           "Nassau",
           5
          ],
          [
           "Norwegen",
           "Oslo",
           5
          ],
          [
           "Kanada",
           "Ottawa",
           5
          ],
          [
           "Indien",
           "Neu-Delhi",
           5
          ],
          [
           "Polen",
           "Warschau",
           5
          ],
          [
           "Afghanistan",
           "Kabul",
           5
          ],
          [
           "Slowenien",
           "Ljubljana (Laibach)",
           5
          ],
          [
           "Serbien",
           "Belgrad",
           4
          ],
          [
           "Tschechien",
           "Prag",
           4
          ],
          [
           "Palästina",
           "Ostjerusalem",
           4
          ],
          [
           "Palästina",
           "Ramallah",
           4
          ],
          [
           "Neuseeland",
           "Wellington",
           4
          ],
          [
           "Taiwan",
           "Taipeh",
           4
          ],
          [
           "Zypern",
           "Nikosia",
           4
          ],
          [
           "Bulgarien",
           "Sofia",
           3
          ],
          [
           "Indonesien",
           "Jakarta",
           3
          ],
          [
           "Syrien",
           "Damaskus",
           3
          ],
          [
           "Kroatien",
           "Zagreb (Agram)",
           3
          ],
          [
           "Philippinen",
           "Manila",
           3
          ],
          [
           "Luxemburg",
           "Luxemburg",
           3
          ],
          [
           "Eritrea",
           "Asmara",
           3
          ],
          [
           "Island",
           "Reykjavík",
           3
          ],
          [
           "Jemen",
           "Sanaa",
           3
          ],
          [
           "Niederlande (offiziell)",
           "Amsterdam",
           3
          ],
          [
           "Uruguay",
           "Montevideo",
           3
          ],
          [
           "Kolumbien",
           "Bogotá",
           3
          ],
          [
           "Irak",
           "Bagdad",
           2
          ],
          [
           "Libyen",
           "Tripolis",
           2
          ],
          [
           "Ghana",
           "Accra",
           2
          ],
          [
           "Estland",
           "Tallinn (Reval)",
           2
          ],
          [
           "Sri Lanka",
           "Colombo",
           2
          ],
          [
           "Vietnam",
           "Hanoi",
           2
          ],
          [
           "Malta",
           "Valletta",
           2
          ],
          [
           "Nepal",
           "Kathmandu",
           2
          ],
          [
           "Ruanda",
           "Kigali",
           2
          ],
          [
           "Singapur",
           "Singapur",
           2
          ],
          [
           "Andorra",
           "Andorra la Vella",
           2
          ],
          [
           "Liechtenstein",
           "Vaduz",
           2
          ],
          [
           "Monaco",
           "Monaco",
           2
          ],
          [
           "Kuba",
           "Havanna",
           2
          ],
          [
           "Kasachstan",
           "Astana",
           2
          ],
          [
           "Finnland",
           "Helsinki",
           2
          ],
          [
           "Guatemala",
           "Guatemala-Stadt",
           2
          ],
          [
           "Tunesien",
           "Tunis",
           1
          ],
          [
           "Oman",
           "Maskat",
           1
          ],
          [
           "Äthiopien",
           "Addis Abeba",
           1
          ],
          [
           "Madagaskar",
           "Antananarivo",
           1
          ],
          [
           "Sierra Leone",
           "Freetown",
           1
          ],
          [
           "Panama",
           "Panama-Stadt",
           1
          ],
          [
           "Slowakei",
           "Bratislava (Pressburg)",
           1
          ],
          [
           "Venezuela",
           "Caracas",
           1
          ],
          [
           "Aserbaidschan",
           "Baku",
           1
          ],
          [
           "Bosnien und Herzegowina",
           "Sarajevo",
           1
          ],
          [
           "Saudi-Arabien",
           "Riad",
           1
          ],
          [
           "Niederlande (Regierungssitz)",
           "Den Haag",
           1
          ],
          [
           "Armenien",
           "Jerewan",
           1
          ],
          [
           "Seychellen",
           "Victoria",
           1
          ],
          [
           "San Marino",
           "San Marino",
           1
          ],
          [
           "Südafrika",
           "Pretoria (Tshwane)",
           1
          ],
          [
           "Tuvalu",
           "Funafuti",
           1
          ],
          [
           "Marokko",
           "Rabat",
           1
          ],
          [
           "Somalia",
           "Mogadischu",
           1
          ],
          [
           "Liberia",
           "Monrovia",
           1
          ],
          [
           "Costa Rica",
           "San José",
           1
          ],
          [
           "Malediven",
           "Malé",
           1
          ],
          [
           "Vereinigte Arabische Emirate",
           "Abu Dhabi",
           1
          ],
          [
           "Sudan",
           "Khartum",
           1
          ],
          [
           "Mosambik",
           "Maputo",
           1
          ],
          [
           "Lettland",
           "Riga",
           1
          ],
          [
           "Mazedonien",
           "Skopje",
           1
          ],
          [
           "Kongo, Demokratische Republik",
           "Kinshasa",
           1
          ]
         ],
         "geo": "geo",
         "hovertemplate": "<b>%{hovertext}</b><br><br>ISO3=%{location}<br>GermanName=%{customdata[0]}<br>CapitalNameGerman=%{customdata[1]}<br>Count=%{z}<extra></extra>",
         "hovertext": [
          "Switzerland",
          "Germany",
          "Israel",
          "Italy",
          "France",
          "Ukraine",
          "Brazil",
          "Spain",
          "Austria",
          "Turkey",
          "Japan",
          "Australia",
          "United Kingdom of Great Britain and Northern Ireland",
          null,
          null,
          "Qatar",
          "Argentina",
          "Portugal",
          "Sweden",
          "Russian Federation",
          "Denmark",
          "Iran (Islamic Republic of)",
          "Romania",
          "Mexico",
          "Egypt",
          "Belgium",
          "Thailand",
          "Ireland",
          "China",
          "Hungary",
          "Albania",
          "Greece",
          "Bahamas",
          "Norway",
          "Canada",
          "India",
          "Poland",
          "Afghanistan",
          "Slovenia",
          "Serbia",
          "Czechia",
          "Palestine, State of",
          "Palestine, State of",
          "New Zealand",
          "Taiwan, Province of China",
          "Cyprus",
          "Bulgaria",
          "Indonesia",
          "Syrian Arab Republic",
          "Croatia",
          "Philippines",
          "Luxembourg",
          "Eritrea",
          "Iceland",
          "Yemen",
          "Netherlands",
          "Uruguay",
          "Colombia",
          "Iraq",
          "Libya",
          "Ghana",
          "Estonia",
          "Sri Lanka",
          "Viet Nam",
          "Malta",
          "Nepal",
          "Rwanda",
          "Singapore",
          "Andorra",
          "Liechtenstein",
          "Monaco",
          "Cuba",
          "Kazakhstan",
          "Finland",
          "Guatemala",
          "Tunisia",
          "Oman",
          "Ethiopia",
          "Madagascar",
          "Sierra Leone",
          "Panama",
          "Slovakia",
          "Venezuela (Bolivarian Republic of)",
          "Azerbaijan",
          "Bosnia and Herzegovina",
          "Saudi Arabia",
          "Netherlands",
          "Armenia",
          "Seychelles",
          "San Marino",
          "South Africa",
          "Tuvalu",
          "Morocco",
          "Somalia",
          "Liberia",
          "Costa Rica",
          "Maldives",
          "United Arab Emirates",
          "Sudan",
          "Mozambique",
          "Latvia",
          "North Macedonia",
          "Congo, Democratic Republic of the"
         ],
         "locations": [
          "CHE",
          "DEU",
          "ISR",
          "ITA",
          "FRA",
          "UKR",
          "BRA",
          "ESP",
          "AUT",
          "TUR",
          "JPN",
          "AUS",
          "GBR",
          null,
          null,
          "QAT",
          "ARG",
          "PRT",
          "SWE",
          "RUS",
          "DNK",
          "IRN",
          "ROU",
          "MEX",
          "EGY",
          "BEL",
          "THA",
          "IRL",
          "CHN",
          "HUN",
          "ALB",
          "GRC",
          "BHS",
          "NOR",
          "CAN",
          "IND",
          "POL",
          "AFG",
          "SVN",
          "SRB",
          "CZE",
          "PSE",
          "PSE",
          "NZL",
          "TWN",
          "CYP",
          "BGR",
          "IDN",
          "SYR",
          "HRV",
          "PHL",
          "LUX",
          "ERI",
          "ISL",
          "YEM",
          "NLD",
          "URY",
          "COL",
          "IRQ",
          "LBY",
          "GHA",
          "EST",
          "LKA",
          "VNM",
          "MLT",
          "NPL",
          "RWA",
          "SGP",
          "AND",
          "LIE",
          "MCO",
          "CUB",
          "KAZ",
          "FIN",
          "GTM",
          "TUN",
          "OMN",
          "ETH",
          "MDG",
          "SLE",
          "PAN",
          "SVK",
          "VEN",
          "AZE",
          "BIH",
          "SAU",
          "NLD",
          "ARM",
          "SYC",
          "SMR",
          "ZAF",
          "TUV",
          "MAR",
          "SOM",
          "LBR",
          "CRI",
          "MDV",
          "ARE",
          "SDN",
          "MOZ",
          "LVA",
          "MKD",
          "COD"
         ],
         "name": "",
         "type": "choropleth",
         "z": [
          315,
          69,
          49,
          34,
          32,
          20,
          19,
          17,
          17,
          14,
          12,
          12,
          12,
          12,
          12,
          10,
          9,
          9,
          9,
          9,
          9,
          9,
          8,
          7,
          7,
          7,
          7,
          6,
          6,
          6,
          5,
          5,
          5,
          5,
          5,
          5,
          5,
          5,
          5,
          4,
          4,
          4,
          4,
          4,
          4,
          4,
          3,
          3,
          3,
          3,
          3,
          3,
          3,
          3,
          3,
          3,
          3,
          3,
          2,
          2,
          2,
          2,
          2,
          2,
          2,
          2,
          2,
          2,
          2,
          2,
          2,
          2,
          2,
          2,
          2,
          1,
          1,
          1,
          1,
          1,
          1,
          1,
          1,
          1,
          1,
          1,
          1,
          1,
          1,
          1,
          1,
          1,
          1,
          1,
          1,
          1,
          1,
          1,
          1,
          1,
          1,
          1,
          1
         ]
        }
       ],
       "layout": {
        "coloraxis": {
         "colorbar": {
          "title": {
           "text": "Count"
          }
         },
         "colorscale": [
          [
           0,
           "#0d0887"
          ],
          [
           0.1111111111111111,
           "#46039f"
          ],
          [
           0.2222222222222222,
           "#7201a8"
          ],
          [
           0.3333333333333333,
           "#9c179e"
          ],
          [
           0.4444444444444444,
           "#bd3786"
          ],
          [
           0.5555555555555556,
           "#d8576b"
          ],
          [
           0.6666666666666666,
           "#ed7953"
          ],
          [
           0.7777777777777778,
           "#fb9f3a"
          ],
          [
           0.8888888888888888,
           "#fdca26"
          ],
          [
           1,
           "#f0f921"
          ]
         ]
        },
        "geo": {
         "center": {},
         "domain": {
          "x": [
           0,
           1
          ],
          "y": [
           0,
           1
          ]
         }
        },
        "legend": {
         "tracegroupgap": 0
        },
        "margin": {
         "t": 60
        },
        "template": {
         "data": {
          "bar": [
           {
            "error_x": {
             "color": "#2a3f5f"
            },
            "error_y": {
             "color": "#2a3f5f"
            },
            "marker": {
             "line": {
              "color": "#E5ECF6",
              "width": 0.5
             },
             "pattern": {
              "fillmode": "overlay",
              "size": 10,
              "solidity": 0.2
             }
            },
            "type": "bar"
           }
          ],
          "barpolar": [
           {
            "marker": {
             "line": {
              "color": "#E5ECF6",
              "width": 0.5
             },
             "pattern": {
              "fillmode": "overlay",
              "size": 10,
              "solidity": 0.2
             }
            },
            "type": "barpolar"
           }
          ],
          "carpet": [
           {
            "aaxis": {
             "endlinecolor": "#2a3f5f",
             "gridcolor": "white",
             "linecolor": "white",
             "minorgridcolor": "white",
             "startlinecolor": "#2a3f5f"
            },
            "baxis": {
             "endlinecolor": "#2a3f5f",
             "gridcolor": "white",
             "linecolor": "white",
             "minorgridcolor": "white",
             "startlinecolor": "#2a3f5f"
            },
            "type": "carpet"
           }
          ],
          "choropleth": [
           {
            "colorbar": {
             "outlinewidth": 0,
             "ticks": ""
            },
            "type": "choropleth"
           }
          ],
          "contour": [
           {
            "colorbar": {
             "outlinewidth": 0,
             "ticks": ""
            },
            "colorscale": [
             [
              0,
              "#0d0887"
             ],
             [
              0.1111111111111111,
              "#46039f"
             ],
             [
              0.2222222222222222,
              "#7201a8"
             ],
             [
              0.3333333333333333,
              "#9c179e"
             ],
             [
              0.4444444444444444,
              "#bd3786"
             ],
             [
              0.5555555555555556,
              "#d8576b"
             ],
             [
              0.6666666666666666,
              "#ed7953"
             ],
             [
              0.7777777777777778,
              "#fb9f3a"
             ],
             [
              0.8888888888888888,
              "#fdca26"
             ],
             [
              1,
              "#f0f921"
             ]
            ],
            "type": "contour"
           }
          ],
          "contourcarpet": [
           {
            "colorbar": {
             "outlinewidth": 0,
             "ticks": ""
            },
            "type": "contourcarpet"
           }
          ],
          "heatmap": [
           {
            "colorbar": {
             "outlinewidth": 0,
             "ticks": ""
            },
            "colorscale": [
             [
              0,
              "#0d0887"
             ],
             [
              0.1111111111111111,
              "#46039f"
             ],
             [
              0.2222222222222222,
              "#7201a8"
             ],
             [
              0.3333333333333333,
              "#9c179e"
             ],
             [
              0.4444444444444444,
              "#bd3786"
             ],
             [
              0.5555555555555556,
              "#d8576b"
             ],
             [
              0.6666666666666666,
              "#ed7953"
             ],
             [
              0.7777777777777778,
              "#fb9f3a"
             ],
             [
              0.8888888888888888,
              "#fdca26"
             ],
             [
              1,
              "#f0f921"
             ]
            ],
            "type": "heatmap"
           }
          ],
          "heatmapgl": [
           {
            "colorbar": {
             "outlinewidth": 0,
             "ticks": ""
            },
            "colorscale": [
             [
              0,
              "#0d0887"
             ],
             [
              0.1111111111111111,
              "#46039f"
             ],
             [
              0.2222222222222222,
              "#7201a8"
             ],
             [
              0.3333333333333333,
              "#9c179e"
             ],
             [
              0.4444444444444444,
              "#bd3786"
             ],
             [
              0.5555555555555556,
              "#d8576b"
             ],
             [
              0.6666666666666666,
              "#ed7953"
             ],
             [
              0.7777777777777778,
              "#fb9f3a"
             ],
             [
              0.8888888888888888,
              "#fdca26"
             ],
             [
              1,
              "#f0f921"
             ]
            ],
            "type": "heatmapgl"
           }
          ],
          "histogram": [
           {
            "marker": {
             "pattern": {
              "fillmode": "overlay",
              "size": 10,
              "solidity": 0.2
             }
            },
            "type": "histogram"
           }
          ],
          "histogram2d": [
           {
            "colorbar": {
             "outlinewidth": 0,
             "ticks": ""
            },
            "colorscale": [
             [
              0,
              "#0d0887"
             ],
             [
              0.1111111111111111,
              "#46039f"
             ],
             [
              0.2222222222222222,
              "#7201a8"
             ],
             [
              0.3333333333333333,
              "#9c179e"
             ],
             [
              0.4444444444444444,
              "#bd3786"
             ],
             [
              0.5555555555555556,
              "#d8576b"
             ],
             [
              0.6666666666666666,
              "#ed7953"
             ],
             [
              0.7777777777777778,
              "#fb9f3a"
             ],
             [
              0.8888888888888888,
              "#fdca26"
             ],
             [
              1,
              "#f0f921"
             ]
            ],
            "type": "histogram2d"
           }
          ],
          "histogram2dcontour": [
           {
            "colorbar": {
             "outlinewidth": 0,
             "ticks": ""
            },
            "colorscale": [
             [
              0,
              "#0d0887"
             ],
             [
              0.1111111111111111,
              "#46039f"
             ],
             [
              0.2222222222222222,
              "#7201a8"
             ],
             [
              0.3333333333333333,
              "#9c179e"
             ],
             [
              0.4444444444444444,
              "#bd3786"
             ],
             [
              0.5555555555555556,
              "#d8576b"
             ],
             [
              0.6666666666666666,
              "#ed7953"
             ],
             [
              0.7777777777777778,
              "#fb9f3a"
             ],
             [
              0.8888888888888888,
              "#fdca26"
             ],
             [
              1,
              "#f0f921"
             ]
            ],
            "type": "histogram2dcontour"
           }
          ],
          "mesh3d": [
           {
            "colorbar": {
             "outlinewidth": 0,
             "ticks": ""
            },
            "type": "mesh3d"
           }
          ],
          "parcoords": [
           {
            "line": {
             "colorbar": {
              "outlinewidth": 0,
              "ticks": ""
             }
            },
            "type": "parcoords"
           }
          ],
          "pie": [
           {
            "automargin": true,
            "type": "pie"
           }
          ],
          "scatter": [
           {
            "marker": {
             "colorbar": {
              "outlinewidth": 0,
              "ticks": ""
             }
            },
            "type": "scatter"
           }
          ],
          "scatter3d": [
           {
            "line": {
             "colorbar": {
              "outlinewidth": 0,
              "ticks": ""
             }
            },
            "marker": {
             "colorbar": {
              "outlinewidth": 0,
              "ticks": ""
             }
            },
            "type": "scatter3d"
           }
          ],
          "scattercarpet": [
           {
            "marker": {
             "colorbar": {
              "outlinewidth": 0,
              "ticks": ""
             }
            },
            "type": "scattercarpet"
           }
          ],
          "scattergeo": [
           {
            "marker": {
             "colorbar": {
              "outlinewidth": 0,
              "ticks": ""
             }
            },
            "type": "scattergeo"
           }
          ],
          "scattergl": [
           {
            "marker": {
             "colorbar": {
              "outlinewidth": 0,
              "ticks": ""
             }
            },
            "type": "scattergl"
           }
          ],
          "scattermapbox": [
           {
            "marker": {
             "colorbar": {
              "outlinewidth": 0,
              "ticks": ""
             }
            },
            "type": "scattermapbox"
           }
          ],
          "scatterpolar": [
           {
            "marker": {
             "colorbar": {
              "outlinewidth": 0,
              "ticks": ""
             }
            },
            "type": "scatterpolar"
           }
          ],
          "scatterpolargl": [
           {
            "marker": {
             "colorbar": {
              "outlinewidth": 0,
              "ticks": ""
             }
            },
            "type": "scatterpolargl"
           }
          ],
          "scatterternary": [
           {
            "marker": {
             "colorbar": {
              "outlinewidth": 0,
              "ticks": ""
             }
            },
            "type": "scatterternary"
           }
          ],
          "surface": [
           {
            "colorbar": {
             "outlinewidth": 0,
             "ticks": ""
            },
            "colorscale": [
             [
              0,
              "#0d0887"
             ],
             [
              0.1111111111111111,
              "#46039f"
             ],
             [
              0.2222222222222222,
              "#7201a8"
             ],
             [
              0.3333333333333333,
              "#9c179e"
             ],
             [
              0.4444444444444444,
              "#bd3786"
             ],
             [
              0.5555555555555556,
              "#d8576b"
             ],
             [
              0.6666666666666666,
              "#ed7953"
             ],
             [
              0.7777777777777778,
              "#fb9f3a"
             ],
             [
              0.8888888888888888,
              "#fdca26"
             ],
             [
              1,
              "#f0f921"
             ]
            ],
            "type": "surface"
           }
          ],
          "table": [
           {
            "cells": {
             "fill": {
              "color": "#EBF0F8"
             },
             "line": {
              "color": "white"
             }
            },
            "header": {
             "fill": {
              "color": "#C8D4E3"
             },
             "line": {
              "color": "white"
             }
            },
            "type": "table"
           }
          ]
         },
         "layout": {
          "annotationdefaults": {
           "arrowcolor": "#2a3f5f",
           "arrowhead": 0,
           "arrowwidth": 1
          },
          "autotypenumbers": "strict",
          "coloraxis": {
           "colorbar": {
            "outlinewidth": 0,
            "ticks": ""
           }
          },
          "colorscale": {
           "diverging": [
            [
             0,
             "#8e0152"
            ],
            [
             0.1,
             "#c51b7d"
            ],
            [
             0.2,
             "#de77ae"
            ],
            [
             0.3,
             "#f1b6da"
            ],
            [
             0.4,
             "#fde0ef"
            ],
            [
             0.5,
             "#f7f7f7"
            ],
            [
             0.6,
             "#e6f5d0"
            ],
            [
             0.7,
             "#b8e186"
            ],
            [
             0.8,
             "#7fbc41"
            ],
            [
             0.9,
             "#4d9221"
            ],
            [
             1,
             "#276419"
            ]
           ],
           "sequential": [
            [
             0,
             "#0d0887"
            ],
            [
             0.1111111111111111,
             "#46039f"
            ],
            [
             0.2222222222222222,
             "#7201a8"
            ],
            [
             0.3333333333333333,
             "#9c179e"
            ],
            [
             0.4444444444444444,
             "#bd3786"
            ],
            [
             0.5555555555555556,
             "#d8576b"
            ],
            [
             0.6666666666666666,
             "#ed7953"
            ],
            [
             0.7777777777777778,
             "#fb9f3a"
            ],
            [
             0.8888888888888888,
             "#fdca26"
            ],
            [
             1,
             "#f0f921"
            ]
           ],
           "sequentialminus": [
            [
             0,
             "#0d0887"
            ],
            [
             0.1111111111111111,
             "#46039f"
            ],
            [
             0.2222222222222222,
             "#7201a8"
            ],
            [
             0.3333333333333333,
             "#9c179e"
            ],
            [
             0.4444444444444444,
             "#bd3786"
            ],
            [
             0.5555555555555556,
             "#d8576b"
            ],
            [
             0.6666666666666666,
             "#ed7953"
            ],
            [
             0.7777777777777778,
             "#fb9f3a"
            ],
            [
             0.8888888888888888,
             "#fdca26"
            ],
            [
             1,
             "#f0f921"
            ]
           ]
          },
          "colorway": [
           "#636efa",
           "#EF553B",
           "#00cc96",
           "#ab63fa",
           "#FFA15A",
           "#19d3f3",
           "#FF6692",
           "#B6E880",
           "#FF97FF",
           "#FECB52"
          ],
          "font": {
           "color": "#2a3f5f"
          },
          "geo": {
           "bgcolor": "white",
           "lakecolor": "white",
           "landcolor": "#E5ECF6",
           "showlakes": true,
           "showland": true,
           "subunitcolor": "white"
          },
          "hoverlabel": {
           "align": "left"
          },
          "hovermode": "closest",
          "mapbox": {
           "style": "light"
          },
          "paper_bgcolor": "white",
          "plot_bgcolor": "#E5ECF6",
          "polar": {
           "angularaxis": {
            "gridcolor": "white",
            "linecolor": "white",
            "ticks": ""
           },
           "bgcolor": "#E5ECF6",
           "radialaxis": {
            "gridcolor": "white",
            "linecolor": "white",
            "ticks": ""
           }
          },
          "scene": {
           "xaxis": {
            "backgroundcolor": "#E5ECF6",
            "gridcolor": "white",
            "gridwidth": 2,
            "linecolor": "white",
            "showbackground": true,
            "ticks": "",
            "zerolinecolor": "white"
           },
           "yaxis": {
            "backgroundcolor": "#E5ECF6",
            "gridcolor": "white",
            "gridwidth": 2,
            "linecolor": "white",
            "showbackground": true,
            "ticks": "",
            "zerolinecolor": "white"
           },
           "zaxis": {
            "backgroundcolor": "#E5ECF6",
            "gridcolor": "white",
            "gridwidth": 2,
            "linecolor": "white",
            "showbackground": true,
            "ticks": "",
            "zerolinecolor": "white"
           }
          },
          "shapedefaults": {
           "line": {
            "color": "#2a3f5f"
           }
          },
          "ternary": {
           "aaxis": {
            "gridcolor": "white",
            "linecolor": "white",
            "ticks": ""
           },
           "baxis": {
            "gridcolor": "white",
            "linecolor": "white",
            "ticks": ""
           },
           "bgcolor": "#E5ECF6",
           "caxis": {
            "gridcolor": "white",
            "linecolor": "white",
            "ticks": ""
           }
          },
          "title": {
           "x": 0.05
          },
          "xaxis": {
           "automargin": true,
           "gridcolor": "white",
           "linecolor": "white",
           "ticks": "",
           "title": {
            "standoff": 15
           },
           "zerolinecolor": "white",
           "zerolinewidth": 2
          },
          "yaxis": {
           "automargin": true,
           "gridcolor": "white",
           "linecolor": "white",
           "ticks": "",
           "title": {
            "standoff": 15
           },
           "zerolinecolor": "white",
           "zerolinewidth": 2
          }
         }
        }
       }
      },
      "text/html": [
       "<div>                            <div id=\"9809590c-3c4b-4ed1-a85d-0bc98dc777b4\" class=\"plotly-graph-div\" style=\"height:525px; width:100%;\"></div>            <script type=\"text/javascript\">                require([\"plotly\"], function(Plotly) {                    window.PLOTLYENV=window.PLOTLYENV || {};                                    if (document.getElementById(\"9809590c-3c4b-4ed1-a85d-0bc98dc777b4\")) {                    Plotly.newPlot(                        \"9809590c-3c4b-4ed1-a85d-0bc98dc777b4\",                        [{\"coloraxis\":\"coloraxis\",\"customdata\":[[\"Schweiz\",\"Bern\",315],[\"Deutschland\",\"Berlin\",69],[\"Israel\",\"Jerusalem\",49],[\"Italien\",\"Rom\",34],[\"Frankreich\",\"Paris\",32],[\"Ukraine\",\"Kiew\",20],[\"Brasilien\",\"Bras\\u00edlia\",19],[\"Spanien\",\"Madrid\",17],[\"\\u00d6sterreich\",\"Wien\",17],[\"T\\u00fcrkei\",\"Ankara\",14],[\"Japan\",\"Tokio\",12],[\"Australien\",\"Canberra\",12],[\"Vereinigtes K\\u00f6nigreich\",\"London\",12],[\"Kosovo\",\"Pri\\u0161tina\",12],[\"Kosovo\",\"Pristina\",12],[\"Katar\",\"Doha\",10],[\"Argentinien\",\"Buenos Aires\",9],[\"Portugal\",\"Lissabon\",9],[\"Schweden\",\"Stockholm\",9],[\"Russland\",\"Moskau\",9],[\"D\\u00e4nemark\",\"Kopenhagen\",9],[\"Iran\",\"Teheran\",9],[\"Rum\\u00e4nien\",\"Bukarest\",8],[\"Mexiko\",\"Mexiko-Stadt\",7],[\"\\u00c4gypten\",\"Kairo\",7],[\"Belgien\",\"Br\\u00fcssel\",7],[\"Thailand\",\"Bangkok\",7],[\"Irland\",\"Dublin\",6],[\"China (Volksrepublik)\",\"Peking\",6],[\"Ungarn\",\"Budapest\",6],[\"Albanien\",\"Tirana\",5],[\"Griechenland\",\"Athen\",5],[\"Bahamas\",\"Nassau\",5],[\"Norwegen\",\"Oslo\",5],[\"Kanada\",\"Ottawa\",5],[\"Indien\",\"Neu-Delhi\",5],[\"Polen\",\"Warschau\",5],[\"Afghanistan\",\"Kabul\",5],[\"Slowenien\",\"Ljubljana (Laibach)\",5],[\"Serbien\",\"Belgrad\",4],[\"Tschechien\",\"Prag\",4],[\"Pal\\u00e4stina\",\"Ostjerusalem\",4],[\"Pal\\u00e4stina\",\"Ramallah\",4],[\"Neuseeland\",\"Wellington\",4],[\"Taiwan\",\"Taipeh\",4],[\"Zypern\",\"Nikosia\",4],[\"Bulgarien\",\"Sofia\",3],[\"Indonesien\",\"Jakarta\",3],[\"Syrien\",\"Damaskus\",3],[\"Kroatien\",\"Zagreb (Agram)\",3],[\"Philippinen\",\"Manila\",3],[\"Luxemburg\",\"Luxemburg\",3],[\"Eritrea\",\"Asmara\",3],[\"Island\",\"Reykjav\\u00edk\",3],[\"Jemen\",\"Sanaa\",3],[\"Niederlande (offiziell)\",\"Amsterdam\",3],[\"Uruguay\",\"Montevideo\",3],[\"Kolumbien\",\"Bogot\\u00e1\",3],[\"Irak\",\"Bagdad\",2],[\"Libyen\",\"Tripolis\",2],[\"Ghana\",\"Accra\",2],[\"Estland\",\"Tallinn (Reval)\",2],[\"Sri Lanka\",\"Colombo\",2],[\"Vietnam\",\"Hanoi\",2],[\"Malta\",\"Valletta\",2],[\"Nepal\",\"Kathmandu\",2],[\"Ruanda\",\"Kigali\",2],[\"Singapur\",\"Singapur\",2],[\"Andorra\",\"Andorra la Vella\",2],[\"Liechtenstein\",\"Vaduz\",2],[\"Monaco\",\"Monaco\",2],[\"Kuba\",\"Havanna\",2],[\"Kasachstan\",\"Astana\",2],[\"Finnland\",\"Helsinki\",2],[\"Guatemala\",\"Guatemala-Stadt\",2],[\"Tunesien\",\"Tunis\",1],[\"Oman\",\"Maskat\",1],[\"\\u00c4thiopien\",\"Addis Abeba\",1],[\"Madagaskar\",\"Antananarivo\",1],[\"Sierra Leone\",\"Freetown\",1],[\"Panama\",\"Panama-Stadt\",1],[\"Slowakei\",\"Bratislava (Pressburg)\",1],[\"Venezuela\",\"Caracas\",1],[\"Aserbaidschan\",\"Baku\",1],[\"Bosnien und Herzegowina\",\"Sarajevo\",1],[\"Saudi-Arabien\",\"Riad\",1],[\"Niederlande (Regierungssitz)\",\"Den Haag\",1],[\"Armenien\",\"Jerewan\",1],[\"Seychellen\",\"Victoria\",1],[\"San Marino\",\"San Marino\",1],[\"S\\u00fcdafrika\",\"Pretoria (Tshwane)\",1],[\"Tuvalu\",\"Funafuti\",1],[\"Marokko\",\"Rabat\",1],[\"Somalia\",\"Mogadischu\",1],[\"Liberia\",\"Monrovia\",1],[\"Costa Rica\",\"San Jos\\u00e9\",1],[\"Malediven\",\"Mal\\u00e9\",1],[\"Vereinigte Arabische Emirate\",\"Abu Dhabi\",1],[\"Sudan\",\"Khartum\",1],[\"Mosambik\",\"Maputo\",1],[\"Lettland\",\"Riga\",1],[\"Mazedonien\",\"Skopje\",1],[\"Kongo, Demokratische Republik\",\"Kinshasa\",1]],\"geo\":\"geo\",\"hovertemplate\":\"<b>%{hovertext}</b><br><br>ISO3=%{location}<br>GermanName=%{customdata[0]}<br>CapitalNameGerman=%{customdata[1]}<br>Count=%{z}<extra></extra>\",\"hovertext\":[\"Switzerland\",\"Germany\",\"Israel\",\"Italy\",\"France\",\"Ukraine\",\"Brazil\",\"Spain\",\"Austria\",\"Turkey\",\"Japan\",\"Australia\",\"United Kingdom of Great Britain and Northern Ireland\",null,null,\"Qatar\",\"Argentina\",\"Portugal\",\"Sweden\",\"Russian Federation\",\"Denmark\",\"Iran (Islamic Republic of)\",\"Romania\",\"Mexico\",\"Egypt\",\"Belgium\",\"Thailand\",\"Ireland\",\"China\",\"Hungary\",\"Albania\",\"Greece\",\"Bahamas\",\"Norway\",\"Canada\",\"India\",\"Poland\",\"Afghanistan\",\"Slovenia\",\"Serbia\",\"Czechia\",\"Palestine, State of\",\"Palestine, State of\",\"New Zealand\",\"Taiwan, Province of China\",\"Cyprus\",\"Bulgaria\",\"Indonesia\",\"Syrian Arab Republic\",\"Croatia\",\"Philippines\",\"Luxembourg\",\"Eritrea\",\"Iceland\",\"Yemen\",\"Netherlands\",\"Uruguay\",\"Colombia\",\"Iraq\",\"Libya\",\"Ghana\",\"Estonia\",\"Sri Lanka\",\"Viet Nam\",\"Malta\",\"Nepal\",\"Rwanda\",\"Singapore\",\"Andorra\",\"Liechtenstein\",\"Monaco\",\"Cuba\",\"Kazakhstan\",\"Finland\",\"Guatemala\",\"Tunisia\",\"Oman\",\"Ethiopia\",\"Madagascar\",\"Sierra Leone\",\"Panama\",\"Slovakia\",\"Venezuela (Bolivarian Republic of)\",\"Azerbaijan\",\"Bosnia and Herzegovina\",\"Saudi Arabia\",\"Netherlands\",\"Armenia\",\"Seychelles\",\"San Marino\",\"South Africa\",\"Tuvalu\",\"Morocco\",\"Somalia\",\"Liberia\",\"Costa Rica\",\"Maldives\",\"United Arab Emirates\",\"Sudan\",\"Mozambique\",\"Latvia\",\"North Macedonia\",\"Congo, Democratic Republic of the\"],\"locations\":[\"CHE\",\"DEU\",\"ISR\",\"ITA\",\"FRA\",\"UKR\",\"BRA\",\"ESP\",\"AUT\",\"TUR\",\"JPN\",\"AUS\",\"GBR\",null,null,\"QAT\",\"ARG\",\"PRT\",\"SWE\",\"RUS\",\"DNK\",\"IRN\",\"ROU\",\"MEX\",\"EGY\",\"BEL\",\"THA\",\"IRL\",\"CHN\",\"HUN\",\"ALB\",\"GRC\",\"BHS\",\"NOR\",\"CAN\",\"IND\",\"POL\",\"AFG\",\"SVN\",\"SRB\",\"CZE\",\"PSE\",\"PSE\",\"NZL\",\"TWN\",\"CYP\",\"BGR\",\"IDN\",\"SYR\",\"HRV\",\"PHL\",\"LUX\",\"ERI\",\"ISL\",\"YEM\",\"NLD\",\"URY\",\"COL\",\"IRQ\",\"LBY\",\"GHA\",\"EST\",\"LKA\",\"VNM\",\"MLT\",\"NPL\",\"RWA\",\"SGP\",\"AND\",\"LIE\",\"MCO\",\"CUB\",\"KAZ\",\"FIN\",\"GTM\",\"TUN\",\"OMN\",\"ETH\",\"MDG\",\"SLE\",\"PAN\",\"SVK\",\"VEN\",\"AZE\",\"BIH\",\"SAU\",\"NLD\",\"ARM\",\"SYC\",\"SMR\",\"ZAF\",\"TUV\",\"MAR\",\"SOM\",\"LBR\",\"CRI\",\"MDV\",\"ARE\",\"SDN\",\"MOZ\",\"LVA\",\"MKD\",\"COD\"],\"name\":\"\",\"z\":[315,69,49,34,32,20,19,17,17,14,12,12,12,12,12,10,9,9,9,9,9,9,8,7,7,7,7,6,6,6,5,5,5,5,5,5,5,5,5,4,4,4,4,4,4,4,3,3,3,3,3,3,3,3,3,3,3,3,2,2,2,2,2,2,2,2,2,2,2,2,2,2,2,2,2,1,1,1,1,1,1,1,1,1,1,1,1,1,1,1,1,1,1,1,1,1,1,1,1,1,1,1,1],\"type\":\"choropleth\"}],                        {\"template\":{\"data\":{\"bar\":[{\"error_x\":{\"color\":\"#2a3f5f\"},\"error_y\":{\"color\":\"#2a3f5f\"},\"marker\":{\"line\":{\"color\":\"#E5ECF6\",\"width\":0.5},\"pattern\":{\"fillmode\":\"overlay\",\"size\":10,\"solidity\":0.2}},\"type\":\"bar\"}],\"barpolar\":[{\"marker\":{\"line\":{\"color\":\"#E5ECF6\",\"width\":0.5},\"pattern\":{\"fillmode\":\"overlay\",\"size\":10,\"solidity\":0.2}},\"type\":\"barpolar\"}],\"carpet\":[{\"aaxis\":{\"endlinecolor\":\"#2a3f5f\",\"gridcolor\":\"white\",\"linecolor\":\"white\",\"minorgridcolor\":\"white\",\"startlinecolor\":\"#2a3f5f\"},\"baxis\":{\"endlinecolor\":\"#2a3f5f\",\"gridcolor\":\"white\",\"linecolor\":\"white\",\"minorgridcolor\":\"white\",\"startlinecolor\":\"#2a3f5f\"},\"type\":\"carpet\"}],\"choropleth\":[{\"colorbar\":{\"outlinewidth\":0,\"ticks\":\"\"},\"type\":\"choropleth\"}],\"contour\":[{\"colorbar\":{\"outlinewidth\":0,\"ticks\":\"\"},\"colorscale\":[[0.0,\"#0d0887\"],[0.1111111111111111,\"#46039f\"],[0.2222222222222222,\"#7201a8\"],[0.3333333333333333,\"#9c179e\"],[0.4444444444444444,\"#bd3786\"],[0.5555555555555556,\"#d8576b\"],[0.6666666666666666,\"#ed7953\"],[0.7777777777777778,\"#fb9f3a\"],[0.8888888888888888,\"#fdca26\"],[1.0,\"#f0f921\"]],\"type\":\"contour\"}],\"contourcarpet\":[{\"colorbar\":{\"outlinewidth\":0,\"ticks\":\"\"},\"type\":\"contourcarpet\"}],\"heatmap\":[{\"colorbar\":{\"outlinewidth\":0,\"ticks\":\"\"},\"colorscale\":[[0.0,\"#0d0887\"],[0.1111111111111111,\"#46039f\"],[0.2222222222222222,\"#7201a8\"],[0.3333333333333333,\"#9c179e\"],[0.4444444444444444,\"#bd3786\"],[0.5555555555555556,\"#d8576b\"],[0.6666666666666666,\"#ed7953\"],[0.7777777777777778,\"#fb9f3a\"],[0.8888888888888888,\"#fdca26\"],[1.0,\"#f0f921\"]],\"type\":\"heatmap\"}],\"heatmapgl\":[{\"colorbar\":{\"outlinewidth\":0,\"ticks\":\"\"},\"colorscale\":[[0.0,\"#0d0887\"],[0.1111111111111111,\"#46039f\"],[0.2222222222222222,\"#7201a8\"],[0.3333333333333333,\"#9c179e\"],[0.4444444444444444,\"#bd3786\"],[0.5555555555555556,\"#d8576b\"],[0.6666666666666666,\"#ed7953\"],[0.7777777777777778,\"#fb9f3a\"],[0.8888888888888888,\"#fdca26\"],[1.0,\"#f0f921\"]],\"type\":\"heatmapgl\"}],\"histogram\":[{\"marker\":{\"pattern\":{\"fillmode\":\"overlay\",\"size\":10,\"solidity\":0.2}},\"type\":\"histogram\"}],\"histogram2d\":[{\"colorbar\":{\"outlinewidth\":0,\"ticks\":\"\"},\"colorscale\":[[0.0,\"#0d0887\"],[0.1111111111111111,\"#46039f\"],[0.2222222222222222,\"#7201a8\"],[0.3333333333333333,\"#9c179e\"],[0.4444444444444444,\"#bd3786\"],[0.5555555555555556,\"#d8576b\"],[0.6666666666666666,\"#ed7953\"],[0.7777777777777778,\"#fb9f3a\"],[0.8888888888888888,\"#fdca26\"],[1.0,\"#f0f921\"]],\"type\":\"histogram2d\"}],\"histogram2dcontour\":[{\"colorbar\":{\"outlinewidth\":0,\"ticks\":\"\"},\"colorscale\":[[0.0,\"#0d0887\"],[0.1111111111111111,\"#46039f\"],[0.2222222222222222,\"#7201a8\"],[0.3333333333333333,\"#9c179e\"],[0.4444444444444444,\"#bd3786\"],[0.5555555555555556,\"#d8576b\"],[0.6666666666666666,\"#ed7953\"],[0.7777777777777778,\"#fb9f3a\"],[0.8888888888888888,\"#fdca26\"],[1.0,\"#f0f921\"]],\"type\":\"histogram2dcontour\"}],\"mesh3d\":[{\"colorbar\":{\"outlinewidth\":0,\"ticks\":\"\"},\"type\":\"mesh3d\"}],\"parcoords\":[{\"line\":{\"colorbar\":{\"outlinewidth\":0,\"ticks\":\"\"}},\"type\":\"parcoords\"}],\"pie\":[{\"automargin\":true,\"type\":\"pie\"}],\"scatter\":[{\"marker\":{\"colorbar\":{\"outlinewidth\":0,\"ticks\":\"\"}},\"type\":\"scatter\"}],\"scatter3d\":[{\"line\":{\"colorbar\":{\"outlinewidth\":0,\"ticks\":\"\"}},\"marker\":{\"colorbar\":{\"outlinewidth\":0,\"ticks\":\"\"}},\"type\":\"scatter3d\"}],\"scattercarpet\":[{\"marker\":{\"colorbar\":{\"outlinewidth\":0,\"ticks\":\"\"}},\"type\":\"scattercarpet\"}],\"scattergeo\":[{\"marker\":{\"colorbar\":{\"outlinewidth\":0,\"ticks\":\"\"}},\"type\":\"scattergeo\"}],\"scattergl\":[{\"marker\":{\"colorbar\":{\"outlinewidth\":0,\"ticks\":\"\"}},\"type\":\"scattergl\"}],\"scattermapbox\":[{\"marker\":{\"colorbar\":{\"outlinewidth\":0,\"ticks\":\"\"}},\"type\":\"scattermapbox\"}],\"scatterpolar\":[{\"marker\":{\"colorbar\":{\"outlinewidth\":0,\"ticks\":\"\"}},\"type\":\"scatterpolar\"}],\"scatterpolargl\":[{\"marker\":{\"colorbar\":{\"outlinewidth\":0,\"ticks\":\"\"}},\"type\":\"scatterpolargl\"}],\"scatterternary\":[{\"marker\":{\"colorbar\":{\"outlinewidth\":0,\"ticks\":\"\"}},\"type\":\"scatterternary\"}],\"surface\":[{\"colorbar\":{\"outlinewidth\":0,\"ticks\":\"\"},\"colorscale\":[[0.0,\"#0d0887\"],[0.1111111111111111,\"#46039f\"],[0.2222222222222222,\"#7201a8\"],[0.3333333333333333,\"#9c179e\"],[0.4444444444444444,\"#bd3786\"],[0.5555555555555556,\"#d8576b\"],[0.6666666666666666,\"#ed7953\"],[0.7777777777777778,\"#fb9f3a\"],[0.8888888888888888,\"#fdca26\"],[1.0,\"#f0f921\"]],\"type\":\"surface\"}],\"table\":[{\"cells\":{\"fill\":{\"color\":\"#EBF0F8\"},\"line\":{\"color\":\"white\"}},\"header\":{\"fill\":{\"color\":\"#C8D4E3\"},\"line\":{\"color\":\"white\"}},\"type\":\"table\"}]},\"layout\":{\"annotationdefaults\":{\"arrowcolor\":\"#2a3f5f\",\"arrowhead\":0,\"arrowwidth\":1},\"autotypenumbers\":\"strict\",\"coloraxis\":{\"colorbar\":{\"outlinewidth\":0,\"ticks\":\"\"}},\"colorscale\":{\"diverging\":[[0,\"#8e0152\"],[0.1,\"#c51b7d\"],[0.2,\"#de77ae\"],[0.3,\"#f1b6da\"],[0.4,\"#fde0ef\"],[0.5,\"#f7f7f7\"],[0.6,\"#e6f5d0\"],[0.7,\"#b8e186\"],[0.8,\"#7fbc41\"],[0.9,\"#4d9221\"],[1,\"#276419\"]],\"sequential\":[[0.0,\"#0d0887\"],[0.1111111111111111,\"#46039f\"],[0.2222222222222222,\"#7201a8\"],[0.3333333333333333,\"#9c179e\"],[0.4444444444444444,\"#bd3786\"],[0.5555555555555556,\"#d8576b\"],[0.6666666666666666,\"#ed7953\"],[0.7777777777777778,\"#fb9f3a\"],[0.8888888888888888,\"#fdca26\"],[1.0,\"#f0f921\"]],\"sequentialminus\":[[0.0,\"#0d0887\"],[0.1111111111111111,\"#46039f\"],[0.2222222222222222,\"#7201a8\"],[0.3333333333333333,\"#9c179e\"],[0.4444444444444444,\"#bd3786\"],[0.5555555555555556,\"#d8576b\"],[0.6666666666666666,\"#ed7953\"],[0.7777777777777778,\"#fb9f3a\"],[0.8888888888888888,\"#fdca26\"],[1.0,\"#f0f921\"]]},\"colorway\":[\"#636efa\",\"#EF553B\",\"#00cc96\",\"#ab63fa\",\"#FFA15A\",\"#19d3f3\",\"#FF6692\",\"#B6E880\",\"#FF97FF\",\"#FECB52\"],\"font\":{\"color\":\"#2a3f5f\"},\"geo\":{\"bgcolor\":\"white\",\"lakecolor\":\"white\",\"landcolor\":\"#E5ECF6\",\"showlakes\":true,\"showland\":true,\"subunitcolor\":\"white\"},\"hoverlabel\":{\"align\":\"left\"},\"hovermode\":\"closest\",\"mapbox\":{\"style\":\"light\"},\"paper_bgcolor\":\"white\",\"plot_bgcolor\":\"#E5ECF6\",\"polar\":{\"angularaxis\":{\"gridcolor\":\"white\",\"linecolor\":\"white\",\"ticks\":\"\"},\"bgcolor\":\"#E5ECF6\",\"radialaxis\":{\"gridcolor\":\"white\",\"linecolor\":\"white\",\"ticks\":\"\"}},\"scene\":{\"xaxis\":{\"backgroundcolor\":\"#E5ECF6\",\"gridcolor\":\"white\",\"gridwidth\":2,\"linecolor\":\"white\",\"showbackground\":true,\"ticks\":\"\",\"zerolinecolor\":\"white\"},\"yaxis\":{\"backgroundcolor\":\"#E5ECF6\",\"gridcolor\":\"white\",\"gridwidth\":2,\"linecolor\":\"white\",\"showbackground\":true,\"ticks\":\"\",\"zerolinecolor\":\"white\"},\"zaxis\":{\"backgroundcolor\":\"#E5ECF6\",\"gridcolor\":\"white\",\"gridwidth\":2,\"linecolor\":\"white\",\"showbackground\":true,\"ticks\":\"\",\"zerolinecolor\":\"white\"}},\"shapedefaults\":{\"line\":{\"color\":\"#2a3f5f\"}},\"ternary\":{\"aaxis\":{\"gridcolor\":\"white\",\"linecolor\":\"white\",\"ticks\":\"\"},\"baxis\":{\"gridcolor\":\"white\",\"linecolor\":\"white\",\"ticks\":\"\"},\"bgcolor\":\"#E5ECF6\",\"caxis\":{\"gridcolor\":\"white\",\"linecolor\":\"white\",\"ticks\":\"\"}},\"title\":{\"x\":0.05},\"xaxis\":{\"automargin\":true,\"gridcolor\":\"white\",\"linecolor\":\"white\",\"ticks\":\"\",\"title\":{\"standoff\":15},\"zerolinecolor\":\"white\",\"zerolinewidth\":2},\"yaxis\":{\"automargin\":true,\"gridcolor\":\"white\",\"linecolor\":\"white\",\"ticks\":\"\",\"title\":{\"standoff\":15},\"zerolinecolor\":\"white\",\"zerolinewidth\":2}}},\"geo\":{\"domain\":{\"x\":[0.0,1.0],\"y\":[0.0,1.0]},\"center\":{}},\"coloraxis\":{\"colorbar\":{\"title\":{\"text\":\"Count\"}},\"colorscale\":[[0.0,\"#0d0887\"],[0.1111111111111111,\"#46039f\"],[0.2222222222222222,\"#7201a8\"],[0.3333333333333333,\"#9c179e\"],[0.4444444444444444,\"#bd3786\"],[0.5555555555555556,\"#d8576b\"],[0.6666666666666666,\"#ed7953\"],[0.7777777777777778,\"#fb9f3a\"],[0.8888888888888888,\"#fdca26\"],[1.0,\"#f0f921\"]]},\"legend\":{\"tracegroupgap\":0},\"margin\":{\"t\":60}},                        {\"responsive\": true}                    ).then(function(){\n",
       "                            \n",
       "var gd = document.getElementById('9809590c-3c4b-4ed1-a85d-0bc98dc777b4');\n",
       "var x = new MutationObserver(function (mutations, observer) {{\n",
       "        var display = window.getComputedStyle(gd).display;\n",
       "        if (!display || display === 'none') {{\n",
       "            console.log([gd, 'removed!']);\n",
       "            Plotly.purge(gd);\n",
       "            observer.disconnect();\n",
       "        }}\n",
       "}});\n",
       "\n",
       "// Listen for the removal of the full notebook cells\n",
       "var notebookContainer = gd.closest('#notebook-container');\n",
       "if (notebookContainer) {{\n",
       "    x.observe(notebookContainer, {childList: true});\n",
       "}}\n",
       "\n",
       "// Listen for the clearing of the current output cell\n",
       "var outputEl = gd.closest('.output');\n",
       "if (outputEl) {{\n",
       "    x.observe(outputEl, {childList: true});\n",
       "}}\n",
       "\n",
       "                        })                };                });            </script>        </div>"
      ]
     },
     "metadata": {},
     "output_type": "display_data"
    }
   ],
   "source": [
    "# Choropleth map for country counts\n",
    "fig_country = px.choropleth(df_country_count_data,\n",
    "                            locations=\"ISO3\",  # Use the ISO column for country codes\n",
    "                            color=\"Count\",  # Column denoting the counts\n",
    "                            hover_name=\"EnglishName\",  # The title to appear on hover\n",
    "                            hover_data=[\"GermanName\", \"CapitalNameGerman\", \"Count\"],\n",
    "                            color_continuous_scale=px.colors.sequential.Plasma)\n",
    "fig_country.show()"
   ]
  },
  {
   "cell_type": "code",
   "execution_count": 56,
   "id": "401b9911",
   "metadata": {},
   "outputs": [
    {
     "name": "stdout",
     "output_type": "stream",
     "text": [
      "GermanName            object\n",
      "Count                  int64\n",
      "Coordinates           object\n",
      "Longitude            float64\n",
      "Latitude             float64\n",
      "ISO2                  object\n",
      "ISO3                  object\n",
      "EnglishName           object\n",
      "CapitalNameGerman     object\n",
      "dtype: object\n"
     ]
    }
   ],
   "source": [
    "print(df_country_count_data.dtypes)"
   ]
  },
  {
   "cell_type": "code",
   "execution_count": 57,
   "id": "dfb2ba0c",
   "metadata": {},
   "outputs": [
    {
     "data": {
      "application/vnd.plotly.v1+json": {
       "config": {
        "plotlyServerURL": "https://plot.ly"
       },
       "data": [
        {
         "geo": "geo",
         "hovertemplate": "<b>%{hovertext}</b><br><br>Count=%{marker.size}<br>Latitude=%{lat}<br>Longitude=%{lon}<extra></extra>",
         "hovertext": [
          "zurich ",
          "basel ",
          "bern ",
          "st. gallen ",
          "zug ",
          "luzern ",
          "genf ",
          "baden ",
          "freiburg ",
          "schaffhausen ",
          "winterthur ",
          "solothurn ",
          "lugano ",
          "lausanne ",
          "thun ",
          "spreitenbach",
          "glarus",
          "wil ",
          "chur ",
          "aarau ",
          "ittigen",
          "kreuzlingen",
          "frauenfeld ",
          "wald",
          "schwyz ",
          "munsingen",
          "liestal ",
          "neuenburg ",
          "einsiedeln",
          "davos",
          "kloten",
          "lenzburg ",
          "arbon ",
          "wallisellen",
          "montreux",
          "olten ",
          "muri bei bern",
          "muttenz",
          "flawil",
          "weinfelden",
          "pratteln",
          "sursee ",
          "bulach ",
          "dietikon",
          "baar",
          "burgdorf ",
          "birsfelden",
          "lyss",
          "pfaffikon",
          "oberwil ",
          "steinhausen",
          "bassersdorf",
          "herisau",
          "brugg ",
          "martigny ",
          "wettingen",
          "sarnen ",
          "volketswil",
          "horgen",
          "wadenswil",
          "opfikon",
          "richterswil",
          "kriens",
          "cham",
          "schlieren",
          "bulle ",
          "ruti",
          "riehen",
          "sitten ",
          "hinwil",
          "payerne ",
          "reinach",
          "dubendorf",
          "uster",
          "gossau",
          "gossau",
          "buchs"
         ],
         "lat": [
          47.373754,
          47.553808,
          46.946416,
          47.115369,
          47.165074,
          47.04791,
          46.201511,
          37.653515,
          46.805487,
          47.702296,
          47.499693,
          47.2081,
          46.009425,
          46.520381,
          46.753651,
          47.418359,
          47.041178,
          47.46152,
          46.850722,
          47.391687,
          46.980255,
          47.641449,
          47.559016,
          47.27259,
          46.730219,
          48.409976,
          47.481766,
          46.991046,
          47.129714,
          46.759179,
          47.45152,
          47.388748,
          47.514603,
          47.41499,
          46.43423,
          47.349106,
          46.930739,
          47.523393,
          47.41568,
          47.566894,
          47.518095,
          47.175697,
          47.52357,
          47.40165,
          47.197215,
          52.143747,
          47.550784,
          47.073977,
          47.36689,
          47.516869,
          47.195526,
          47.438771,
          47.390936,
          47.483043,
          46.103064,
          47.469611,
          46.895035,
          47.389523,
          47.261948,
          47.229508,
          47.43169,
          47.205187,
          47.03537,
          49.221966,
          47.39668,
          46.618011,
          47.259754,
          47.579484,
          46.230456,
          47.299839,
          46.820755,
          47.258426,
          47.39724,
          47.351078,
          47.411712,
          47.411712,
          47.16743
         ],
         "legendgroup": "",
         "lon": [
          8.537087,
          7.592036,
          7.396394,
          9.331092,
          8.51961,
          8.303928,
          6.143889,
          -122.344612,
          7.162118,
          8.627974,
          8.728495,
          7.5163,
          8.941339,
          6.63141,
          7.625314,
          8.369214,
          9.070819,
          9.04552,
          9.53171,
          8.053387,
          7.478193,
          9.171512,
          8.897041,
          8.914172,
          7.509687,
          9.496439,
          7.731582,
          6.931647,
          8.745461,
          9.835859,
          8.58491,
          8.17853,
          9.432618,
          8.59672,
          6.911558,
          7.910283,
          7.500468,
          7.648065,
          9.189439,
          9.104073,
          7.689088,
          8.10871,
          8.53692,
          8.40015,
          8.522267,
          10.216521,
          7.636283,
          7.306518,
          8.785993,
          7.550769,
          8.478206,
          8.625914,
          9.279804,
          8.204365,
          7.079643,
          8.330836,
          8.248186,
          8.673712,
          8.596927,
          8.671706,
          8.57588,
          8.706905,
          8.27631,
          12.662355,
          8.44763,
          7.055307,
          8.849946,
          7.651243,
          7.363129,
          8.839614,
          6.938857,
          8.179858,
          8.61872,
          8.717768,
          9.251598,
          9.251598,
          9.47794
         ],
         "marker": {
          "color": "#636efa",
          "size": [
           130,
           57,
           47,
           38,
           29,
           26,
           18,
           9,
           9,
           8,
           8,
           8,
           7,
           7,
           6,
           5,
           5,
           5,
           5,
           5,
           5,
           4,
           4,
           3,
           3,
           3,
           3,
           3,
           3,
           3,
           3,
           3,
           3,
           2,
           2,
           2,
           2,
           2,
           2,
           2,
           2,
           2,
           2,
           2,
           1,
           1,
           1,
           1,
           1,
           1,
           1,
           1,
           1,
           1,
           1,
           1,
           1,
           1,
           1,
           1,
           1,
           1,
           1,
           1,
           1,
           1,
           1,
           1,
           1,
           1,
           1,
           1,
           1,
           1,
           1,
           1,
           1
          ],
          "sizemode": "area",
          "sizeref": 0.325,
          "symbol": "circle"
         },
         "mode": "markers",
         "name": "",
         "showlegend": false,
         "type": "scattergeo"
        }
       ],
       "layout": {
        "geo": {
         "center": {
          "lat": 46.8182,
          "lon": 8.2275
         },
         "domain": {
          "x": [
           0,
           1
          ],
          "y": [
           0,
           1
          ]
         },
         "scope": "europe"
        },
        "legend": {
         "itemsizing": "constant",
         "tracegroupgap": 0
        },
        "margin": {
         "t": 60
        },
        "template": {
         "data": {
          "bar": [
           {
            "error_x": {
             "color": "#2a3f5f"
            },
            "error_y": {
             "color": "#2a3f5f"
            },
            "marker": {
             "line": {
              "color": "#E5ECF6",
              "width": 0.5
             },
             "pattern": {
              "fillmode": "overlay",
              "size": 10,
              "solidity": 0.2
             }
            },
            "type": "bar"
           }
          ],
          "barpolar": [
           {
            "marker": {
             "line": {
              "color": "#E5ECF6",
              "width": 0.5
             },
             "pattern": {
              "fillmode": "overlay",
              "size": 10,
              "solidity": 0.2
             }
            },
            "type": "barpolar"
           }
          ],
          "carpet": [
           {
            "aaxis": {
             "endlinecolor": "#2a3f5f",
             "gridcolor": "white",
             "linecolor": "white",
             "minorgridcolor": "white",
             "startlinecolor": "#2a3f5f"
            },
            "baxis": {
             "endlinecolor": "#2a3f5f",
             "gridcolor": "white",
             "linecolor": "white",
             "minorgridcolor": "white",
             "startlinecolor": "#2a3f5f"
            },
            "type": "carpet"
           }
          ],
          "choropleth": [
           {
            "colorbar": {
             "outlinewidth": 0,
             "ticks": ""
            },
            "type": "choropleth"
           }
          ],
          "contour": [
           {
            "colorbar": {
             "outlinewidth": 0,
             "ticks": ""
            },
            "colorscale": [
             [
              0,
              "#0d0887"
             ],
             [
              0.1111111111111111,
              "#46039f"
             ],
             [
              0.2222222222222222,
              "#7201a8"
             ],
             [
              0.3333333333333333,
              "#9c179e"
             ],
             [
              0.4444444444444444,
              "#bd3786"
             ],
             [
              0.5555555555555556,
              "#d8576b"
             ],
             [
              0.6666666666666666,
              "#ed7953"
             ],
             [
              0.7777777777777778,
              "#fb9f3a"
             ],
             [
              0.8888888888888888,
              "#fdca26"
             ],
             [
              1,
              "#f0f921"
             ]
            ],
            "type": "contour"
           }
          ],
          "contourcarpet": [
           {
            "colorbar": {
             "outlinewidth": 0,
             "ticks": ""
            },
            "type": "contourcarpet"
           }
          ],
          "heatmap": [
           {
            "colorbar": {
             "outlinewidth": 0,
             "ticks": ""
            },
            "colorscale": [
             [
              0,
              "#0d0887"
             ],
             [
              0.1111111111111111,
              "#46039f"
             ],
             [
              0.2222222222222222,
              "#7201a8"
             ],
             [
              0.3333333333333333,
              "#9c179e"
             ],
             [
              0.4444444444444444,
              "#bd3786"
             ],
             [
              0.5555555555555556,
              "#d8576b"
             ],
             [
              0.6666666666666666,
              "#ed7953"
             ],
             [
              0.7777777777777778,
              "#fb9f3a"
             ],
             [
              0.8888888888888888,
              "#fdca26"
             ],
             [
              1,
              "#f0f921"
             ]
            ],
            "type": "heatmap"
           }
          ],
          "heatmapgl": [
           {
            "colorbar": {
             "outlinewidth": 0,
             "ticks": ""
            },
            "colorscale": [
             [
              0,
              "#0d0887"
             ],
             [
              0.1111111111111111,
              "#46039f"
             ],
             [
              0.2222222222222222,
              "#7201a8"
             ],
             [
              0.3333333333333333,
              "#9c179e"
             ],
             [
              0.4444444444444444,
              "#bd3786"
             ],
             [
              0.5555555555555556,
              "#d8576b"
             ],
             [
              0.6666666666666666,
              "#ed7953"
             ],
             [
              0.7777777777777778,
              "#fb9f3a"
             ],
             [
              0.8888888888888888,
              "#fdca26"
             ],
             [
              1,
              "#f0f921"
             ]
            ],
            "type": "heatmapgl"
           }
          ],
          "histogram": [
           {
            "marker": {
             "pattern": {
              "fillmode": "overlay",
              "size": 10,
              "solidity": 0.2
             }
            },
            "type": "histogram"
           }
          ],
          "histogram2d": [
           {
            "colorbar": {
             "outlinewidth": 0,
             "ticks": ""
            },
            "colorscale": [
             [
              0,
              "#0d0887"
             ],
             [
              0.1111111111111111,
              "#46039f"
             ],
             [
              0.2222222222222222,
              "#7201a8"
             ],
             [
              0.3333333333333333,
              "#9c179e"
             ],
             [
              0.4444444444444444,
              "#bd3786"
             ],
             [
              0.5555555555555556,
              "#d8576b"
             ],
             [
              0.6666666666666666,
              "#ed7953"
             ],
             [
              0.7777777777777778,
              "#fb9f3a"
             ],
             [
              0.8888888888888888,
              "#fdca26"
             ],
             [
              1,
              "#f0f921"
             ]
            ],
            "type": "histogram2d"
           }
          ],
          "histogram2dcontour": [
           {
            "colorbar": {
             "outlinewidth": 0,
             "ticks": ""
            },
            "colorscale": [
             [
              0,
              "#0d0887"
             ],
             [
              0.1111111111111111,
              "#46039f"
             ],
             [
              0.2222222222222222,
              "#7201a8"
             ],
             [
              0.3333333333333333,
              "#9c179e"
             ],
             [
              0.4444444444444444,
              "#bd3786"
             ],
             [
              0.5555555555555556,
              "#d8576b"
             ],
             [
              0.6666666666666666,
              "#ed7953"
             ],
             [
              0.7777777777777778,
              "#fb9f3a"
             ],
             [
              0.8888888888888888,
              "#fdca26"
             ],
             [
              1,
              "#f0f921"
             ]
            ],
            "type": "histogram2dcontour"
           }
          ],
          "mesh3d": [
           {
            "colorbar": {
             "outlinewidth": 0,
             "ticks": ""
            },
            "type": "mesh3d"
           }
          ],
          "parcoords": [
           {
            "line": {
             "colorbar": {
              "outlinewidth": 0,
              "ticks": ""
             }
            },
            "type": "parcoords"
           }
          ],
          "pie": [
           {
            "automargin": true,
            "type": "pie"
           }
          ],
          "scatter": [
           {
            "marker": {
             "colorbar": {
              "outlinewidth": 0,
              "ticks": ""
             }
            },
            "type": "scatter"
           }
          ],
          "scatter3d": [
           {
            "line": {
             "colorbar": {
              "outlinewidth": 0,
              "ticks": ""
             }
            },
            "marker": {
             "colorbar": {
              "outlinewidth": 0,
              "ticks": ""
             }
            },
            "type": "scatter3d"
           }
          ],
          "scattercarpet": [
           {
            "marker": {
             "colorbar": {
              "outlinewidth": 0,
              "ticks": ""
             }
            },
            "type": "scattercarpet"
           }
          ],
          "scattergeo": [
           {
            "marker": {
             "colorbar": {
              "outlinewidth": 0,
              "ticks": ""
             }
            },
            "type": "scattergeo"
           }
          ],
          "scattergl": [
           {
            "marker": {
             "colorbar": {
              "outlinewidth": 0,
              "ticks": ""
             }
            },
            "type": "scattergl"
           }
          ],
          "scattermapbox": [
           {
            "marker": {
             "colorbar": {
              "outlinewidth": 0,
              "ticks": ""
             }
            },
            "type": "scattermapbox"
           }
          ],
          "scatterpolar": [
           {
            "marker": {
             "colorbar": {
              "outlinewidth": 0,
              "ticks": ""
             }
            },
            "type": "scatterpolar"
           }
          ],
          "scatterpolargl": [
           {
            "marker": {
             "colorbar": {
              "outlinewidth": 0,
              "ticks": ""
             }
            },
            "type": "scatterpolargl"
           }
          ],
          "scatterternary": [
           {
            "marker": {
             "colorbar": {
              "outlinewidth": 0,
              "ticks": ""
             }
            },
            "type": "scatterternary"
           }
          ],
          "surface": [
           {
            "colorbar": {
             "outlinewidth": 0,
             "ticks": ""
            },
            "colorscale": [
             [
              0,
              "#0d0887"
             ],
             [
              0.1111111111111111,
              "#46039f"
             ],
             [
              0.2222222222222222,
              "#7201a8"
             ],
             [
              0.3333333333333333,
              "#9c179e"
             ],
             [
              0.4444444444444444,
              "#bd3786"
             ],
             [
              0.5555555555555556,
              "#d8576b"
             ],
             [
              0.6666666666666666,
              "#ed7953"
             ],
             [
              0.7777777777777778,
              "#fb9f3a"
             ],
             [
              0.8888888888888888,
              "#fdca26"
             ],
             [
              1,
              "#f0f921"
             ]
            ],
            "type": "surface"
           }
          ],
          "table": [
           {
            "cells": {
             "fill": {
              "color": "#EBF0F8"
             },
             "line": {
              "color": "white"
             }
            },
            "header": {
             "fill": {
              "color": "#C8D4E3"
             },
             "line": {
              "color": "white"
             }
            },
            "type": "table"
           }
          ]
         },
         "layout": {
          "annotationdefaults": {
           "arrowcolor": "#2a3f5f",
           "arrowhead": 0,
           "arrowwidth": 1
          },
          "autotypenumbers": "strict",
          "coloraxis": {
           "colorbar": {
            "outlinewidth": 0,
            "ticks": ""
           }
          },
          "colorscale": {
           "diverging": [
            [
             0,
             "#8e0152"
            ],
            [
             0.1,
             "#c51b7d"
            ],
            [
             0.2,
             "#de77ae"
            ],
            [
             0.3,
             "#f1b6da"
            ],
            [
             0.4,
             "#fde0ef"
            ],
            [
             0.5,
             "#f7f7f7"
            ],
            [
             0.6,
             "#e6f5d0"
            ],
            [
             0.7,
             "#b8e186"
            ],
            [
             0.8,
             "#7fbc41"
            ],
            [
             0.9,
             "#4d9221"
            ],
            [
             1,
             "#276419"
            ]
           ],
           "sequential": [
            [
             0,
             "#0d0887"
            ],
            [
             0.1111111111111111,
             "#46039f"
            ],
            [
             0.2222222222222222,
             "#7201a8"
            ],
            [
             0.3333333333333333,
             "#9c179e"
            ],
            [
             0.4444444444444444,
             "#bd3786"
            ],
            [
             0.5555555555555556,
             "#d8576b"
            ],
            [
             0.6666666666666666,
             "#ed7953"
            ],
            [
             0.7777777777777778,
             "#fb9f3a"
            ],
            [
             0.8888888888888888,
             "#fdca26"
            ],
            [
             1,
             "#f0f921"
            ]
           ],
           "sequentialminus": [
            [
             0,
             "#0d0887"
            ],
            [
             0.1111111111111111,
             "#46039f"
            ],
            [
             0.2222222222222222,
             "#7201a8"
            ],
            [
             0.3333333333333333,
             "#9c179e"
            ],
            [
             0.4444444444444444,
             "#bd3786"
            ],
            [
             0.5555555555555556,
             "#d8576b"
            ],
            [
             0.6666666666666666,
             "#ed7953"
            ],
            [
             0.7777777777777778,
             "#fb9f3a"
            ],
            [
             0.8888888888888888,
             "#fdca26"
            ],
            [
             1,
             "#f0f921"
            ]
           ]
          },
          "colorway": [
           "#636efa",
           "#EF553B",
           "#00cc96",
           "#ab63fa",
           "#FFA15A",
           "#19d3f3",
           "#FF6692",
           "#B6E880",
           "#FF97FF",
           "#FECB52"
          ],
          "font": {
           "color": "#2a3f5f"
          },
          "geo": {
           "bgcolor": "white",
           "lakecolor": "white",
           "landcolor": "#E5ECF6",
           "showlakes": true,
           "showland": true,
           "subunitcolor": "white"
          },
          "hoverlabel": {
           "align": "left"
          },
          "hovermode": "closest",
          "mapbox": {
           "style": "light"
          },
          "paper_bgcolor": "white",
          "plot_bgcolor": "#E5ECF6",
          "polar": {
           "angularaxis": {
            "gridcolor": "white",
            "linecolor": "white",
            "ticks": ""
           },
           "bgcolor": "#E5ECF6",
           "radialaxis": {
            "gridcolor": "white",
            "linecolor": "white",
            "ticks": ""
           }
          },
          "scene": {
           "xaxis": {
            "backgroundcolor": "#E5ECF6",
            "gridcolor": "white",
            "gridwidth": 2,
            "linecolor": "white",
            "showbackground": true,
            "ticks": "",
            "zerolinecolor": "white"
           },
           "yaxis": {
            "backgroundcolor": "#E5ECF6",
            "gridcolor": "white",
            "gridwidth": 2,
            "linecolor": "white",
            "showbackground": true,
            "ticks": "",
            "zerolinecolor": "white"
           },
           "zaxis": {
            "backgroundcolor": "#E5ECF6",
            "gridcolor": "white",
            "gridwidth": 2,
            "linecolor": "white",
            "showbackground": true,
            "ticks": "",
            "zerolinecolor": "white"
           }
          },
          "shapedefaults": {
           "line": {
            "color": "#2a3f5f"
           }
          },
          "ternary": {
           "aaxis": {
            "gridcolor": "white",
            "linecolor": "white",
            "ticks": ""
           },
           "baxis": {
            "gridcolor": "white",
            "linecolor": "white",
            "ticks": ""
           },
           "bgcolor": "#E5ECF6",
           "caxis": {
            "gridcolor": "white",
            "linecolor": "white",
            "ticks": ""
           }
          },
          "title": {
           "x": 0.05
          },
          "xaxis": {
           "automargin": true,
           "gridcolor": "white",
           "linecolor": "white",
           "ticks": "",
           "title": {
            "standoff": 15
           },
           "zerolinecolor": "white",
           "zerolinewidth": 2
          },
          "yaxis": {
           "automargin": true,
           "gridcolor": "white",
           "linecolor": "white",
           "ticks": "",
           "title": {
            "standoff": 15
           },
           "zerolinecolor": "white",
           "zerolinewidth": 2
          }
         }
        }
       }
      },
      "text/html": [
       "<div>                            <div id=\"5e515d8f-90c9-4846-a192-115aa93a6a6c\" class=\"plotly-graph-div\" style=\"height:525px; width:100%;\"></div>            <script type=\"text/javascript\">                require([\"plotly\"], function(Plotly) {                    window.PLOTLYENV=window.PLOTLYENV || {};                                    if (document.getElementById(\"5e515d8f-90c9-4846-a192-115aa93a6a6c\")) {                    Plotly.newPlot(                        \"5e515d8f-90c9-4846-a192-115aa93a6a6c\",                        [{\"geo\":\"geo\",\"hovertemplate\":\"<b>%{hovertext}</b><br><br>Count=%{marker.size}<br>Latitude=%{lat}<br>Longitude=%{lon}<extra></extra>\",\"hovertext\":[\"zurich \",\"basel \",\"bern \",\"st. gallen \",\"zug \",\"luzern \",\"genf \",\"baden \",\"freiburg \",\"schaffhausen \",\"winterthur \",\"solothurn \",\"lugano \",\"lausanne \",\"thun \",\"spreitenbach\",\"glarus\",\"wil \",\"chur \",\"aarau \",\"ittigen\",\"kreuzlingen\",\"frauenfeld \",\"wald\",\"schwyz \",\"munsingen\",\"liestal \",\"neuenburg \",\"einsiedeln\",\"davos\",\"kloten\",\"lenzburg \",\"arbon \",\"wallisellen\",\"montreux\",\"olten \",\"muri bei bern\",\"muttenz\",\"flawil\",\"weinfelden\",\"pratteln\",\"sursee \",\"bulach \",\"dietikon\",\"baar\",\"burgdorf \",\"birsfelden\",\"lyss\",\"pfaffikon\",\"oberwil \",\"steinhausen\",\"bassersdorf\",\"herisau\",\"brugg \",\"martigny \",\"wettingen\",\"sarnen \",\"volketswil\",\"horgen\",\"wadenswil\",\"opfikon\",\"richterswil\",\"kriens\",\"cham\",\"schlieren\",\"bulle \",\"ruti\",\"riehen\",\"sitten \",\"hinwil\",\"payerne \",\"reinach\",\"dubendorf\",\"uster\",\"gossau\",\"gossau\",\"buchs\"],\"lat\":[47.373754,47.553808,46.946416,47.115369,47.165074,47.04791,46.201511,37.653515,46.805487,47.702296,47.499693,47.2081,46.009425,46.520381,46.753651,47.418359,47.041178,47.46152,46.850722,47.391687,46.980255,47.641449,47.559016,47.27259,46.730219,48.409976,47.481766,46.991046,47.129714,46.759179,47.45152,47.388748,47.514603,47.41499,46.43423,47.349106,46.930739,47.523393,47.41568,47.566894,47.518095,47.175697,47.52357,47.40165,47.197215,52.143747,47.550784,47.073977,47.36689,47.516869,47.195526,47.438771,47.390936,47.483043,46.103064,47.469611,46.895035,47.389523,47.261948,47.229508,47.43169,47.205187,47.03537,49.221966,47.39668,46.618011,47.259754,47.579484,46.230456,47.299839,46.820755,47.258426,47.39724,47.351078,47.411712,47.411712,47.16743],\"legendgroup\":\"\",\"lon\":[8.537087,7.592036,7.396394,9.331092,8.51961,8.303928,6.143889,-122.344612,7.162118,8.627974,8.728495,7.5163,8.941339,6.63141,7.625314,8.369214,9.070819,9.04552,9.53171,8.053387,7.478193,9.171512,8.897041,8.914172,7.509687,9.496439,7.731582,6.931647,8.745461,9.835859,8.58491,8.17853,9.432618,8.59672,6.911558,7.910283,7.500468,7.648065,9.189439,9.104073,7.689088,8.10871,8.53692,8.40015,8.522267,10.216521,7.636283,7.306518,8.785993,7.550769,8.478206,8.625914,9.279804,8.204365,7.079643,8.330836,8.248186,8.673712,8.596927,8.671706,8.57588,8.706905,8.27631,12.662355,8.44763,7.055307,8.849946,7.651243,7.363129,8.839614,6.938857,8.179858,8.61872,8.717768,9.251598,9.251598,9.47794],\"marker\":{\"color\":\"#636efa\",\"size\":[130,57,47,38,29,26,18,9,9,8,8,8,7,7,6,5,5,5,5,5,5,4,4,3,3,3,3,3,3,3,3,3,3,2,2,2,2,2,2,2,2,2,2,2,1,1,1,1,1,1,1,1,1,1,1,1,1,1,1,1,1,1,1,1,1,1,1,1,1,1,1,1,1,1,1,1,1],\"sizemode\":\"area\",\"sizeref\":0.325,\"symbol\":\"circle\"},\"mode\":\"markers\",\"name\":\"\",\"showlegend\":false,\"type\":\"scattergeo\"}],                        {\"template\":{\"data\":{\"bar\":[{\"error_x\":{\"color\":\"#2a3f5f\"},\"error_y\":{\"color\":\"#2a3f5f\"},\"marker\":{\"line\":{\"color\":\"#E5ECF6\",\"width\":0.5},\"pattern\":{\"fillmode\":\"overlay\",\"size\":10,\"solidity\":0.2}},\"type\":\"bar\"}],\"barpolar\":[{\"marker\":{\"line\":{\"color\":\"#E5ECF6\",\"width\":0.5},\"pattern\":{\"fillmode\":\"overlay\",\"size\":10,\"solidity\":0.2}},\"type\":\"barpolar\"}],\"carpet\":[{\"aaxis\":{\"endlinecolor\":\"#2a3f5f\",\"gridcolor\":\"white\",\"linecolor\":\"white\",\"minorgridcolor\":\"white\",\"startlinecolor\":\"#2a3f5f\"},\"baxis\":{\"endlinecolor\":\"#2a3f5f\",\"gridcolor\":\"white\",\"linecolor\":\"white\",\"minorgridcolor\":\"white\",\"startlinecolor\":\"#2a3f5f\"},\"type\":\"carpet\"}],\"choropleth\":[{\"colorbar\":{\"outlinewidth\":0,\"ticks\":\"\"},\"type\":\"choropleth\"}],\"contour\":[{\"colorbar\":{\"outlinewidth\":0,\"ticks\":\"\"},\"colorscale\":[[0.0,\"#0d0887\"],[0.1111111111111111,\"#46039f\"],[0.2222222222222222,\"#7201a8\"],[0.3333333333333333,\"#9c179e\"],[0.4444444444444444,\"#bd3786\"],[0.5555555555555556,\"#d8576b\"],[0.6666666666666666,\"#ed7953\"],[0.7777777777777778,\"#fb9f3a\"],[0.8888888888888888,\"#fdca26\"],[1.0,\"#f0f921\"]],\"type\":\"contour\"}],\"contourcarpet\":[{\"colorbar\":{\"outlinewidth\":0,\"ticks\":\"\"},\"type\":\"contourcarpet\"}],\"heatmap\":[{\"colorbar\":{\"outlinewidth\":0,\"ticks\":\"\"},\"colorscale\":[[0.0,\"#0d0887\"],[0.1111111111111111,\"#46039f\"],[0.2222222222222222,\"#7201a8\"],[0.3333333333333333,\"#9c179e\"],[0.4444444444444444,\"#bd3786\"],[0.5555555555555556,\"#d8576b\"],[0.6666666666666666,\"#ed7953\"],[0.7777777777777778,\"#fb9f3a\"],[0.8888888888888888,\"#fdca26\"],[1.0,\"#f0f921\"]],\"type\":\"heatmap\"}],\"heatmapgl\":[{\"colorbar\":{\"outlinewidth\":0,\"ticks\":\"\"},\"colorscale\":[[0.0,\"#0d0887\"],[0.1111111111111111,\"#46039f\"],[0.2222222222222222,\"#7201a8\"],[0.3333333333333333,\"#9c179e\"],[0.4444444444444444,\"#bd3786\"],[0.5555555555555556,\"#d8576b\"],[0.6666666666666666,\"#ed7953\"],[0.7777777777777778,\"#fb9f3a\"],[0.8888888888888888,\"#fdca26\"],[1.0,\"#f0f921\"]],\"type\":\"heatmapgl\"}],\"histogram\":[{\"marker\":{\"pattern\":{\"fillmode\":\"overlay\",\"size\":10,\"solidity\":0.2}},\"type\":\"histogram\"}],\"histogram2d\":[{\"colorbar\":{\"outlinewidth\":0,\"ticks\":\"\"},\"colorscale\":[[0.0,\"#0d0887\"],[0.1111111111111111,\"#46039f\"],[0.2222222222222222,\"#7201a8\"],[0.3333333333333333,\"#9c179e\"],[0.4444444444444444,\"#bd3786\"],[0.5555555555555556,\"#d8576b\"],[0.6666666666666666,\"#ed7953\"],[0.7777777777777778,\"#fb9f3a\"],[0.8888888888888888,\"#fdca26\"],[1.0,\"#f0f921\"]],\"type\":\"histogram2d\"}],\"histogram2dcontour\":[{\"colorbar\":{\"outlinewidth\":0,\"ticks\":\"\"},\"colorscale\":[[0.0,\"#0d0887\"],[0.1111111111111111,\"#46039f\"],[0.2222222222222222,\"#7201a8\"],[0.3333333333333333,\"#9c179e\"],[0.4444444444444444,\"#bd3786\"],[0.5555555555555556,\"#d8576b\"],[0.6666666666666666,\"#ed7953\"],[0.7777777777777778,\"#fb9f3a\"],[0.8888888888888888,\"#fdca26\"],[1.0,\"#f0f921\"]],\"type\":\"histogram2dcontour\"}],\"mesh3d\":[{\"colorbar\":{\"outlinewidth\":0,\"ticks\":\"\"},\"type\":\"mesh3d\"}],\"parcoords\":[{\"line\":{\"colorbar\":{\"outlinewidth\":0,\"ticks\":\"\"}},\"type\":\"parcoords\"}],\"pie\":[{\"automargin\":true,\"type\":\"pie\"}],\"scatter\":[{\"marker\":{\"colorbar\":{\"outlinewidth\":0,\"ticks\":\"\"}},\"type\":\"scatter\"}],\"scatter3d\":[{\"line\":{\"colorbar\":{\"outlinewidth\":0,\"ticks\":\"\"}},\"marker\":{\"colorbar\":{\"outlinewidth\":0,\"ticks\":\"\"}},\"type\":\"scatter3d\"}],\"scattercarpet\":[{\"marker\":{\"colorbar\":{\"outlinewidth\":0,\"ticks\":\"\"}},\"type\":\"scattercarpet\"}],\"scattergeo\":[{\"marker\":{\"colorbar\":{\"outlinewidth\":0,\"ticks\":\"\"}},\"type\":\"scattergeo\"}],\"scattergl\":[{\"marker\":{\"colorbar\":{\"outlinewidth\":0,\"ticks\":\"\"}},\"type\":\"scattergl\"}],\"scattermapbox\":[{\"marker\":{\"colorbar\":{\"outlinewidth\":0,\"ticks\":\"\"}},\"type\":\"scattermapbox\"}],\"scatterpolar\":[{\"marker\":{\"colorbar\":{\"outlinewidth\":0,\"ticks\":\"\"}},\"type\":\"scatterpolar\"}],\"scatterpolargl\":[{\"marker\":{\"colorbar\":{\"outlinewidth\":0,\"ticks\":\"\"}},\"type\":\"scatterpolargl\"}],\"scatterternary\":[{\"marker\":{\"colorbar\":{\"outlinewidth\":0,\"ticks\":\"\"}},\"type\":\"scatterternary\"}],\"surface\":[{\"colorbar\":{\"outlinewidth\":0,\"ticks\":\"\"},\"colorscale\":[[0.0,\"#0d0887\"],[0.1111111111111111,\"#46039f\"],[0.2222222222222222,\"#7201a8\"],[0.3333333333333333,\"#9c179e\"],[0.4444444444444444,\"#bd3786\"],[0.5555555555555556,\"#d8576b\"],[0.6666666666666666,\"#ed7953\"],[0.7777777777777778,\"#fb9f3a\"],[0.8888888888888888,\"#fdca26\"],[1.0,\"#f0f921\"]],\"type\":\"surface\"}],\"table\":[{\"cells\":{\"fill\":{\"color\":\"#EBF0F8\"},\"line\":{\"color\":\"white\"}},\"header\":{\"fill\":{\"color\":\"#C8D4E3\"},\"line\":{\"color\":\"white\"}},\"type\":\"table\"}]},\"layout\":{\"annotationdefaults\":{\"arrowcolor\":\"#2a3f5f\",\"arrowhead\":0,\"arrowwidth\":1},\"autotypenumbers\":\"strict\",\"coloraxis\":{\"colorbar\":{\"outlinewidth\":0,\"ticks\":\"\"}},\"colorscale\":{\"diverging\":[[0,\"#8e0152\"],[0.1,\"#c51b7d\"],[0.2,\"#de77ae\"],[0.3,\"#f1b6da\"],[0.4,\"#fde0ef\"],[0.5,\"#f7f7f7\"],[0.6,\"#e6f5d0\"],[0.7,\"#b8e186\"],[0.8,\"#7fbc41\"],[0.9,\"#4d9221\"],[1,\"#276419\"]],\"sequential\":[[0.0,\"#0d0887\"],[0.1111111111111111,\"#46039f\"],[0.2222222222222222,\"#7201a8\"],[0.3333333333333333,\"#9c179e\"],[0.4444444444444444,\"#bd3786\"],[0.5555555555555556,\"#d8576b\"],[0.6666666666666666,\"#ed7953\"],[0.7777777777777778,\"#fb9f3a\"],[0.8888888888888888,\"#fdca26\"],[1.0,\"#f0f921\"]],\"sequentialminus\":[[0.0,\"#0d0887\"],[0.1111111111111111,\"#46039f\"],[0.2222222222222222,\"#7201a8\"],[0.3333333333333333,\"#9c179e\"],[0.4444444444444444,\"#bd3786\"],[0.5555555555555556,\"#d8576b\"],[0.6666666666666666,\"#ed7953\"],[0.7777777777777778,\"#fb9f3a\"],[0.8888888888888888,\"#fdca26\"],[1.0,\"#f0f921\"]]},\"colorway\":[\"#636efa\",\"#EF553B\",\"#00cc96\",\"#ab63fa\",\"#FFA15A\",\"#19d3f3\",\"#FF6692\",\"#B6E880\",\"#FF97FF\",\"#FECB52\"],\"font\":{\"color\":\"#2a3f5f\"},\"geo\":{\"bgcolor\":\"white\",\"lakecolor\":\"white\",\"landcolor\":\"#E5ECF6\",\"showlakes\":true,\"showland\":true,\"subunitcolor\":\"white\"},\"hoverlabel\":{\"align\":\"left\"},\"hovermode\":\"closest\",\"mapbox\":{\"style\":\"light\"},\"paper_bgcolor\":\"white\",\"plot_bgcolor\":\"#E5ECF6\",\"polar\":{\"angularaxis\":{\"gridcolor\":\"white\",\"linecolor\":\"white\",\"ticks\":\"\"},\"bgcolor\":\"#E5ECF6\",\"radialaxis\":{\"gridcolor\":\"white\",\"linecolor\":\"white\",\"ticks\":\"\"}},\"scene\":{\"xaxis\":{\"backgroundcolor\":\"#E5ECF6\",\"gridcolor\":\"white\",\"gridwidth\":2,\"linecolor\":\"white\",\"showbackground\":true,\"ticks\":\"\",\"zerolinecolor\":\"white\"},\"yaxis\":{\"backgroundcolor\":\"#E5ECF6\",\"gridcolor\":\"white\",\"gridwidth\":2,\"linecolor\":\"white\",\"showbackground\":true,\"ticks\":\"\",\"zerolinecolor\":\"white\"},\"zaxis\":{\"backgroundcolor\":\"#E5ECF6\",\"gridcolor\":\"white\",\"gridwidth\":2,\"linecolor\":\"white\",\"showbackground\":true,\"ticks\":\"\",\"zerolinecolor\":\"white\"}},\"shapedefaults\":{\"line\":{\"color\":\"#2a3f5f\"}},\"ternary\":{\"aaxis\":{\"gridcolor\":\"white\",\"linecolor\":\"white\",\"ticks\":\"\"},\"baxis\":{\"gridcolor\":\"white\",\"linecolor\":\"white\",\"ticks\":\"\"},\"bgcolor\":\"#E5ECF6\",\"caxis\":{\"gridcolor\":\"white\",\"linecolor\":\"white\",\"ticks\":\"\"}},\"title\":{\"x\":0.05},\"xaxis\":{\"automargin\":true,\"gridcolor\":\"white\",\"linecolor\":\"white\",\"ticks\":\"\",\"title\":{\"standoff\":15},\"zerolinecolor\":\"white\",\"zerolinewidth\":2},\"yaxis\":{\"automargin\":true,\"gridcolor\":\"white\",\"linecolor\":\"white\",\"ticks\":\"\",\"title\":{\"standoff\":15},\"zerolinecolor\":\"white\",\"zerolinewidth\":2}}},\"geo\":{\"domain\":{\"x\":[0.0,1.0],\"y\":[0.0,1.0]},\"center\":{\"lat\":46.8182,\"lon\":8.2275},\"scope\":\"europe\"},\"legend\":{\"tracegroupgap\":0,\"itemsizing\":\"constant\"},\"margin\":{\"t\":60}},                        {\"responsive\": true}                    ).then(function(){\n",
       "                            \n",
       "var gd = document.getElementById('5e515d8f-90c9-4846-a192-115aa93a6a6c');\n",
       "var x = new MutationObserver(function (mutations, observer) {{\n",
       "        var display = window.getComputedStyle(gd).display;\n",
       "        if (!display || display === 'none') {{\n",
       "            console.log([gd, 'removed!']);\n",
       "            Plotly.purge(gd);\n",
       "            observer.disconnect();\n",
       "        }}\n",
       "}});\n",
       "\n",
       "// Listen for the removal of the full notebook cells\n",
       "var notebookContainer = gd.closest('#notebook-container');\n",
       "if (notebookContainer) {{\n",
       "    x.observe(notebookContainer, {childList: true});\n",
       "}}\n",
       "\n",
       "// Listen for the clearing of the current output cell\n",
       "var outputEl = gd.closest('.output');\n",
       "if (outputEl) {{\n",
       "    x.observe(outputEl, {childList: true});\n",
       "}}\n",
       "\n",
       "                        })                };                });            </script>        </div>"
      ]
     },
     "metadata": {},
     "output_type": "display_data"
    }
   ],
   "source": [
    "# Scatter plot for Swiss city counts\n",
    "fig_city = px.scatter_geo(df_city_count_data,\n",
    "                          lat=\"Latitude\",\n",
    "                          lon=\"Longitude\",\n",
    "                          size=\"Count\",  # Size of markers based on count\n",
    "                          hover_name=\"City\",\n",
    "                          scope=\"europe\",  # Focus on Europe\n",
    "                          center={\"lat\": 46.8182, \"lon\": 8.2275})  # Center on Switzerland\n",
    "fig_city.show()"
   ]
  },
  {
   "cell_type": "code",
   "execution_count": 46,
   "id": "17224f90",
   "metadata": {},
   "outputs": [
    {
     "data": {
      "application/vnd.plotly.v1+json": {
       "config": {
        "plotlyServerURL": "https://plot.ly"
       },
       "data": [
        {
         "alignmentgroup": "True",
         "customdata": [
          [
           "Schweiz",
           "Bern"
          ],
          [
           "Deutschland",
           "Berlin"
          ],
          [
           "Israel",
           "Jerusalem"
          ],
          [
           "Italien",
           "Rom"
          ],
          [
           "Frankreich",
           "Paris"
          ],
          [
           "Ukraine",
           "Kiew"
          ],
          [
           "Brasilien",
           "Brasília"
          ],
          [
           "Spanien",
           "Madrid"
          ],
          [
           "Österreich",
           "Wien"
          ],
          [
           "Türkei",
           "Ankara"
          ],
          [
           "Vereinigtes Königreich",
           "London"
          ],
          [
           "Kosovo",
           "Pristina"
          ],
          [
           "Australien",
           "Canberra"
          ],
          [
           "Japan",
           "Tokio"
          ],
          [
           "Kosovo",
           "Priština"
          ],
          [
           "Katar",
           "Doha"
          ],
          [
           "Argentinien",
           "Buenos Aires"
          ],
          [
           "Portugal",
           "Lissabon"
          ],
          [
           "Schweden",
           "Stockholm"
          ],
          [
           "Russland",
           "Moskau"
          ],
          [
           "Dänemark",
           "Kopenhagen"
          ],
          [
           "Iran",
           "Teheran"
          ],
          [
           "Rumänien",
           "Bukarest"
          ],
          [
           "Belgien",
           "Brüssel"
          ],
          [
           "Thailand",
           "Bangkok"
          ],
          [
           "Ägypten",
           "Kairo"
          ],
          [
           "Mexiko",
           "Mexiko-Stadt"
          ],
          [
           "Ungarn",
           "Budapest"
          ],
          [
           "Irland",
           "Dublin"
          ],
          [
           "China (Volksrepublik)",
           "Peking"
          ],
          [
           "Indien",
           "Neu-Delhi"
          ],
          [
           "Albanien",
           "Tirana"
          ],
          [
           "Afghanistan",
           "Kabul"
          ],
          [
           "Polen",
           "Warschau"
          ],
          [
           "Slowenien",
           "Ljubljana (Laibach)"
          ],
          [
           "Kanada",
           "Ottawa"
          ],
          [
           "Bahamas",
           "Nassau"
          ],
          [
           "Griechenland",
           "Athen"
          ],
          [
           "Norwegen",
           "Oslo"
          ],
          [
           "Palästina",
           "Ramallah"
          ],
          [
           "Zypern",
           "Nikosia"
          ],
          [
           "Taiwan",
           "Taipeh"
          ],
          [
           "Neuseeland",
           "Wellington"
          ],
          [
           "Palästina",
           "Ostjerusalem"
          ],
          [
           "Serbien",
           "Belgrad"
          ],
          [
           "Tschechien",
           "Prag"
          ],
          [
           "Eritrea",
           "Asmara"
          ],
          [
           "Kolumbien",
           "Bogotá"
          ],
          [
           "Uruguay",
           "Montevideo"
          ],
          [
           "Niederlande (offiziell)",
           "Amsterdam"
          ],
          [
           "Jemen",
           "Sanaa"
          ],
          [
           "Island",
           "Reykjavík"
          ],
          [
           "Luxemburg",
           "Luxemburg"
          ],
          [
           "Philippinen",
           "Manila"
          ],
          [
           "Syrien",
           "Damaskus"
          ],
          [
           "Indonesien",
           "Jakarta"
          ],
          [
           "Bulgarien",
           "Sofia"
          ],
          [
           "Kroatien",
           "Zagreb (Agram)"
          ],
          [
           "Ruanda",
           "Kigali"
          ],
          [
           "Guatemala",
           "Guatemala-Stadt"
          ],
          [
           "Finnland",
           "Helsinki"
          ],
          [
           "Kasachstan",
           "Astana"
          ],
          [
           "Kuba",
           "Havanna"
          ],
          [
           "Liechtenstein",
           "Vaduz"
          ],
          [
           "Andorra",
           "Andorra la Vella"
          ],
          [
           "Singapur",
           "Singapur"
          ],
          [
           "Monaco",
           "Monaco"
          ],
          [
           "Nepal",
           "Kathmandu"
          ],
          [
           "Vietnam",
           "Hanoi"
          ],
          [
           "Sri Lanka",
           "Colombo"
          ],
          [
           "Estland",
           "Tallinn (Reval)"
          ],
          [
           "Ghana",
           "Accra"
          ],
          [
           "Libyen",
           "Tripolis"
          ],
          [
           "Malta",
           "Valletta"
          ],
          [
           "Irak",
           "Bagdad"
          ],
          [
           "Malediven",
           "Malé"
          ],
          [
           "Tuvalu",
           "Funafuti"
          ],
          [
           "Marokko",
           "Rabat"
          ],
          [
           "Somalia",
           "Mogadischu"
          ],
          [
           "Liberia",
           "Monrovia"
          ],
          [
           "Costa Rica",
           "San José"
          ],
          [
           "Mosambik",
           "Maputo"
          ],
          [
           "Vereinigte Arabische Emirate",
           "Abu Dhabi"
          ],
          [
           "Sudan",
           "Khartum"
          ],
          [
           "Lettland",
           "Riga"
          ],
          [
           "Mazedonien",
           "Skopje"
          ],
          [
           "San Marino",
           "San Marino"
          ],
          [
           "Südafrika",
           "Pretoria (Tshwane)"
          ],
          [
           "Madagaskar",
           "Antananarivo"
          ],
          [
           "Seychellen",
           "Victoria"
          ],
          [
           "Armenien",
           "Jerewan"
          ],
          [
           "Niederlande (Regierungssitz)",
           "Den Haag"
          ],
          [
           "Saudi-Arabien",
           "Riad"
          ],
          [
           "Bosnien und Herzegowina",
           "Sarajevo"
          ],
          [
           "Aserbaidschan",
           "Baku"
          ],
          [
           "Venezuela",
           "Caracas"
          ],
          [
           "Slowakei",
           "Bratislava (Pressburg)"
          ],
          [
           "Panama",
           "Panama-Stadt"
          ],
          [
           "Sierra Leone",
           "Freetown"
          ],
          [
           "Äthiopien",
           "Addis Abeba"
          ],
          [
           "Oman",
           "Maskat"
          ],
          [
           "Tunesien",
           "Tunis"
          ],
          [
           "Kongo, Demokratische Republik",
           "Kinshasa"
          ]
         ],
         "hovertemplate": "EnglishName=%{x}<br>Count=%{y}<br>GermanName=%{customdata[0]}<br>Hauptstadt=%{customdata[1]}<extra></extra>",
         "legendgroup": "",
         "marker": {
          "color": "#636efa",
          "pattern": {
           "shape": ""
          }
         },
         "name": "",
         "offsetgroup": "",
         "orientation": "v",
         "showlegend": false,
         "textposition": "auto",
         "type": "bar",
         "x": [
          "Switzerland",
          "Germany",
          "Israel",
          "Italy",
          "France",
          "Ukraine",
          "Brazil",
          "Spain",
          "Austria",
          "Turkey",
          null,
          null,
          "Australia",
          "Japan",
          null,
          null,
          "Argentina",
          "Portugal",
          "Sweden",
          "Russian Federation",
          "Denmark",
          "Iran (Islamic Republic of)",
          "Romania",
          "Belgium",
          "Thailand",
          "Egypt",
          "Mexico",
          "Hungary",
          "Ireland",
          null,
          "India",
          "Albania",
          "Afghanistan",
          "Poland",
          "Slovenia",
          "Canada",
          "Bahamas",
          "Greece",
          "Norway",
          "Palestine, State of",
          "Cyprus",
          "Taiwan, Province of China",
          "New Zealand",
          "Palestine, State of",
          null,
          null,
          "Eritrea",
          "Colombia",
          "Uruguay",
          null,
          "Yemen",
          "Iceland",
          "Luxembourg",
          "Philippines",
          "Syrian Arab Republic",
          "Indonesia",
          "Bulgaria",
          "Croatia",
          "Rwanda",
          "Guatemala",
          "Finland",
          "Kazakhstan",
          "Cuba",
          "Liechtenstein",
          "Andorra",
          "Singapore",
          "Monaco",
          "Nepal",
          "Viet Nam",
          "Sri Lanka",
          "Estonia",
          "Ghana",
          "Libya",
          "Malta",
          "Iraq",
          "Maldives",
          "Tuvalu",
          "Morocco",
          "Somalia",
          "Liberia",
          "Costa Rica",
          null,
          "United Arab Emirates",
          "Sudan",
          "Latvia",
          "North Macedonia",
          "San Marino",
          "South Africa",
          "Madagascar",
          "Seychelles",
          "Armenia",
          null,
          null,
          null,
          "Azerbaijan",
          "Venezuela (Bolivarian Republic of)",
          "Slovakia",
          "Panama",
          "Sierra Leone",
          "Ethiopia",
          "Oman",
          "Tunisia",
          null
         ],
         "xaxis": "x",
         "y": [
          315,
          69,
          49,
          34,
          32,
          20,
          19,
          17,
          17,
          14,
          12,
          12,
          12,
          12,
          12,
          10,
          9,
          9,
          9,
          9,
          9,
          9,
          8,
          7,
          7,
          7,
          7,
          6,
          6,
          6,
          5,
          5,
          5,
          5,
          5,
          5,
          5,
          5,
          5,
          4,
          4,
          4,
          4,
          4,
          4,
          4,
          3,
          3,
          3,
          3,
          3,
          3,
          3,
          3,
          3,
          3,
          3,
          3,
          2,
          2,
          2,
          2,
          2,
          2,
          2,
          2,
          2,
          2,
          2,
          2,
          2,
          2,
          2,
          2,
          2,
          1,
          1,
          1,
          1,
          1,
          1,
          1,
          1,
          1,
          1,
          1,
          1,
          1,
          1,
          1,
          1,
          1,
          1,
          1,
          1,
          1,
          1,
          1,
          1,
          1,
          1,
          1,
          1
         ],
         "yaxis": "y"
        }
       ],
       "layout": {
        "barmode": "relative",
        "legend": {
         "tracegroupgap": 0
        },
        "margin": {
         "t": 60
        },
        "template": {
         "data": {
          "bar": [
           {
            "error_x": {
             "color": "#2a3f5f"
            },
            "error_y": {
             "color": "#2a3f5f"
            },
            "marker": {
             "line": {
              "color": "#E5ECF6",
              "width": 0.5
             },
             "pattern": {
              "fillmode": "overlay",
              "size": 10,
              "solidity": 0.2
             }
            },
            "type": "bar"
           }
          ],
          "barpolar": [
           {
            "marker": {
             "line": {
              "color": "#E5ECF6",
              "width": 0.5
             },
             "pattern": {
              "fillmode": "overlay",
              "size": 10,
              "solidity": 0.2
             }
            },
            "type": "barpolar"
           }
          ],
          "carpet": [
           {
            "aaxis": {
             "endlinecolor": "#2a3f5f",
             "gridcolor": "white",
             "linecolor": "white",
             "minorgridcolor": "white",
             "startlinecolor": "#2a3f5f"
            },
            "baxis": {
             "endlinecolor": "#2a3f5f",
             "gridcolor": "white",
             "linecolor": "white",
             "minorgridcolor": "white",
             "startlinecolor": "#2a3f5f"
            },
            "type": "carpet"
           }
          ],
          "choropleth": [
           {
            "colorbar": {
             "outlinewidth": 0,
             "ticks": ""
            },
            "type": "choropleth"
           }
          ],
          "contour": [
           {
            "colorbar": {
             "outlinewidth": 0,
             "ticks": ""
            },
            "colorscale": [
             [
              0,
              "#0d0887"
             ],
             [
              0.1111111111111111,
              "#46039f"
             ],
             [
              0.2222222222222222,
              "#7201a8"
             ],
             [
              0.3333333333333333,
              "#9c179e"
             ],
             [
              0.4444444444444444,
              "#bd3786"
             ],
             [
              0.5555555555555556,
              "#d8576b"
             ],
             [
              0.6666666666666666,
              "#ed7953"
             ],
             [
              0.7777777777777778,
              "#fb9f3a"
             ],
             [
              0.8888888888888888,
              "#fdca26"
             ],
             [
              1,
              "#f0f921"
             ]
            ],
            "type": "contour"
           }
          ],
          "contourcarpet": [
           {
            "colorbar": {
             "outlinewidth": 0,
             "ticks": ""
            },
            "type": "contourcarpet"
           }
          ],
          "heatmap": [
           {
            "colorbar": {
             "outlinewidth": 0,
             "ticks": ""
            },
            "colorscale": [
             [
              0,
              "#0d0887"
             ],
             [
              0.1111111111111111,
              "#46039f"
             ],
             [
              0.2222222222222222,
              "#7201a8"
             ],
             [
              0.3333333333333333,
              "#9c179e"
             ],
             [
              0.4444444444444444,
              "#bd3786"
             ],
             [
              0.5555555555555556,
              "#d8576b"
             ],
             [
              0.6666666666666666,
              "#ed7953"
             ],
             [
              0.7777777777777778,
              "#fb9f3a"
             ],
             [
              0.8888888888888888,
              "#fdca26"
             ],
             [
              1,
              "#f0f921"
             ]
            ],
            "type": "heatmap"
           }
          ],
          "heatmapgl": [
           {
            "colorbar": {
             "outlinewidth": 0,
             "ticks": ""
            },
            "colorscale": [
             [
              0,
              "#0d0887"
             ],
             [
              0.1111111111111111,
              "#46039f"
             ],
             [
              0.2222222222222222,
              "#7201a8"
             ],
             [
              0.3333333333333333,
              "#9c179e"
             ],
             [
              0.4444444444444444,
              "#bd3786"
             ],
             [
              0.5555555555555556,
              "#d8576b"
             ],
             [
              0.6666666666666666,
              "#ed7953"
             ],
             [
              0.7777777777777778,
              "#fb9f3a"
             ],
             [
              0.8888888888888888,
              "#fdca26"
             ],
             [
              1,
              "#f0f921"
             ]
            ],
            "type": "heatmapgl"
           }
          ],
          "histogram": [
           {
            "marker": {
             "pattern": {
              "fillmode": "overlay",
              "size": 10,
              "solidity": 0.2
             }
            },
            "type": "histogram"
           }
          ],
          "histogram2d": [
           {
            "colorbar": {
             "outlinewidth": 0,
             "ticks": ""
            },
            "colorscale": [
             [
              0,
              "#0d0887"
             ],
             [
              0.1111111111111111,
              "#46039f"
             ],
             [
              0.2222222222222222,
              "#7201a8"
             ],
             [
              0.3333333333333333,
              "#9c179e"
             ],
             [
              0.4444444444444444,
              "#bd3786"
             ],
             [
              0.5555555555555556,
              "#d8576b"
             ],
             [
              0.6666666666666666,
              "#ed7953"
             ],
             [
              0.7777777777777778,
              "#fb9f3a"
             ],
             [
              0.8888888888888888,
              "#fdca26"
             ],
             [
              1,
              "#f0f921"
             ]
            ],
            "type": "histogram2d"
           }
          ],
          "histogram2dcontour": [
           {
            "colorbar": {
             "outlinewidth": 0,
             "ticks": ""
            },
            "colorscale": [
             [
              0,
              "#0d0887"
             ],
             [
              0.1111111111111111,
              "#46039f"
             ],
             [
              0.2222222222222222,
              "#7201a8"
             ],
             [
              0.3333333333333333,
              "#9c179e"
             ],
             [
              0.4444444444444444,
              "#bd3786"
             ],
             [
              0.5555555555555556,
              "#d8576b"
             ],
             [
              0.6666666666666666,
              "#ed7953"
             ],
             [
              0.7777777777777778,
              "#fb9f3a"
             ],
             [
              0.8888888888888888,
              "#fdca26"
             ],
             [
              1,
              "#f0f921"
             ]
            ],
            "type": "histogram2dcontour"
           }
          ],
          "mesh3d": [
           {
            "colorbar": {
             "outlinewidth": 0,
             "ticks": ""
            },
            "type": "mesh3d"
           }
          ],
          "parcoords": [
           {
            "line": {
             "colorbar": {
              "outlinewidth": 0,
              "ticks": ""
             }
            },
            "type": "parcoords"
           }
          ],
          "pie": [
           {
            "automargin": true,
            "type": "pie"
           }
          ],
          "scatter": [
           {
            "marker": {
             "colorbar": {
              "outlinewidth": 0,
              "ticks": ""
             }
            },
            "type": "scatter"
           }
          ],
          "scatter3d": [
           {
            "line": {
             "colorbar": {
              "outlinewidth": 0,
              "ticks": ""
             }
            },
            "marker": {
             "colorbar": {
              "outlinewidth": 0,
              "ticks": ""
             }
            },
            "type": "scatter3d"
           }
          ],
          "scattercarpet": [
           {
            "marker": {
             "colorbar": {
              "outlinewidth": 0,
              "ticks": ""
             }
            },
            "type": "scattercarpet"
           }
          ],
          "scattergeo": [
           {
            "marker": {
             "colorbar": {
              "outlinewidth": 0,
              "ticks": ""
             }
            },
            "type": "scattergeo"
           }
          ],
          "scattergl": [
           {
            "marker": {
             "colorbar": {
              "outlinewidth": 0,
              "ticks": ""
             }
            },
            "type": "scattergl"
           }
          ],
          "scattermapbox": [
           {
            "marker": {
             "colorbar": {
              "outlinewidth": 0,
              "ticks": ""
             }
            },
            "type": "scattermapbox"
           }
          ],
          "scatterpolar": [
           {
            "marker": {
             "colorbar": {
              "outlinewidth": 0,
              "ticks": ""
             }
            },
            "type": "scatterpolar"
           }
          ],
          "scatterpolargl": [
           {
            "marker": {
             "colorbar": {
              "outlinewidth": 0,
              "ticks": ""
             }
            },
            "type": "scatterpolargl"
           }
          ],
          "scatterternary": [
           {
            "marker": {
             "colorbar": {
              "outlinewidth": 0,
              "ticks": ""
             }
            },
            "type": "scatterternary"
           }
          ],
          "surface": [
           {
            "colorbar": {
             "outlinewidth": 0,
             "ticks": ""
            },
            "colorscale": [
             [
              0,
              "#0d0887"
             ],
             [
              0.1111111111111111,
              "#46039f"
             ],
             [
              0.2222222222222222,
              "#7201a8"
             ],
             [
              0.3333333333333333,
              "#9c179e"
             ],
             [
              0.4444444444444444,
              "#bd3786"
             ],
             [
              0.5555555555555556,
              "#d8576b"
             ],
             [
              0.6666666666666666,
              "#ed7953"
             ],
             [
              0.7777777777777778,
              "#fb9f3a"
             ],
             [
              0.8888888888888888,
              "#fdca26"
             ],
             [
              1,
              "#f0f921"
             ]
            ],
            "type": "surface"
           }
          ],
          "table": [
           {
            "cells": {
             "fill": {
              "color": "#EBF0F8"
             },
             "line": {
              "color": "white"
             }
            },
            "header": {
             "fill": {
              "color": "#C8D4E3"
             },
             "line": {
              "color": "white"
             }
            },
            "type": "table"
           }
          ]
         },
         "layout": {
          "annotationdefaults": {
           "arrowcolor": "#2a3f5f",
           "arrowhead": 0,
           "arrowwidth": 1
          },
          "autotypenumbers": "strict",
          "coloraxis": {
           "colorbar": {
            "outlinewidth": 0,
            "ticks": ""
           }
          },
          "colorscale": {
           "diverging": [
            [
             0,
             "#8e0152"
            ],
            [
             0.1,
             "#c51b7d"
            ],
            [
             0.2,
             "#de77ae"
            ],
            [
             0.3,
             "#f1b6da"
            ],
            [
             0.4,
             "#fde0ef"
            ],
            [
             0.5,
             "#f7f7f7"
            ],
            [
             0.6,
             "#e6f5d0"
            ],
            [
             0.7,
             "#b8e186"
            ],
            [
             0.8,
             "#7fbc41"
            ],
            [
             0.9,
             "#4d9221"
            ],
            [
             1,
             "#276419"
            ]
           ],
           "sequential": [
            [
             0,
             "#0d0887"
            ],
            [
             0.1111111111111111,
             "#46039f"
            ],
            [
             0.2222222222222222,
             "#7201a8"
            ],
            [
             0.3333333333333333,
             "#9c179e"
            ],
            [
             0.4444444444444444,
             "#bd3786"
            ],
            [
             0.5555555555555556,
             "#d8576b"
            ],
            [
             0.6666666666666666,
             "#ed7953"
            ],
            [
             0.7777777777777778,
             "#fb9f3a"
            ],
            [
             0.8888888888888888,
             "#fdca26"
            ],
            [
             1,
             "#f0f921"
            ]
           ],
           "sequentialminus": [
            [
             0,
             "#0d0887"
            ],
            [
             0.1111111111111111,
             "#46039f"
            ],
            [
             0.2222222222222222,
             "#7201a8"
            ],
            [
             0.3333333333333333,
             "#9c179e"
            ],
            [
             0.4444444444444444,
             "#bd3786"
            ],
            [
             0.5555555555555556,
             "#d8576b"
            ],
            [
             0.6666666666666666,
             "#ed7953"
            ],
            [
             0.7777777777777778,
             "#fb9f3a"
            ],
            [
             0.8888888888888888,
             "#fdca26"
            ],
            [
             1,
             "#f0f921"
            ]
           ]
          },
          "colorway": [
           "#636efa",
           "#EF553B",
           "#00cc96",
           "#ab63fa",
           "#FFA15A",
           "#19d3f3",
           "#FF6692",
           "#B6E880",
           "#FF97FF",
           "#FECB52"
          ],
          "font": {
           "color": "#2a3f5f"
          },
          "geo": {
           "bgcolor": "white",
           "lakecolor": "white",
           "landcolor": "#E5ECF6",
           "showlakes": true,
           "showland": true,
           "subunitcolor": "white"
          },
          "hoverlabel": {
           "align": "left"
          },
          "hovermode": "closest",
          "mapbox": {
           "style": "light"
          },
          "paper_bgcolor": "white",
          "plot_bgcolor": "#E5ECF6",
          "polar": {
           "angularaxis": {
            "gridcolor": "white",
            "linecolor": "white",
            "ticks": ""
           },
           "bgcolor": "#E5ECF6",
           "radialaxis": {
            "gridcolor": "white",
            "linecolor": "white",
            "ticks": ""
           }
          },
          "scene": {
           "xaxis": {
            "backgroundcolor": "#E5ECF6",
            "gridcolor": "white",
            "gridwidth": 2,
            "linecolor": "white",
            "showbackground": true,
            "ticks": "",
            "zerolinecolor": "white"
           },
           "yaxis": {
            "backgroundcolor": "#E5ECF6",
            "gridcolor": "white",
            "gridwidth": 2,
            "linecolor": "white",
            "showbackground": true,
            "ticks": "",
            "zerolinecolor": "white"
           },
           "zaxis": {
            "backgroundcolor": "#E5ECF6",
            "gridcolor": "white",
            "gridwidth": 2,
            "linecolor": "white",
            "showbackground": true,
            "ticks": "",
            "zerolinecolor": "white"
           }
          },
          "shapedefaults": {
           "line": {
            "color": "#2a3f5f"
           }
          },
          "ternary": {
           "aaxis": {
            "gridcolor": "white",
            "linecolor": "white",
            "ticks": ""
           },
           "baxis": {
            "gridcolor": "white",
            "linecolor": "white",
            "ticks": ""
           },
           "bgcolor": "#E5ECF6",
           "caxis": {
            "gridcolor": "white",
            "linecolor": "white",
            "ticks": ""
           }
          },
          "title": {
           "x": 0.05
          },
          "xaxis": {
           "automargin": true,
           "gridcolor": "white",
           "linecolor": "white",
           "ticks": "",
           "title": {
            "standoff": 15
           },
           "zerolinecolor": "white",
           "zerolinewidth": 2
          },
          "yaxis": {
           "automargin": true,
           "gridcolor": "white",
           "linecolor": "white",
           "ticks": "",
           "title": {
            "standoff": 15
           },
           "zerolinecolor": "white",
           "zerolinewidth": 2
          }
         }
        },
        "xaxis": {
         "anchor": "y",
         "domain": [
          0,
          1
         ],
         "title": {
          "text": "EnglishName"
         }
        },
        "yaxis": {
         "anchor": "x",
         "domain": [
          0,
          1
         ],
         "title": {
          "text": "Count"
         }
        }
       }
      },
      "text/html": [
       "<div>                            <div id=\"eced493c-189d-4ab1-8a08-3823ecf0077c\" class=\"plotly-graph-div\" style=\"height:525px; width:100%;\"></div>            <script type=\"text/javascript\">                require([\"plotly\"], function(Plotly) {                    window.PLOTLYENV=window.PLOTLYENV || {};                                    if (document.getElementById(\"eced493c-189d-4ab1-8a08-3823ecf0077c\")) {                    Plotly.newPlot(                        \"eced493c-189d-4ab1-8a08-3823ecf0077c\",                        [{\"alignmentgroup\":\"True\",\"customdata\":[[\"Schweiz\",\"Bern\"],[\"Deutschland\",\"Berlin\"],[\"Israel\",\"Jerusalem\"],[\"Italien\",\"Rom\"],[\"Frankreich\",\"Paris\"],[\"Ukraine\",\"Kiew\"],[\"Brasilien\",\"Bras\\u00edlia\"],[\"Spanien\",\"Madrid\"],[\"\\u00d6sterreich\",\"Wien\"],[\"T\\u00fcrkei\",\"Ankara\"],[\"Vereinigtes K\\u00f6nigreich\",\"London\"],[\"Kosovo\",\"Pristina\"],[\"Australien\",\"Canberra\"],[\"Japan\",\"Tokio\"],[\"Kosovo\",\"Pri\\u0161tina\"],[\"Katar\",\"Doha\"],[\"Argentinien\",\"Buenos Aires\"],[\"Portugal\",\"Lissabon\"],[\"Schweden\",\"Stockholm\"],[\"Russland\",\"Moskau\"],[\"D\\u00e4nemark\",\"Kopenhagen\"],[\"Iran\",\"Teheran\"],[\"Rum\\u00e4nien\",\"Bukarest\"],[\"Belgien\",\"Br\\u00fcssel\"],[\"Thailand\",\"Bangkok\"],[\"\\u00c4gypten\",\"Kairo\"],[\"Mexiko\",\"Mexiko-Stadt\"],[\"Ungarn\",\"Budapest\"],[\"Irland\",\"Dublin\"],[\"China (Volksrepublik)\",\"Peking\"],[\"Indien\",\"Neu-Delhi\"],[\"Albanien\",\"Tirana\"],[\"Afghanistan\",\"Kabul\"],[\"Polen\",\"Warschau\"],[\"Slowenien\",\"Ljubljana (Laibach)\"],[\"Kanada\",\"Ottawa\"],[\"Bahamas\",\"Nassau\"],[\"Griechenland\",\"Athen\"],[\"Norwegen\",\"Oslo\"],[\"Pal\\u00e4stina\",\"Ramallah\"],[\"Zypern\",\"Nikosia\"],[\"Taiwan\",\"Taipeh\"],[\"Neuseeland\",\"Wellington\"],[\"Pal\\u00e4stina\",\"Ostjerusalem\"],[\"Serbien\",\"Belgrad\"],[\"Tschechien\",\"Prag\"],[\"Eritrea\",\"Asmara\"],[\"Kolumbien\",\"Bogot\\u00e1\"],[\"Uruguay\",\"Montevideo\"],[\"Niederlande (offiziell)\",\"Amsterdam\"],[\"Jemen\",\"Sanaa\"],[\"Island\",\"Reykjav\\u00edk\"],[\"Luxemburg\",\"Luxemburg\"],[\"Philippinen\",\"Manila\"],[\"Syrien\",\"Damaskus\"],[\"Indonesien\",\"Jakarta\"],[\"Bulgarien\",\"Sofia\"],[\"Kroatien\",\"Zagreb (Agram)\"],[\"Ruanda\",\"Kigali\"],[\"Guatemala\",\"Guatemala-Stadt\"],[\"Finnland\",\"Helsinki\"],[\"Kasachstan\",\"Astana\"],[\"Kuba\",\"Havanna\"],[\"Liechtenstein\",\"Vaduz\"],[\"Andorra\",\"Andorra la Vella\"],[\"Singapur\",\"Singapur\"],[\"Monaco\",\"Monaco\"],[\"Nepal\",\"Kathmandu\"],[\"Vietnam\",\"Hanoi\"],[\"Sri Lanka\",\"Colombo\"],[\"Estland\",\"Tallinn (Reval)\"],[\"Ghana\",\"Accra\"],[\"Libyen\",\"Tripolis\"],[\"Malta\",\"Valletta\"],[\"Irak\",\"Bagdad\"],[\"Malediven\",\"Mal\\u00e9\"],[\"Tuvalu\",\"Funafuti\"],[\"Marokko\",\"Rabat\"],[\"Somalia\",\"Mogadischu\"],[\"Liberia\",\"Monrovia\"],[\"Costa Rica\",\"San Jos\\u00e9\"],[\"Mosambik\",\"Maputo\"],[\"Vereinigte Arabische Emirate\",\"Abu Dhabi\"],[\"Sudan\",\"Khartum\"],[\"Lettland\",\"Riga\"],[\"Mazedonien\",\"Skopje\"],[\"San Marino\",\"San Marino\"],[\"S\\u00fcdafrika\",\"Pretoria (Tshwane)\"],[\"Madagaskar\",\"Antananarivo\"],[\"Seychellen\",\"Victoria\"],[\"Armenien\",\"Jerewan\"],[\"Niederlande (Regierungssitz)\",\"Den Haag\"],[\"Saudi-Arabien\",\"Riad\"],[\"Bosnien und Herzegowina\",\"Sarajevo\"],[\"Aserbaidschan\",\"Baku\"],[\"Venezuela\",\"Caracas\"],[\"Slowakei\",\"Bratislava (Pressburg)\"],[\"Panama\",\"Panama-Stadt\"],[\"Sierra Leone\",\"Freetown\"],[\"\\u00c4thiopien\",\"Addis Abeba\"],[\"Oman\",\"Maskat\"],[\"Tunesien\",\"Tunis\"],[\"Kongo, Demokratische Republik\",\"Kinshasa\"]],\"hovertemplate\":\"EnglishName=%{x}<br>Count=%{y}<br>GermanName=%{customdata[0]}<br>Hauptstadt=%{customdata[1]}<extra></extra>\",\"legendgroup\":\"\",\"marker\":{\"color\":\"#636efa\",\"pattern\":{\"shape\":\"\"}},\"name\":\"\",\"offsetgroup\":\"\",\"orientation\":\"v\",\"showlegend\":false,\"textposition\":\"auto\",\"x\":[\"Switzerland\",\"Germany\",\"Israel\",\"Italy\",\"France\",\"Ukraine\",\"Brazil\",\"Spain\",\"Austria\",\"Turkey\",null,null,\"Australia\",\"Japan\",null,null,\"Argentina\",\"Portugal\",\"Sweden\",\"Russian Federation\",\"Denmark\",\"Iran (Islamic Republic of)\",\"Romania\",\"Belgium\",\"Thailand\",\"Egypt\",\"Mexico\",\"Hungary\",\"Ireland\",null,\"India\",\"Albania\",\"Afghanistan\",\"Poland\",\"Slovenia\",\"Canada\",\"Bahamas\",\"Greece\",\"Norway\",\"Palestine, State of\",\"Cyprus\",\"Taiwan, Province of China\",\"New Zealand\",\"Palestine, State of\",null,null,\"Eritrea\",\"Colombia\",\"Uruguay\",null,\"Yemen\",\"Iceland\",\"Luxembourg\",\"Philippines\",\"Syrian Arab Republic\",\"Indonesia\",\"Bulgaria\",\"Croatia\",\"Rwanda\",\"Guatemala\",\"Finland\",\"Kazakhstan\",\"Cuba\",\"Liechtenstein\",\"Andorra\",\"Singapore\",\"Monaco\",\"Nepal\",\"Viet Nam\",\"Sri Lanka\",\"Estonia\",\"Ghana\",\"Libya\",\"Malta\",\"Iraq\",\"Maldives\",\"Tuvalu\",\"Morocco\",\"Somalia\",\"Liberia\",\"Costa Rica\",null,\"United Arab Emirates\",\"Sudan\",\"Latvia\",\"North Macedonia\",\"San Marino\",\"South Africa\",\"Madagascar\",\"Seychelles\",\"Armenia\",null,null,null,\"Azerbaijan\",\"Venezuela (Bolivarian Republic of)\",\"Slovakia\",\"Panama\",\"Sierra Leone\",\"Ethiopia\",\"Oman\",\"Tunisia\",null],\"xaxis\":\"x\",\"y\":[315,69,49,34,32,20,19,17,17,14,12,12,12,12,12,10,9,9,9,9,9,9,8,7,7,7,7,6,6,6,5,5,5,5,5,5,5,5,5,4,4,4,4,4,4,4,3,3,3,3,3,3,3,3,3,3,3,3,2,2,2,2,2,2,2,2,2,2,2,2,2,2,2,2,2,1,1,1,1,1,1,1,1,1,1,1,1,1,1,1,1,1,1,1,1,1,1,1,1,1,1,1,1],\"yaxis\":\"y\",\"type\":\"bar\"}],                        {\"template\":{\"data\":{\"bar\":[{\"error_x\":{\"color\":\"#2a3f5f\"},\"error_y\":{\"color\":\"#2a3f5f\"},\"marker\":{\"line\":{\"color\":\"#E5ECF6\",\"width\":0.5},\"pattern\":{\"fillmode\":\"overlay\",\"size\":10,\"solidity\":0.2}},\"type\":\"bar\"}],\"barpolar\":[{\"marker\":{\"line\":{\"color\":\"#E5ECF6\",\"width\":0.5},\"pattern\":{\"fillmode\":\"overlay\",\"size\":10,\"solidity\":0.2}},\"type\":\"barpolar\"}],\"carpet\":[{\"aaxis\":{\"endlinecolor\":\"#2a3f5f\",\"gridcolor\":\"white\",\"linecolor\":\"white\",\"minorgridcolor\":\"white\",\"startlinecolor\":\"#2a3f5f\"},\"baxis\":{\"endlinecolor\":\"#2a3f5f\",\"gridcolor\":\"white\",\"linecolor\":\"white\",\"minorgridcolor\":\"white\",\"startlinecolor\":\"#2a3f5f\"},\"type\":\"carpet\"}],\"choropleth\":[{\"colorbar\":{\"outlinewidth\":0,\"ticks\":\"\"},\"type\":\"choropleth\"}],\"contour\":[{\"colorbar\":{\"outlinewidth\":0,\"ticks\":\"\"},\"colorscale\":[[0.0,\"#0d0887\"],[0.1111111111111111,\"#46039f\"],[0.2222222222222222,\"#7201a8\"],[0.3333333333333333,\"#9c179e\"],[0.4444444444444444,\"#bd3786\"],[0.5555555555555556,\"#d8576b\"],[0.6666666666666666,\"#ed7953\"],[0.7777777777777778,\"#fb9f3a\"],[0.8888888888888888,\"#fdca26\"],[1.0,\"#f0f921\"]],\"type\":\"contour\"}],\"contourcarpet\":[{\"colorbar\":{\"outlinewidth\":0,\"ticks\":\"\"},\"type\":\"contourcarpet\"}],\"heatmap\":[{\"colorbar\":{\"outlinewidth\":0,\"ticks\":\"\"},\"colorscale\":[[0.0,\"#0d0887\"],[0.1111111111111111,\"#46039f\"],[0.2222222222222222,\"#7201a8\"],[0.3333333333333333,\"#9c179e\"],[0.4444444444444444,\"#bd3786\"],[0.5555555555555556,\"#d8576b\"],[0.6666666666666666,\"#ed7953\"],[0.7777777777777778,\"#fb9f3a\"],[0.8888888888888888,\"#fdca26\"],[1.0,\"#f0f921\"]],\"type\":\"heatmap\"}],\"heatmapgl\":[{\"colorbar\":{\"outlinewidth\":0,\"ticks\":\"\"},\"colorscale\":[[0.0,\"#0d0887\"],[0.1111111111111111,\"#46039f\"],[0.2222222222222222,\"#7201a8\"],[0.3333333333333333,\"#9c179e\"],[0.4444444444444444,\"#bd3786\"],[0.5555555555555556,\"#d8576b\"],[0.6666666666666666,\"#ed7953\"],[0.7777777777777778,\"#fb9f3a\"],[0.8888888888888888,\"#fdca26\"],[1.0,\"#f0f921\"]],\"type\":\"heatmapgl\"}],\"histogram\":[{\"marker\":{\"pattern\":{\"fillmode\":\"overlay\",\"size\":10,\"solidity\":0.2}},\"type\":\"histogram\"}],\"histogram2d\":[{\"colorbar\":{\"outlinewidth\":0,\"ticks\":\"\"},\"colorscale\":[[0.0,\"#0d0887\"],[0.1111111111111111,\"#46039f\"],[0.2222222222222222,\"#7201a8\"],[0.3333333333333333,\"#9c179e\"],[0.4444444444444444,\"#bd3786\"],[0.5555555555555556,\"#d8576b\"],[0.6666666666666666,\"#ed7953\"],[0.7777777777777778,\"#fb9f3a\"],[0.8888888888888888,\"#fdca26\"],[1.0,\"#f0f921\"]],\"type\":\"histogram2d\"}],\"histogram2dcontour\":[{\"colorbar\":{\"outlinewidth\":0,\"ticks\":\"\"},\"colorscale\":[[0.0,\"#0d0887\"],[0.1111111111111111,\"#46039f\"],[0.2222222222222222,\"#7201a8\"],[0.3333333333333333,\"#9c179e\"],[0.4444444444444444,\"#bd3786\"],[0.5555555555555556,\"#d8576b\"],[0.6666666666666666,\"#ed7953\"],[0.7777777777777778,\"#fb9f3a\"],[0.8888888888888888,\"#fdca26\"],[1.0,\"#f0f921\"]],\"type\":\"histogram2dcontour\"}],\"mesh3d\":[{\"colorbar\":{\"outlinewidth\":0,\"ticks\":\"\"},\"type\":\"mesh3d\"}],\"parcoords\":[{\"line\":{\"colorbar\":{\"outlinewidth\":0,\"ticks\":\"\"}},\"type\":\"parcoords\"}],\"pie\":[{\"automargin\":true,\"type\":\"pie\"}],\"scatter\":[{\"marker\":{\"colorbar\":{\"outlinewidth\":0,\"ticks\":\"\"}},\"type\":\"scatter\"}],\"scatter3d\":[{\"line\":{\"colorbar\":{\"outlinewidth\":0,\"ticks\":\"\"}},\"marker\":{\"colorbar\":{\"outlinewidth\":0,\"ticks\":\"\"}},\"type\":\"scatter3d\"}],\"scattercarpet\":[{\"marker\":{\"colorbar\":{\"outlinewidth\":0,\"ticks\":\"\"}},\"type\":\"scattercarpet\"}],\"scattergeo\":[{\"marker\":{\"colorbar\":{\"outlinewidth\":0,\"ticks\":\"\"}},\"type\":\"scattergeo\"}],\"scattergl\":[{\"marker\":{\"colorbar\":{\"outlinewidth\":0,\"ticks\":\"\"}},\"type\":\"scattergl\"}],\"scattermapbox\":[{\"marker\":{\"colorbar\":{\"outlinewidth\":0,\"ticks\":\"\"}},\"type\":\"scattermapbox\"}],\"scatterpolar\":[{\"marker\":{\"colorbar\":{\"outlinewidth\":0,\"ticks\":\"\"}},\"type\":\"scatterpolar\"}],\"scatterpolargl\":[{\"marker\":{\"colorbar\":{\"outlinewidth\":0,\"ticks\":\"\"}},\"type\":\"scatterpolargl\"}],\"scatterternary\":[{\"marker\":{\"colorbar\":{\"outlinewidth\":0,\"ticks\":\"\"}},\"type\":\"scatterternary\"}],\"surface\":[{\"colorbar\":{\"outlinewidth\":0,\"ticks\":\"\"},\"colorscale\":[[0.0,\"#0d0887\"],[0.1111111111111111,\"#46039f\"],[0.2222222222222222,\"#7201a8\"],[0.3333333333333333,\"#9c179e\"],[0.4444444444444444,\"#bd3786\"],[0.5555555555555556,\"#d8576b\"],[0.6666666666666666,\"#ed7953\"],[0.7777777777777778,\"#fb9f3a\"],[0.8888888888888888,\"#fdca26\"],[1.0,\"#f0f921\"]],\"type\":\"surface\"}],\"table\":[{\"cells\":{\"fill\":{\"color\":\"#EBF0F8\"},\"line\":{\"color\":\"white\"}},\"header\":{\"fill\":{\"color\":\"#C8D4E3\"},\"line\":{\"color\":\"white\"}},\"type\":\"table\"}]},\"layout\":{\"annotationdefaults\":{\"arrowcolor\":\"#2a3f5f\",\"arrowhead\":0,\"arrowwidth\":1},\"autotypenumbers\":\"strict\",\"coloraxis\":{\"colorbar\":{\"outlinewidth\":0,\"ticks\":\"\"}},\"colorscale\":{\"diverging\":[[0,\"#8e0152\"],[0.1,\"#c51b7d\"],[0.2,\"#de77ae\"],[0.3,\"#f1b6da\"],[0.4,\"#fde0ef\"],[0.5,\"#f7f7f7\"],[0.6,\"#e6f5d0\"],[0.7,\"#b8e186\"],[0.8,\"#7fbc41\"],[0.9,\"#4d9221\"],[1,\"#276419\"]],\"sequential\":[[0.0,\"#0d0887\"],[0.1111111111111111,\"#46039f\"],[0.2222222222222222,\"#7201a8\"],[0.3333333333333333,\"#9c179e\"],[0.4444444444444444,\"#bd3786\"],[0.5555555555555556,\"#d8576b\"],[0.6666666666666666,\"#ed7953\"],[0.7777777777777778,\"#fb9f3a\"],[0.8888888888888888,\"#fdca26\"],[1.0,\"#f0f921\"]],\"sequentialminus\":[[0.0,\"#0d0887\"],[0.1111111111111111,\"#46039f\"],[0.2222222222222222,\"#7201a8\"],[0.3333333333333333,\"#9c179e\"],[0.4444444444444444,\"#bd3786\"],[0.5555555555555556,\"#d8576b\"],[0.6666666666666666,\"#ed7953\"],[0.7777777777777778,\"#fb9f3a\"],[0.8888888888888888,\"#fdca26\"],[1.0,\"#f0f921\"]]},\"colorway\":[\"#636efa\",\"#EF553B\",\"#00cc96\",\"#ab63fa\",\"#FFA15A\",\"#19d3f3\",\"#FF6692\",\"#B6E880\",\"#FF97FF\",\"#FECB52\"],\"font\":{\"color\":\"#2a3f5f\"},\"geo\":{\"bgcolor\":\"white\",\"lakecolor\":\"white\",\"landcolor\":\"#E5ECF6\",\"showlakes\":true,\"showland\":true,\"subunitcolor\":\"white\"},\"hoverlabel\":{\"align\":\"left\"},\"hovermode\":\"closest\",\"mapbox\":{\"style\":\"light\"},\"paper_bgcolor\":\"white\",\"plot_bgcolor\":\"#E5ECF6\",\"polar\":{\"angularaxis\":{\"gridcolor\":\"white\",\"linecolor\":\"white\",\"ticks\":\"\"},\"bgcolor\":\"#E5ECF6\",\"radialaxis\":{\"gridcolor\":\"white\",\"linecolor\":\"white\",\"ticks\":\"\"}},\"scene\":{\"xaxis\":{\"backgroundcolor\":\"#E5ECF6\",\"gridcolor\":\"white\",\"gridwidth\":2,\"linecolor\":\"white\",\"showbackground\":true,\"ticks\":\"\",\"zerolinecolor\":\"white\"},\"yaxis\":{\"backgroundcolor\":\"#E5ECF6\",\"gridcolor\":\"white\",\"gridwidth\":2,\"linecolor\":\"white\",\"showbackground\":true,\"ticks\":\"\",\"zerolinecolor\":\"white\"},\"zaxis\":{\"backgroundcolor\":\"#E5ECF6\",\"gridcolor\":\"white\",\"gridwidth\":2,\"linecolor\":\"white\",\"showbackground\":true,\"ticks\":\"\",\"zerolinecolor\":\"white\"}},\"shapedefaults\":{\"line\":{\"color\":\"#2a3f5f\"}},\"ternary\":{\"aaxis\":{\"gridcolor\":\"white\",\"linecolor\":\"white\",\"ticks\":\"\"},\"baxis\":{\"gridcolor\":\"white\",\"linecolor\":\"white\",\"ticks\":\"\"},\"bgcolor\":\"#E5ECF6\",\"caxis\":{\"gridcolor\":\"white\",\"linecolor\":\"white\",\"ticks\":\"\"}},\"title\":{\"x\":0.05},\"xaxis\":{\"automargin\":true,\"gridcolor\":\"white\",\"linecolor\":\"white\",\"ticks\":\"\",\"title\":{\"standoff\":15},\"zerolinecolor\":\"white\",\"zerolinewidth\":2},\"yaxis\":{\"automargin\":true,\"gridcolor\":\"white\",\"linecolor\":\"white\",\"ticks\":\"\",\"title\":{\"standoff\":15},\"zerolinecolor\":\"white\",\"zerolinewidth\":2}}},\"xaxis\":{\"anchor\":\"y\",\"domain\":[0.0,1.0],\"title\":{\"text\":\"EnglishName\"}},\"yaxis\":{\"anchor\":\"x\",\"domain\":[0.0,1.0],\"title\":{\"text\":\"Count\"}},\"legend\":{\"tracegroupgap\":0},\"margin\":{\"t\":60},\"barmode\":\"relative\"},                        {\"responsive\": true}                    ).then(function(){\n",
       "                            \n",
       "var gd = document.getElementById('eced493c-189d-4ab1-8a08-3823ecf0077c');\n",
       "var x = new MutationObserver(function (mutations, observer) {{\n",
       "        var display = window.getComputedStyle(gd).display;\n",
       "        if (!display || display === 'none') {{\n",
       "            console.log([gd, 'removed!']);\n",
       "            Plotly.purge(gd);\n",
       "            observer.disconnect();\n",
       "        }}\n",
       "}});\n",
       "\n",
       "// Listen for the removal of the full notebook cells\n",
       "var notebookContainer = gd.closest('#notebook-container');\n",
       "if (notebookContainer) {{\n",
       "    x.observe(notebookContainer, {childList: true});\n",
       "}}\n",
       "\n",
       "// Listen for the clearing of the current output cell\n",
       "var outputEl = gd.closest('.output');\n",
       "if (outputEl) {{\n",
       "    x.observe(outputEl, {childList: true});\n",
       "}}\n",
       "\n",
       "                        })                };                });            </script>        </div>"
      ]
     },
     "metadata": {},
     "output_type": "display_data"
    }
   ],
   "source": [
    "# Interactive bar chart for top countries\n",
    "fig_bar_country = px.bar(df_country_count_data.sort_values('Count', ascending=False),\n",
    "                         x=\"EnglishName\",\n",
    "                         y=\"Count\",\n",
    "                         hover_data=[\"GermanName\", \"CapitalNameGerman\"])\n",
    "fig_bar_country.show()"
   ]
  },
  {
   "cell_type": "code",
   "execution_count": 47,
   "id": "8a3208dc",
   "metadata": {},
   "outputs": [
    {
     "data": {
      "application/vnd.plotly.v1+json": {
       "config": {
        "plotlyServerURL": "https://plot.ly"
       },
       "data": [
        {
         "alignmentgroup": "True",
         "hovertemplate": "City=%{x}<br>Count=%{y}<extra></extra>",
         "legendgroup": "",
         "marker": {
          "color": "#636efa",
          "pattern": {
           "shape": ""
          }
         },
         "name": "",
         "offsetgroup": "",
         "orientation": "v",
         "showlegend": false,
         "textposition": "auto",
         "type": "bar",
         "x": [
          "zurich ",
          "basel ",
          "bern ",
          "st. gallen ",
          "zug ",
          "luzern ",
          "genf ",
          "baden ",
          "freiburg ",
          "schaffhausen ",
          "winterthur ",
          "solothurn ",
          "lugano ",
          "lausanne ",
          "thun ",
          "chur ",
          "ittigen",
          "aarau ",
          "wil ",
          "glarus",
          "spreitenbach",
          "kreuzlingen",
          "frauenfeld ",
          "arbon ",
          "lenzburg ",
          "kloten",
          "davos",
          "einsiedeln",
          "neuenburg ",
          "liestal ",
          "munsingen",
          "schwyz ",
          "wald",
          "dietikon",
          "bulach ",
          "sursee ",
          "pratteln",
          "weinfelden",
          "flawil",
          "muttenz",
          "olten ",
          "montreux",
          "wallisellen",
          "muri bei bern",
          "sitten ",
          "kriens",
          "cham",
          "schlieren",
          "bulle ",
          "ruti",
          "riehen",
          "payerne ",
          "hinwil",
          "opfikon",
          "reinach",
          "dubendorf",
          "uster",
          "gossau",
          "gossau",
          "richterswil",
          "horgen",
          "wadenswil",
          "volketswil",
          "sarnen ",
          "wettingen",
          "martigny ",
          "brugg ",
          "herisau",
          "bassersdorf",
          "steinhausen",
          "oberwil ",
          "pfaffikon",
          "lyss",
          "birsfelden",
          "burgdorf ",
          "baar",
          "buchs"
         ],
         "xaxis": "x",
         "y": [
          130,
          57,
          47,
          38,
          29,
          26,
          18,
          9,
          9,
          8,
          8,
          8,
          7,
          7,
          6,
          5,
          5,
          5,
          5,
          5,
          5,
          4,
          4,
          3,
          3,
          3,
          3,
          3,
          3,
          3,
          3,
          3,
          3,
          2,
          2,
          2,
          2,
          2,
          2,
          2,
          2,
          2,
          2,
          2,
          1,
          1,
          1,
          1,
          1,
          1,
          1,
          1,
          1,
          1,
          1,
          1,
          1,
          1,
          1,
          1,
          1,
          1,
          1,
          1,
          1,
          1,
          1,
          1,
          1,
          1,
          1,
          1,
          1,
          1,
          1,
          1,
          1
         ],
         "yaxis": "y"
        }
       ],
       "layout": {
        "barmode": "relative",
        "legend": {
         "tracegroupgap": 0
        },
        "margin": {
         "t": 60
        },
        "template": {
         "data": {
          "bar": [
           {
            "error_x": {
             "color": "#2a3f5f"
            },
            "error_y": {
             "color": "#2a3f5f"
            },
            "marker": {
             "line": {
              "color": "#E5ECF6",
              "width": 0.5
             },
             "pattern": {
              "fillmode": "overlay",
              "size": 10,
              "solidity": 0.2
             }
            },
            "type": "bar"
           }
          ],
          "barpolar": [
           {
            "marker": {
             "line": {
              "color": "#E5ECF6",
              "width": 0.5
             },
             "pattern": {
              "fillmode": "overlay",
              "size": 10,
              "solidity": 0.2
             }
            },
            "type": "barpolar"
           }
          ],
          "carpet": [
           {
            "aaxis": {
             "endlinecolor": "#2a3f5f",
             "gridcolor": "white",
             "linecolor": "white",
             "minorgridcolor": "white",
             "startlinecolor": "#2a3f5f"
            },
            "baxis": {
             "endlinecolor": "#2a3f5f",
             "gridcolor": "white",
             "linecolor": "white",
             "minorgridcolor": "white",
             "startlinecolor": "#2a3f5f"
            },
            "type": "carpet"
           }
          ],
          "choropleth": [
           {
            "colorbar": {
             "outlinewidth": 0,
             "ticks": ""
            },
            "type": "choropleth"
           }
          ],
          "contour": [
           {
            "colorbar": {
             "outlinewidth": 0,
             "ticks": ""
            },
            "colorscale": [
             [
              0,
              "#0d0887"
             ],
             [
              0.1111111111111111,
              "#46039f"
             ],
             [
              0.2222222222222222,
              "#7201a8"
             ],
             [
              0.3333333333333333,
              "#9c179e"
             ],
             [
              0.4444444444444444,
              "#bd3786"
             ],
             [
              0.5555555555555556,
              "#d8576b"
             ],
             [
              0.6666666666666666,
              "#ed7953"
             ],
             [
              0.7777777777777778,
              "#fb9f3a"
             ],
             [
              0.8888888888888888,
              "#fdca26"
             ],
             [
              1,
              "#f0f921"
             ]
            ],
            "type": "contour"
           }
          ],
          "contourcarpet": [
           {
            "colorbar": {
             "outlinewidth": 0,
             "ticks": ""
            },
            "type": "contourcarpet"
           }
          ],
          "heatmap": [
           {
            "colorbar": {
             "outlinewidth": 0,
             "ticks": ""
            },
            "colorscale": [
             [
              0,
              "#0d0887"
             ],
             [
              0.1111111111111111,
              "#46039f"
             ],
             [
              0.2222222222222222,
              "#7201a8"
             ],
             [
              0.3333333333333333,
              "#9c179e"
             ],
             [
              0.4444444444444444,
              "#bd3786"
             ],
             [
              0.5555555555555556,
              "#d8576b"
             ],
             [
              0.6666666666666666,
              "#ed7953"
             ],
             [
              0.7777777777777778,
              "#fb9f3a"
             ],
             [
              0.8888888888888888,
              "#fdca26"
             ],
             [
              1,
              "#f0f921"
             ]
            ],
            "type": "heatmap"
           }
          ],
          "heatmapgl": [
           {
            "colorbar": {
             "outlinewidth": 0,
             "ticks": ""
            },
            "colorscale": [
             [
              0,
              "#0d0887"
             ],
             [
              0.1111111111111111,
              "#46039f"
             ],
             [
              0.2222222222222222,
              "#7201a8"
             ],
             [
              0.3333333333333333,
              "#9c179e"
             ],
             [
              0.4444444444444444,
              "#bd3786"
             ],
             [
              0.5555555555555556,
              "#d8576b"
             ],
             [
              0.6666666666666666,
              "#ed7953"
             ],
             [
              0.7777777777777778,
              "#fb9f3a"
             ],
             [
              0.8888888888888888,
              "#fdca26"
             ],
             [
              1,
              "#f0f921"
             ]
            ],
            "type": "heatmapgl"
           }
          ],
          "histogram": [
           {
            "marker": {
             "pattern": {
              "fillmode": "overlay",
              "size": 10,
              "solidity": 0.2
             }
            },
            "type": "histogram"
           }
          ],
          "histogram2d": [
           {
            "colorbar": {
             "outlinewidth": 0,
             "ticks": ""
            },
            "colorscale": [
             [
              0,
              "#0d0887"
             ],
             [
              0.1111111111111111,
              "#46039f"
             ],
             [
              0.2222222222222222,
              "#7201a8"
             ],
             [
              0.3333333333333333,
              "#9c179e"
             ],
             [
              0.4444444444444444,
              "#bd3786"
             ],
             [
              0.5555555555555556,
              "#d8576b"
             ],
             [
              0.6666666666666666,
              "#ed7953"
             ],
             [
              0.7777777777777778,
              "#fb9f3a"
             ],
             [
              0.8888888888888888,
              "#fdca26"
             ],
             [
              1,
              "#f0f921"
             ]
            ],
            "type": "histogram2d"
           }
          ],
          "histogram2dcontour": [
           {
            "colorbar": {
             "outlinewidth": 0,
             "ticks": ""
            },
            "colorscale": [
             [
              0,
              "#0d0887"
             ],
             [
              0.1111111111111111,
              "#46039f"
             ],
             [
              0.2222222222222222,
              "#7201a8"
             ],
             [
              0.3333333333333333,
              "#9c179e"
             ],
             [
              0.4444444444444444,
              "#bd3786"
             ],
             [
              0.5555555555555556,
              "#d8576b"
             ],
             [
              0.6666666666666666,
              "#ed7953"
             ],
             [
              0.7777777777777778,
              "#fb9f3a"
             ],
             [
              0.8888888888888888,
              "#fdca26"
             ],
             [
              1,
              "#f0f921"
             ]
            ],
            "type": "histogram2dcontour"
           }
          ],
          "mesh3d": [
           {
            "colorbar": {
             "outlinewidth": 0,
             "ticks": ""
            },
            "type": "mesh3d"
           }
          ],
          "parcoords": [
           {
            "line": {
             "colorbar": {
              "outlinewidth": 0,
              "ticks": ""
             }
            },
            "type": "parcoords"
           }
          ],
          "pie": [
           {
            "automargin": true,
            "type": "pie"
           }
          ],
          "scatter": [
           {
            "marker": {
             "colorbar": {
              "outlinewidth": 0,
              "ticks": ""
             }
            },
            "type": "scatter"
           }
          ],
          "scatter3d": [
           {
            "line": {
             "colorbar": {
              "outlinewidth": 0,
              "ticks": ""
             }
            },
            "marker": {
             "colorbar": {
              "outlinewidth": 0,
              "ticks": ""
             }
            },
            "type": "scatter3d"
           }
          ],
          "scattercarpet": [
           {
            "marker": {
             "colorbar": {
              "outlinewidth": 0,
              "ticks": ""
             }
            },
            "type": "scattercarpet"
           }
          ],
          "scattergeo": [
           {
            "marker": {
             "colorbar": {
              "outlinewidth": 0,
              "ticks": ""
             }
            },
            "type": "scattergeo"
           }
          ],
          "scattergl": [
           {
            "marker": {
             "colorbar": {
              "outlinewidth": 0,
              "ticks": ""
             }
            },
            "type": "scattergl"
           }
          ],
          "scattermapbox": [
           {
            "marker": {
             "colorbar": {
              "outlinewidth": 0,
              "ticks": ""
             }
            },
            "type": "scattermapbox"
           }
          ],
          "scatterpolar": [
           {
            "marker": {
             "colorbar": {
              "outlinewidth": 0,
              "ticks": ""
             }
            },
            "type": "scatterpolar"
           }
          ],
          "scatterpolargl": [
           {
            "marker": {
             "colorbar": {
              "outlinewidth": 0,
              "ticks": ""
             }
            },
            "type": "scatterpolargl"
           }
          ],
          "scatterternary": [
           {
            "marker": {
             "colorbar": {
              "outlinewidth": 0,
              "ticks": ""
             }
            },
            "type": "scatterternary"
           }
          ],
          "surface": [
           {
            "colorbar": {
             "outlinewidth": 0,
             "ticks": ""
            },
            "colorscale": [
             [
              0,
              "#0d0887"
             ],
             [
              0.1111111111111111,
              "#46039f"
             ],
             [
              0.2222222222222222,
              "#7201a8"
             ],
             [
              0.3333333333333333,
              "#9c179e"
             ],
             [
              0.4444444444444444,
              "#bd3786"
             ],
             [
              0.5555555555555556,
              "#d8576b"
             ],
             [
              0.6666666666666666,
              "#ed7953"
             ],
             [
              0.7777777777777778,
              "#fb9f3a"
             ],
             [
              0.8888888888888888,
              "#fdca26"
             ],
             [
              1,
              "#f0f921"
             ]
            ],
            "type": "surface"
           }
          ],
          "table": [
           {
            "cells": {
             "fill": {
              "color": "#EBF0F8"
             },
             "line": {
              "color": "white"
             }
            },
            "header": {
             "fill": {
              "color": "#C8D4E3"
             },
             "line": {
              "color": "white"
             }
            },
            "type": "table"
           }
          ]
         },
         "layout": {
          "annotationdefaults": {
           "arrowcolor": "#2a3f5f",
           "arrowhead": 0,
           "arrowwidth": 1
          },
          "autotypenumbers": "strict",
          "coloraxis": {
           "colorbar": {
            "outlinewidth": 0,
            "ticks": ""
           }
          },
          "colorscale": {
           "diverging": [
            [
             0,
             "#8e0152"
            ],
            [
             0.1,
             "#c51b7d"
            ],
            [
             0.2,
             "#de77ae"
            ],
            [
             0.3,
             "#f1b6da"
            ],
            [
             0.4,
             "#fde0ef"
            ],
            [
             0.5,
             "#f7f7f7"
            ],
            [
             0.6,
             "#e6f5d0"
            ],
            [
             0.7,
             "#b8e186"
            ],
            [
             0.8,
             "#7fbc41"
            ],
            [
             0.9,
             "#4d9221"
            ],
            [
             1,
             "#276419"
            ]
           ],
           "sequential": [
            [
             0,
             "#0d0887"
            ],
            [
             0.1111111111111111,
             "#46039f"
            ],
            [
             0.2222222222222222,
             "#7201a8"
            ],
            [
             0.3333333333333333,
             "#9c179e"
            ],
            [
             0.4444444444444444,
             "#bd3786"
            ],
            [
             0.5555555555555556,
             "#d8576b"
            ],
            [
             0.6666666666666666,
             "#ed7953"
            ],
            [
             0.7777777777777778,
             "#fb9f3a"
            ],
            [
             0.8888888888888888,
             "#fdca26"
            ],
            [
             1,
             "#f0f921"
            ]
           ],
           "sequentialminus": [
            [
             0,
             "#0d0887"
            ],
            [
             0.1111111111111111,
             "#46039f"
            ],
            [
             0.2222222222222222,
             "#7201a8"
            ],
            [
             0.3333333333333333,
             "#9c179e"
            ],
            [
             0.4444444444444444,
             "#bd3786"
            ],
            [
             0.5555555555555556,
             "#d8576b"
            ],
            [
             0.6666666666666666,
             "#ed7953"
            ],
            [
             0.7777777777777778,
             "#fb9f3a"
            ],
            [
             0.8888888888888888,
             "#fdca26"
            ],
            [
             1,
             "#f0f921"
            ]
           ]
          },
          "colorway": [
           "#636efa",
           "#EF553B",
           "#00cc96",
           "#ab63fa",
           "#FFA15A",
           "#19d3f3",
           "#FF6692",
           "#B6E880",
           "#FF97FF",
           "#FECB52"
          ],
          "font": {
           "color": "#2a3f5f"
          },
          "geo": {
           "bgcolor": "white",
           "lakecolor": "white",
           "landcolor": "#E5ECF6",
           "showlakes": true,
           "showland": true,
           "subunitcolor": "white"
          },
          "hoverlabel": {
           "align": "left"
          },
          "hovermode": "closest",
          "mapbox": {
           "style": "light"
          },
          "paper_bgcolor": "white",
          "plot_bgcolor": "#E5ECF6",
          "polar": {
           "angularaxis": {
            "gridcolor": "white",
            "linecolor": "white",
            "ticks": ""
           },
           "bgcolor": "#E5ECF6",
           "radialaxis": {
            "gridcolor": "white",
            "linecolor": "white",
            "ticks": ""
           }
          },
          "scene": {
           "xaxis": {
            "backgroundcolor": "#E5ECF6",
            "gridcolor": "white",
            "gridwidth": 2,
            "linecolor": "white",
            "showbackground": true,
            "ticks": "",
            "zerolinecolor": "white"
           },
           "yaxis": {
            "backgroundcolor": "#E5ECF6",
            "gridcolor": "white",
            "gridwidth": 2,
            "linecolor": "white",
            "showbackground": true,
            "ticks": "",
            "zerolinecolor": "white"
           },
           "zaxis": {
            "backgroundcolor": "#E5ECF6",
            "gridcolor": "white",
            "gridwidth": 2,
            "linecolor": "white",
            "showbackground": true,
            "ticks": "",
            "zerolinecolor": "white"
           }
          },
          "shapedefaults": {
           "line": {
            "color": "#2a3f5f"
           }
          },
          "ternary": {
           "aaxis": {
            "gridcolor": "white",
            "linecolor": "white",
            "ticks": ""
           },
           "baxis": {
            "gridcolor": "white",
            "linecolor": "white",
            "ticks": ""
           },
           "bgcolor": "#E5ECF6",
           "caxis": {
            "gridcolor": "white",
            "linecolor": "white",
            "ticks": ""
           }
          },
          "title": {
           "x": 0.05
          },
          "xaxis": {
           "automargin": true,
           "gridcolor": "white",
           "linecolor": "white",
           "ticks": "",
           "title": {
            "standoff": 15
           },
           "zerolinecolor": "white",
           "zerolinewidth": 2
          },
          "yaxis": {
           "automargin": true,
           "gridcolor": "white",
           "linecolor": "white",
           "ticks": "",
           "title": {
            "standoff": 15
           },
           "zerolinecolor": "white",
           "zerolinewidth": 2
          }
         }
        },
        "xaxis": {
         "anchor": "y",
         "domain": [
          0,
          1
         ],
         "title": {
          "text": "City"
         }
        },
        "yaxis": {
         "anchor": "x",
         "domain": [
          0,
          1
         ],
         "title": {
          "text": "Count"
         }
        }
       }
      },
      "text/html": [
       "<div>                            <div id=\"06d8c318-8bb1-4222-8108-bba16305431b\" class=\"plotly-graph-div\" style=\"height:525px; width:100%;\"></div>            <script type=\"text/javascript\">                require([\"plotly\"], function(Plotly) {                    window.PLOTLYENV=window.PLOTLYENV || {};                                    if (document.getElementById(\"06d8c318-8bb1-4222-8108-bba16305431b\")) {                    Plotly.newPlot(                        \"06d8c318-8bb1-4222-8108-bba16305431b\",                        [{\"alignmentgroup\":\"True\",\"hovertemplate\":\"City=%{x}<br>Count=%{y}<extra></extra>\",\"legendgroup\":\"\",\"marker\":{\"color\":\"#636efa\",\"pattern\":{\"shape\":\"\"}},\"name\":\"\",\"offsetgroup\":\"\",\"orientation\":\"v\",\"showlegend\":false,\"textposition\":\"auto\",\"x\":[\"zurich \",\"basel \",\"bern \",\"st. gallen \",\"zug \",\"luzern \",\"genf \",\"baden \",\"freiburg \",\"schaffhausen \",\"winterthur \",\"solothurn \",\"lugano \",\"lausanne \",\"thun \",\"chur \",\"ittigen\",\"aarau \",\"wil \",\"glarus\",\"spreitenbach\",\"kreuzlingen\",\"frauenfeld \",\"arbon \",\"lenzburg \",\"kloten\",\"davos\",\"einsiedeln\",\"neuenburg \",\"liestal \",\"munsingen\",\"schwyz \",\"wald\",\"dietikon\",\"bulach \",\"sursee \",\"pratteln\",\"weinfelden\",\"flawil\",\"muttenz\",\"olten \",\"montreux\",\"wallisellen\",\"muri bei bern\",\"sitten \",\"kriens\",\"cham\",\"schlieren\",\"bulle \",\"ruti\",\"riehen\",\"payerne \",\"hinwil\",\"opfikon\",\"reinach\",\"dubendorf\",\"uster\",\"gossau\",\"gossau\",\"richterswil\",\"horgen\",\"wadenswil\",\"volketswil\",\"sarnen \",\"wettingen\",\"martigny \",\"brugg \",\"herisau\",\"bassersdorf\",\"steinhausen\",\"oberwil \",\"pfaffikon\",\"lyss\",\"birsfelden\",\"burgdorf \",\"baar\",\"buchs\"],\"xaxis\":\"x\",\"y\":[130,57,47,38,29,26,18,9,9,8,8,8,7,7,6,5,5,5,5,5,5,4,4,3,3,3,3,3,3,3,3,3,3,2,2,2,2,2,2,2,2,2,2,2,1,1,1,1,1,1,1,1,1,1,1,1,1,1,1,1,1,1,1,1,1,1,1,1,1,1,1,1,1,1,1,1,1],\"yaxis\":\"y\",\"type\":\"bar\"}],                        {\"template\":{\"data\":{\"bar\":[{\"error_x\":{\"color\":\"#2a3f5f\"},\"error_y\":{\"color\":\"#2a3f5f\"},\"marker\":{\"line\":{\"color\":\"#E5ECF6\",\"width\":0.5},\"pattern\":{\"fillmode\":\"overlay\",\"size\":10,\"solidity\":0.2}},\"type\":\"bar\"}],\"barpolar\":[{\"marker\":{\"line\":{\"color\":\"#E5ECF6\",\"width\":0.5},\"pattern\":{\"fillmode\":\"overlay\",\"size\":10,\"solidity\":0.2}},\"type\":\"barpolar\"}],\"carpet\":[{\"aaxis\":{\"endlinecolor\":\"#2a3f5f\",\"gridcolor\":\"white\",\"linecolor\":\"white\",\"minorgridcolor\":\"white\",\"startlinecolor\":\"#2a3f5f\"},\"baxis\":{\"endlinecolor\":\"#2a3f5f\",\"gridcolor\":\"white\",\"linecolor\":\"white\",\"minorgridcolor\":\"white\",\"startlinecolor\":\"#2a3f5f\"},\"type\":\"carpet\"}],\"choropleth\":[{\"colorbar\":{\"outlinewidth\":0,\"ticks\":\"\"},\"type\":\"choropleth\"}],\"contour\":[{\"colorbar\":{\"outlinewidth\":0,\"ticks\":\"\"},\"colorscale\":[[0.0,\"#0d0887\"],[0.1111111111111111,\"#46039f\"],[0.2222222222222222,\"#7201a8\"],[0.3333333333333333,\"#9c179e\"],[0.4444444444444444,\"#bd3786\"],[0.5555555555555556,\"#d8576b\"],[0.6666666666666666,\"#ed7953\"],[0.7777777777777778,\"#fb9f3a\"],[0.8888888888888888,\"#fdca26\"],[1.0,\"#f0f921\"]],\"type\":\"contour\"}],\"contourcarpet\":[{\"colorbar\":{\"outlinewidth\":0,\"ticks\":\"\"},\"type\":\"contourcarpet\"}],\"heatmap\":[{\"colorbar\":{\"outlinewidth\":0,\"ticks\":\"\"},\"colorscale\":[[0.0,\"#0d0887\"],[0.1111111111111111,\"#46039f\"],[0.2222222222222222,\"#7201a8\"],[0.3333333333333333,\"#9c179e\"],[0.4444444444444444,\"#bd3786\"],[0.5555555555555556,\"#d8576b\"],[0.6666666666666666,\"#ed7953\"],[0.7777777777777778,\"#fb9f3a\"],[0.8888888888888888,\"#fdca26\"],[1.0,\"#f0f921\"]],\"type\":\"heatmap\"}],\"heatmapgl\":[{\"colorbar\":{\"outlinewidth\":0,\"ticks\":\"\"},\"colorscale\":[[0.0,\"#0d0887\"],[0.1111111111111111,\"#46039f\"],[0.2222222222222222,\"#7201a8\"],[0.3333333333333333,\"#9c179e\"],[0.4444444444444444,\"#bd3786\"],[0.5555555555555556,\"#d8576b\"],[0.6666666666666666,\"#ed7953\"],[0.7777777777777778,\"#fb9f3a\"],[0.8888888888888888,\"#fdca26\"],[1.0,\"#f0f921\"]],\"type\":\"heatmapgl\"}],\"histogram\":[{\"marker\":{\"pattern\":{\"fillmode\":\"overlay\",\"size\":10,\"solidity\":0.2}},\"type\":\"histogram\"}],\"histogram2d\":[{\"colorbar\":{\"outlinewidth\":0,\"ticks\":\"\"},\"colorscale\":[[0.0,\"#0d0887\"],[0.1111111111111111,\"#46039f\"],[0.2222222222222222,\"#7201a8\"],[0.3333333333333333,\"#9c179e\"],[0.4444444444444444,\"#bd3786\"],[0.5555555555555556,\"#d8576b\"],[0.6666666666666666,\"#ed7953\"],[0.7777777777777778,\"#fb9f3a\"],[0.8888888888888888,\"#fdca26\"],[1.0,\"#f0f921\"]],\"type\":\"histogram2d\"}],\"histogram2dcontour\":[{\"colorbar\":{\"outlinewidth\":0,\"ticks\":\"\"},\"colorscale\":[[0.0,\"#0d0887\"],[0.1111111111111111,\"#46039f\"],[0.2222222222222222,\"#7201a8\"],[0.3333333333333333,\"#9c179e\"],[0.4444444444444444,\"#bd3786\"],[0.5555555555555556,\"#d8576b\"],[0.6666666666666666,\"#ed7953\"],[0.7777777777777778,\"#fb9f3a\"],[0.8888888888888888,\"#fdca26\"],[1.0,\"#f0f921\"]],\"type\":\"histogram2dcontour\"}],\"mesh3d\":[{\"colorbar\":{\"outlinewidth\":0,\"ticks\":\"\"},\"type\":\"mesh3d\"}],\"parcoords\":[{\"line\":{\"colorbar\":{\"outlinewidth\":0,\"ticks\":\"\"}},\"type\":\"parcoords\"}],\"pie\":[{\"automargin\":true,\"type\":\"pie\"}],\"scatter\":[{\"marker\":{\"colorbar\":{\"outlinewidth\":0,\"ticks\":\"\"}},\"type\":\"scatter\"}],\"scatter3d\":[{\"line\":{\"colorbar\":{\"outlinewidth\":0,\"ticks\":\"\"}},\"marker\":{\"colorbar\":{\"outlinewidth\":0,\"ticks\":\"\"}},\"type\":\"scatter3d\"}],\"scattercarpet\":[{\"marker\":{\"colorbar\":{\"outlinewidth\":0,\"ticks\":\"\"}},\"type\":\"scattercarpet\"}],\"scattergeo\":[{\"marker\":{\"colorbar\":{\"outlinewidth\":0,\"ticks\":\"\"}},\"type\":\"scattergeo\"}],\"scattergl\":[{\"marker\":{\"colorbar\":{\"outlinewidth\":0,\"ticks\":\"\"}},\"type\":\"scattergl\"}],\"scattermapbox\":[{\"marker\":{\"colorbar\":{\"outlinewidth\":0,\"ticks\":\"\"}},\"type\":\"scattermapbox\"}],\"scatterpolar\":[{\"marker\":{\"colorbar\":{\"outlinewidth\":0,\"ticks\":\"\"}},\"type\":\"scatterpolar\"}],\"scatterpolargl\":[{\"marker\":{\"colorbar\":{\"outlinewidth\":0,\"ticks\":\"\"}},\"type\":\"scatterpolargl\"}],\"scatterternary\":[{\"marker\":{\"colorbar\":{\"outlinewidth\":0,\"ticks\":\"\"}},\"type\":\"scatterternary\"}],\"surface\":[{\"colorbar\":{\"outlinewidth\":0,\"ticks\":\"\"},\"colorscale\":[[0.0,\"#0d0887\"],[0.1111111111111111,\"#46039f\"],[0.2222222222222222,\"#7201a8\"],[0.3333333333333333,\"#9c179e\"],[0.4444444444444444,\"#bd3786\"],[0.5555555555555556,\"#d8576b\"],[0.6666666666666666,\"#ed7953\"],[0.7777777777777778,\"#fb9f3a\"],[0.8888888888888888,\"#fdca26\"],[1.0,\"#f0f921\"]],\"type\":\"surface\"}],\"table\":[{\"cells\":{\"fill\":{\"color\":\"#EBF0F8\"},\"line\":{\"color\":\"white\"}},\"header\":{\"fill\":{\"color\":\"#C8D4E3\"},\"line\":{\"color\":\"white\"}},\"type\":\"table\"}]},\"layout\":{\"annotationdefaults\":{\"arrowcolor\":\"#2a3f5f\",\"arrowhead\":0,\"arrowwidth\":1},\"autotypenumbers\":\"strict\",\"coloraxis\":{\"colorbar\":{\"outlinewidth\":0,\"ticks\":\"\"}},\"colorscale\":{\"diverging\":[[0,\"#8e0152\"],[0.1,\"#c51b7d\"],[0.2,\"#de77ae\"],[0.3,\"#f1b6da\"],[0.4,\"#fde0ef\"],[0.5,\"#f7f7f7\"],[0.6,\"#e6f5d0\"],[0.7,\"#b8e186\"],[0.8,\"#7fbc41\"],[0.9,\"#4d9221\"],[1,\"#276419\"]],\"sequential\":[[0.0,\"#0d0887\"],[0.1111111111111111,\"#46039f\"],[0.2222222222222222,\"#7201a8\"],[0.3333333333333333,\"#9c179e\"],[0.4444444444444444,\"#bd3786\"],[0.5555555555555556,\"#d8576b\"],[0.6666666666666666,\"#ed7953\"],[0.7777777777777778,\"#fb9f3a\"],[0.8888888888888888,\"#fdca26\"],[1.0,\"#f0f921\"]],\"sequentialminus\":[[0.0,\"#0d0887\"],[0.1111111111111111,\"#46039f\"],[0.2222222222222222,\"#7201a8\"],[0.3333333333333333,\"#9c179e\"],[0.4444444444444444,\"#bd3786\"],[0.5555555555555556,\"#d8576b\"],[0.6666666666666666,\"#ed7953\"],[0.7777777777777778,\"#fb9f3a\"],[0.8888888888888888,\"#fdca26\"],[1.0,\"#f0f921\"]]},\"colorway\":[\"#636efa\",\"#EF553B\",\"#00cc96\",\"#ab63fa\",\"#FFA15A\",\"#19d3f3\",\"#FF6692\",\"#B6E880\",\"#FF97FF\",\"#FECB52\"],\"font\":{\"color\":\"#2a3f5f\"},\"geo\":{\"bgcolor\":\"white\",\"lakecolor\":\"white\",\"landcolor\":\"#E5ECF6\",\"showlakes\":true,\"showland\":true,\"subunitcolor\":\"white\"},\"hoverlabel\":{\"align\":\"left\"},\"hovermode\":\"closest\",\"mapbox\":{\"style\":\"light\"},\"paper_bgcolor\":\"white\",\"plot_bgcolor\":\"#E5ECF6\",\"polar\":{\"angularaxis\":{\"gridcolor\":\"white\",\"linecolor\":\"white\",\"ticks\":\"\"},\"bgcolor\":\"#E5ECF6\",\"radialaxis\":{\"gridcolor\":\"white\",\"linecolor\":\"white\",\"ticks\":\"\"}},\"scene\":{\"xaxis\":{\"backgroundcolor\":\"#E5ECF6\",\"gridcolor\":\"white\",\"gridwidth\":2,\"linecolor\":\"white\",\"showbackground\":true,\"ticks\":\"\",\"zerolinecolor\":\"white\"},\"yaxis\":{\"backgroundcolor\":\"#E5ECF6\",\"gridcolor\":\"white\",\"gridwidth\":2,\"linecolor\":\"white\",\"showbackground\":true,\"ticks\":\"\",\"zerolinecolor\":\"white\"},\"zaxis\":{\"backgroundcolor\":\"#E5ECF6\",\"gridcolor\":\"white\",\"gridwidth\":2,\"linecolor\":\"white\",\"showbackground\":true,\"ticks\":\"\",\"zerolinecolor\":\"white\"}},\"shapedefaults\":{\"line\":{\"color\":\"#2a3f5f\"}},\"ternary\":{\"aaxis\":{\"gridcolor\":\"white\",\"linecolor\":\"white\",\"ticks\":\"\"},\"baxis\":{\"gridcolor\":\"white\",\"linecolor\":\"white\",\"ticks\":\"\"},\"bgcolor\":\"#E5ECF6\",\"caxis\":{\"gridcolor\":\"white\",\"linecolor\":\"white\",\"ticks\":\"\"}},\"title\":{\"x\":0.05},\"xaxis\":{\"automargin\":true,\"gridcolor\":\"white\",\"linecolor\":\"white\",\"ticks\":\"\",\"title\":{\"standoff\":15},\"zerolinecolor\":\"white\",\"zerolinewidth\":2},\"yaxis\":{\"automargin\":true,\"gridcolor\":\"white\",\"linecolor\":\"white\",\"ticks\":\"\",\"title\":{\"standoff\":15},\"zerolinecolor\":\"white\",\"zerolinewidth\":2}}},\"xaxis\":{\"anchor\":\"y\",\"domain\":[0.0,1.0],\"title\":{\"text\":\"City\"}},\"yaxis\":{\"anchor\":\"x\",\"domain\":[0.0,1.0],\"title\":{\"text\":\"Count\"}},\"legend\":{\"tracegroupgap\":0},\"margin\":{\"t\":60},\"barmode\":\"relative\"},                        {\"responsive\": true}                    ).then(function(){\n",
       "                            \n",
       "var gd = document.getElementById('06d8c318-8bb1-4222-8108-bba16305431b');\n",
       "var x = new MutationObserver(function (mutations, observer) {{\n",
       "        var display = window.getComputedStyle(gd).display;\n",
       "        if (!display || display === 'none') {{\n",
       "            console.log([gd, 'removed!']);\n",
       "            Plotly.purge(gd);\n",
       "            observer.disconnect();\n",
       "        }}\n",
       "}});\n",
       "\n",
       "// Listen for the removal of the full notebook cells\n",
       "var notebookContainer = gd.closest('#notebook-container');\n",
       "if (notebookContainer) {{\n",
       "    x.observe(notebookContainer, {childList: true});\n",
       "}}\n",
       "\n",
       "// Listen for the clearing of the current output cell\n",
       "var outputEl = gd.closest('.output');\n",
       "if (outputEl) {{\n",
       "    x.observe(outputEl, {childList: true});\n",
       "}}\n",
       "\n",
       "                        })                };                });            </script>        </div>"
      ]
     },
     "metadata": {},
     "output_type": "display_data"
    }
   ],
   "source": [
    "# Interactive bar chart for top Swiss cities\n",
    "fig_bar_city = px.bar(df_city_count_data.sort_values('Count', ascending=False),\n",
    "                      x=\"City\",\n",
    "                      y=\"Count\")\n",
    "fig_bar_city.show()\n"
   ]
  }
 ],
 "metadata": {
  "kernelspec": {
   "display_name": "Python 3 (ipykernel)",
   "language": "python",
   "name": "python3"
  },
  "language_info": {
   "codemirror_mode": {
    "name": "ipython",
    "version": 3
   },
   "file_extension": ".py",
   "mimetype": "text/x-python",
   "name": "python",
   "nbconvert_exporter": "python",
   "pygments_lexer": "ipython3",
   "version": "3.9.12"
  }
 },
 "nbformat": 4,
 "nbformat_minor": 5
}
