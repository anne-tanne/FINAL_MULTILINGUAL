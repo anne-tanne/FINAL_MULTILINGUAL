{
 "cells": [
  {
   "cell_type": "code",
   "execution_count": null,
   "id": "1e3cc2a6",
   "metadata": {},
   "outputs": [],
   "source": [
    "import pandas as pd\n",
    "import spacy\n",
    "import deepl\n",
    "import requests\n",
    "import folium\n",
    "import plotly.express as px"
   ]
  },
  {
   "cell_type": "code",
   "execution_count": null,
   "id": "85c25b1a",
   "metadata": {},
   "outputs": [],
   "source": [
    "# Initialize DeepL translator\n",
    "\n",
    "api_key = \"6780cef2-4c9d-787f-4999-9649bd278538:fx\"\n",
    "translator = deepl.Translator(api_key)"
   ]
  },
  {
   "cell_type": "code",
   "execution_count": null,
   "id": "fc9e0598",
   "metadata": {},
   "outputs": [],
   "source": [
    "# Load SpaCy language models for German\n",
    "nlp1 = spacy.load(\"de_core_news_sm\")\n",
    "nlp2 = spacy.load('de_core_news_md')\n",
    "nlp3 = spacy.load('de_core_news_lg')"
   ]
  },
  {
   "cell_type": "code",
   "execution_count": null,
   "id": "b1bf0c24",
   "metadata": {},
   "outputs": [],
   "source": [
    "# Read data from CSV files\n",
    "\n",
    "df_german = pd.read_csv('../scraping/data/extractor_all_articles_20minuten.csv')\n",
    "df_french = pd.read_csv('../scraping/data/extractor_all_articles_20minutes.csv')\n",
    "df_italian = pd.read_csv('../scraping/data/extractor_all_articles_20minuti.csv')"
   ]
  },
  {
   "cell_type": "code",
   "execution_count": null,
   "id": "3212d61b",
   "metadata": {},
   "outputs": [],
   "source": [
    "# Load a list of known locations\n",
    "dict_all_countries = pd.read_csv('dicts/allCountries.csv')\n",
    "known_locations = set(dict_all_countries['LocationName'])\n",
    "dict_all_countries['BiggerEntity'] = dict_all_countries['CountryName'].str.split('/').str[-1]"
   ]
  },
  {
   "cell_type": "code",
   "execution_count": null,
   "id": "e31f8bb0",
   "metadata": {},
   "outputs": [],
   "source": [
    "# Define a function to translate text to German using DeepL\n",
    "def translate_to_german(text):\n",
    "    try:\n",
    "        result = translator.translate_text(text, target_lang=\"DE\")\n",
    "        return result.text\n",
    "    except Exception as e:\n",
    "        print(f\"An error occurred during translation: {e}\")\n",
    "        return None"
   ]
  },
  {
   "cell_type": "code",
   "execution_count": null,
   "id": "2f062d60",
   "metadata": {},
   "outputs": [],
   "source": [
    "# Translate unique location names to German\n",
    "unique_location_names = dict_all_countries['BiggerEntity'].unique()\n",
    "translated_names = {name: translate_to_german(name) for name in unique_location_names}\n",
    "name_translation_mapping = {original: translated_names[original] for original in unique_location_names}\n",
    "dict_all_countries['BiggerEntity_German'] = dict_all_countries['BiggerEntity'].map(name_translation_mapping)\n",
    "new_locations = set(dict_all_countries['BiggerEntity_German'].unique())\n",
    "known_locations.update(new_locations)"
   ]
  },
  {
   "cell_type": "code",
   "execution_count": null,
   "id": "952f1901",
   "metadata": {},
   "outputs": [],
   "source": [
    "# Function to extract locations with voting system, converting text to lowercase\n",
    "\n",
    "def extract_locations_with_voting_system(text, known_locations):\n",
    "    text = text.lower()\n",
    "    \n",
    "    doc1 = nlp1(text)\n",
    "    doc2 = nlp2(text)\n",
    "    doc3 = nlp3(text)\n",
    "    \n",
    "    locations1 = {ent.text.lower() for ent in doc1.ents if ent.label_ == 'LOC'}\n",
    "    locations2 = {ent.text.lower() for ent in doc2.ents if ent.label_ == 'LOC'}\n",
    "    locations3 = {ent.text.lower() for ent in doc3.ents if ent.label_ == 'LOC'}\n",
    "    \n",
    "    all_locations = locations1 | locations2 | locations3\n",
    "    final_locations = {loc for loc in all_locations if sum([loc in locations for locations in [locations1, locations2, locations3]]) >= 2}\n",
    "    \n",
    "    lower_known_locations = {loc.lower() for loc in known_locations}\n",
    "    \n",
    "    final_known_locations = {loc for loc in final_locations if loc in lower_known_locations}\n",
    "    \n",
    "    return final_known_locations"
   ]
  },
  {
   "cell_type": "code",
   "execution_count": null,
   "id": "4c27abed",
   "metadata": {},
   "outputs": [],
   "source": [
    "# Function to merge similar location entities\n",
    "def merge_similar_entities(entities):\n",
    "    merged_entities = set()\n",
    "    for entity in entities:\n",
    "        if not any(e for e in merged_entities if entity in e or e in entity):\n",
    "            merged_entities.add(entity)\n",
    "    return merged_entities\n"
   ]
  },
  {
   "cell_type": "code",
   "execution_count": null,
   "id": "ffab8009",
   "metadata": {},
   "outputs": [],
   "source": [
    "def normalize_location(loc):\n",
    "    articles = {'der', 'die', 'das', 'den'}\n",
    "    words = loc.split()\n",
    "    normalized_words = [word for word in words if word.lower() not in articles]\n",
    "    return ' '.join(normalized_words)"
   ]
  },
  {
   "cell_type": "code",
   "execution_count": null,
   "id": "a71b448c",
   "metadata": {},
   "outputs": [],
   "source": [
    "lower_known_locations = {location.lower() for location in known_locations if location is not None}\n",
    "df_german['Content'] = df_german['Content'].str.lower()"
   ]
  },
  {
   "cell_type": "code",
   "execution_count": null,
   "id": "3bb26c2a",
   "metadata": {},
   "outputs": [],
   "source": [
    "# Apply location extraction with voting system\n",
    "df_german['Voted_Locations'] = df_german['Content'].apply(lambda text: extract_locations_with_voting_system(text, lower_known_locations))\n"
   ]
  },
  {
   "cell_type": "code",
   "execution_count": null,
   "id": "3cb497fd",
   "metadata": {},
   "outputs": [],
   "source": [
    "# Create a bar chart showing location counts\n",
    "voted_location_counts_new = df_german['Voted_Locations'].explode().value_counts()\n"
   ]
  },
  {
   "cell_type": "code",
   "execution_count": null,
   "id": "ef882d20",
   "metadata": {},
   "outputs": [],
   "source": [
    "# Remove specific entries from the set of location counts\n",
    "entries_to remove = {'st.', 'bund'}\n",
    "voted_location_counts_new = {entry for entry in voted_location_counts_new if entry not in entries_to_remove}\n"
   ]
  },
  {
   "cell_type": "code",
   "execution_count": null,
   "id": "b7274af5",
   "metadata": {},
   "outputs": [],
   "source": [
    "# Create a DataFrame with location counts\n",
    "df_voted_locations = voted_location_counts_new.reset_index()\n",
    "df_voted_locations.columns = ['LocationName', 'Count']\n"
   ]
  },
  {
   "cell_type": "code",
   "execution_count": null,
   "id": "83200651",
   "metadata": {},
   "outputs": [],
   "source": [
    "# Remove specific entries from the DataFrame\n",
    "entries_to_remove = {'st.', 'tiktok', 'us-präsident', 'problem', 'bund', 'hause', 'land', 'erde', 'aa', 'instagram', 'bundesgericht', 'ki', 'bewohner', 'züri fäscht', 'gesamt-skigebiet', 'bildstrecke'}\n",
    "df_voted_locations = df_voted_locations[~df_voted_locations['LocationName'].isin(entries_to_remove)]\n"
   ]
  },
  {
   "cell_type": "code",
   "execution_count": null,
   "id": "349a8cf4",
   "metadata": {},
   "outputs": [],
   "source": [
    "# Save the location counts to a CSV file\n",
    "file_path = 'data/occuring_locations_german.csv'\n",
    "df_voted_locations.to_csv(file_path, index=False)\n",
    "\n",
    "# Create a bar chart using Plotly Express to visualize the location counts\n",
    "fig = px.bar(df_top20, x='LocationName', y='Count',\n",
    "             title='Top 20 Mentioned Locations',\n",
    "             labels={'LocationName': 'Location Name', 'Count': 'Count'},\n",
    "             color='Count')\n",
    "\n",
    "# Show the figure\n",
    "fig.show()\n"
   ]
  }
 ],
 "metadata": {
  "kernelspec": {
   "display_name": "Python 3 (ipykernel)",
   "language": "python",
   "name": "python3"
  },
  "language_info": {
   "codemirror_mode": {
    "name": "ipython",
    "version": 3
   },
   "file_extension": ".py",
   "mimetype": "text/x-python",
   "name": "python",
   "nbconvert_exporter": "python",
   "pygments_lexer": "ipython3",
   "version": "3.9.12"
  }
 },
 "nbformat": 4,
 "nbformat_minor": 5
}
