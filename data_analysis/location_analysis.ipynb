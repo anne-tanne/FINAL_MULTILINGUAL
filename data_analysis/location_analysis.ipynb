{
 "cells": [
  {
   "cell_type": "code",
   "execution_count": 3,
   "id": "c2445131",
   "metadata": {},
   "outputs": [],
   "source": [
    "import pandas as pd\n",
    "import spacy"
   ]
  },
  {
   "cell_type": "code",
   "execution_count": 21,
   "id": "9da023cd",
   "metadata": {},
   "outputs": [],
   "source": [
    "nlp1 = spacy.load(\"de_core_news_sm\")  # Model 1\n",
    "nlp2 = spacy.load('de_core_news_md')  # Model 2\n",
    "nlp3 = spacy.load('de_core_news_lg')  # Model 3"
   ]
  },
  {
   "cell_type": "code",
   "execution_count": 8,
   "id": "f45cc6c0",
   "metadata": {},
   "outputs": [],
   "source": [
    "df_german = pd.read_csv('../scraping/data/extractor_all_articles_20minuten.csv')\n",
    "df_french = pd.read_csv('../scraping/data/extractor_all_articles_20minutes.csv')\n",
    "df_italian = pd.read_csv('../scraping/data/extractor_all_articles_20minuti.csv')"
   ]
  },
  {
   "cell_type": "code",
   "execution_count": 19,
   "id": "2f2f60ad",
   "metadata": {},
   "outputs": [],
   "source": [
    "def extract_locations_with_voting_system(text):\n",
    "    # Process the text with all three models\n",
    "    doc1 = nlp1(text)\n",
    "    doc2 = nlp2(text)\n",
    "    doc3 = nlp3(text)\n",
    "    \n",
    "    # Extract locations from each model\n",
    "    locations1 = {ent.text for ent in doc1.ents if ent.label_ == 'LOC'}\n",
    "    locations2 = {ent.text for ent in doc2.ents if ent.label_ == 'LOC'}\n",
    "    locations3 = {ent.text for ent in doc3.ents if ent.label_ == 'LOC'}\n",
    "    \n",
    "    # Perform a majority vote\n",
    "    all_locations = locations1 | locations2 | locations3\n",
    "    final_locations = {loc for loc in all_locations if sum([loc in locations for locations in [locations1, locations2, locations3]]) >= 2}\n",
    "    \n",
    "    return final_locations"
   ]
  },
  {
   "cell_type": "code",
   "execution_count": null,
   "id": "f1dd4b64",
   "metadata": {},
   "outputs": [],
   "source": [
    "def extract_locations(text):\n",
    "    doc = nlp1(text)\n",
    "    locations = [ent.text for ent in doc.ents if ent.label_ == 'LOC']\n",
    "    return locations"
   ]
  },
  {
   "cell_type": "code",
   "execution_count": 23,
   "id": "a64cd85f",
   "metadata": {},
   "outputs": [],
   "source": [
    "df_german['Voted_Locations'] = df_german['Content'].apply(extract_locations_with_voting_system)"
   ]
  },
  {
   "cell_type": "code",
   "execution_count": 24,
   "id": "96506e75",
   "metadata": {},
   "outputs": [],
   "source": [
    "df_german_exploded = df_german.explode('Voted_Locations')"
   ]
  },
  {
   "cell_type": "code",
   "execution_count": 25,
   "id": "64ec6b88",
   "metadata": {},
   "outputs": [],
   "source": [
    "location_counts_voted = df_german_exploded['Voted_Locations'].value_counts()"
   ]
  },
  {
   "cell_type": "code",
   "execution_count": 26,
   "id": "2355999d",
   "metadata": {},
   "outputs": [
    {
     "data": {
      "text/plain": [
       "Schweiz            131\n",
       "der Schweiz         83\n",
       "Zürich              70\n",
       "Franken             61\n",
       "Deutschland         58\n",
       "                  ... \n",
       "Schöneichtunnel      1\n",
       "Schwamendingen       1\n",
       "Deftiges             1\n",
       "Süsses               1\n",
       "Luchswiesen          1\n",
       "Name: Voted_Locations, Length: 2515, dtype: int64"
      ]
     },
     "execution_count": 26,
     "metadata": {},
     "output_type": "execute_result"
    }
   ],
   "source": [
    "location_counts_voted"
   ]
  },
  {
   "cell_type": "code",
   "execution_count": 29,
   "id": "a229ac0b",
   "metadata": {},
   "outputs": [],
   "source": [
    "# Apply the function to the 'Content' column\n",
    "df_german['Locations'] = df_german['Content'].apply(extract_locations)"
   ]
  },
  {
   "cell_type": "code",
   "execution_count": 30,
   "id": "093b7c36",
   "metadata": {},
   "outputs": [],
   "source": [
    "# Count occurrences of each location\n",
    "location_counts = df_german['Locations'].explode().value_counts()"
   ]
  },
  {
   "cell_type": "code",
   "execution_count": 37,
   "id": "10579342",
   "metadata": {},
   "outputs": [
    {
     "data": {
      "text/plain": [
       "Schweiz                        235\n",
       "Israel                         130\n",
       "Franken                        116\n",
       "Zürich                         106\n",
       "Deutschland                     93\n",
       "                              ... \n",
       "Leverkusen-Trainer               1\n",
       "Bayern-Coach                     1\n",
       "Guardiola                        1\n",
       "Dietlikon                        1\n",
       "VBZ-Haltestelle Luchswiesen      1\n",
       "Name: Locations, Length: 3442, dtype: int64"
      ]
     },
     "execution_count": 37,
     "metadata": {},
     "output_type": "execute_result"
    }
   ],
   "source": [
    "# Display the results\n",
    "location_counts"
   ]
  },
  {
   "cell_type": "code",
   "execution_count": 39,
   "id": "93394df9",
   "metadata": {},
   "outputs": [],
   "source": [
    "df_german.to_csv('data/updated_german_locations.csv', index=False)\n"
   ]
  }
 ],
 "metadata": {
  "kernelspec": {
   "display_name": "Python 3 (ipykernel)",
   "language": "python",
   "name": "python3"
  },
  "language_info": {
   "codemirror_mode": {
    "name": "ipython",
    "version": 3
   },
   "file_extension": ".py",
   "mimetype": "text/x-python",
   "name": "python",
   "nbconvert_exporter": "python",
   "pygments_lexer": "ipython3",
   "version": "3.9.12"
  }
 },
 "nbformat": 4,
 "nbformat_minor": 5
}
