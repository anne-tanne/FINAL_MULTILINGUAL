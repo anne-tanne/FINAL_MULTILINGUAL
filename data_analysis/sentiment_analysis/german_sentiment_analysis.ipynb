{
 "cells": [
  {
   "cell_type": "code",
   "execution_count": 17,
   "id": "d2d3dd01",
   "metadata": {},
   "outputs": [],
   "source": [
    "import pandas as pd\n",
    "from transformers import AutoTokenizer, TFAutoModelForSequenceClassification\n",
    "from transformers import pipeline\n",
    "import sentencepiece\n",
    "from germansentiment import SentimentModel"
   ]
  },
  {
   "cell_type": "code",
   "execution_count": 5,
   "id": "928b5b92",
   "metadata": {},
   "outputs": [],
   "source": [
    "df_german = pd.read_csv('../location_analysis/data/df_german_with_mentions.csv')"
   ]
  },
  {
   "cell_type": "code",
   "execution_count": 8,
   "id": "a7e1ebdc",
   "metadata": {},
   "outputs": [],
   "source": [
    "german_sentiment_model = SentimentModel()\n"
   ]
  },
  {
   "cell_type": "code",
   "execution_count": 9,
   "id": "6a791594",
   "metadata": {},
   "outputs": [],
   "source": [
    "def analyze_german_sentiment(title):\n",
    "    classes, probabilities = german_sentiment_model.predict_sentiment([title], output_probabilities=True)\n",
    "    prob_dict = {sentiment: prob for sentiment, prob in probabilities[0]}\n",
    "    prob_pos = round(prob_dict.get('positive', 0), 5)\n",
    "    prob_neg = round(prob_dict.get('negative', 0), 5)\n",
    "    prob_neu = round(prob_dict.get('neutral', 0), 5)\n",
    "    return classes[0], prob_pos, prob_neg, prob_neu\n"
   ]
  },
  {
   "cell_type": "code",
   "execution_count": 10,
   "id": "4190d6b3",
   "metadata": {},
   "outputs": [],
   "source": [
    "df_german[['Sentiment', 'Probability_Pos', 'Probability_Neg', 'Probability_Neu']] = df_german['Title'].apply(lambda title: pd.Series(analyze_german_sentiment(title)))\n"
   ]
  },
  {
   "cell_type": "code",
   "execution_count": 20,
   "id": "d72c4f73-3a7a-4e66-8d0c-d20ecb350430",
   "metadata": {},
   "outputs": [],
   "source": [
    "def set_score(row):\n",
    "    if row['Sentiment'] == 'positive':\n",
    "        return row['Probability_Pos']\n",
    "    elif row['Sentiment'] == 'negative':\n",
    "        return row['Probability_Neg']\n",
    "    elif row['Sentiment'] == 'neutral':\n",
    "        return row['Probability_Neu']\n",
    "    return None"
   ]
  },
  {
   "cell_type": "code",
   "execution_count": 23,
   "id": "feb171c7-1d30-4e3d-a5ab-f1a78a6a9715",
   "metadata": {},
   "outputs": [],
   "source": [
    "df_german['Confidence'] = df_german.apply(set_score, axis=1)\n",
    "df_german = df_german.reindex(columns=['Title', 'Header', 'Content', 'Mentioned_Countries', 'Mentioned_Swiss_Cities', 'Sentiment', 'Confidence', 'Probability_Neu','Probability_Neg', 'Probability_Pos'])"
   ]
  },
  {
   "cell_type": "markdown",
   "id": "8c6916ff-0649-4808-b9e6-77115e8881bc",
   "metadata": {},
   "source": [
    "Export"
   ]
  },
  {
   "cell_type": "code",
   "execution_count": 29,
   "id": "c18f5b66-3e2a-464c-b485-164928e1517d",
   "metadata": {},
   "outputs": [],
   "source": [
    "file_path = '../location_analysis/data/df_german_with_mentions_sentiment.csv'\n",
    "df_german.to_csv(file_path)"
   ]
  }
 ],
 "metadata": {
  "kernelspec": {
   "display_name": "Python 3 (ipykernel)",
   "language": "python",
   "name": "python3"
  },
  "language_info": {
   "codemirror_mode": {
    "name": "ipython",
    "version": 3
   },
   "file_extension": ".py",
   "mimetype": "text/x-python",
   "name": "python",
   "nbconvert_exporter": "python",
   "pygments_lexer": "ipython3",
   "version": "3.9.18"
  }
 },
 "nbformat": 4,
 "nbformat_minor": 5
}
